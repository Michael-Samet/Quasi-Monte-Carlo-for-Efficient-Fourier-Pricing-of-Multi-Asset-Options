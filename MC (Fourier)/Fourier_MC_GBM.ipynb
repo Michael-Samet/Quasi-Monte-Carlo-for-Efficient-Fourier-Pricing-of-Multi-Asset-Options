{
  "nbformat": 4,
  "nbformat_minor": 0,
  "metadata": {
    "colab": {
      "provenance": []
    },
    "kernelspec": {
      "name": "python3",
      "display_name": "Python 3"
    },
    "language_info": {
      "name": "python"
    }
  },
  "cells": [
    {
      "cell_type": "code",
      "source": [
        "import scipy.stats as ss\n",
        "import scipy.special\n",
        "from scipy import optimize\n",
        "from mpmath import gamma\n",
        "import numpy as np\n",
        "import scipy\n",
        "from scipy.stats import norm\n",
        "from numpy import linalg as la\n",
        "from scipy import sparse\n",
        "from scipy.sparse.linalg import spsolve\n",
        "import pandas as pd\n",
        "from scipy.stats import multivariate_normal\n",
        "import warnings\n",
        "warnings.filterwarnings(\"ignore\")"
      ],
      "metadata": {
        "id": "te4teOB3UXpu"
      },
      "execution_count": 38,
      "outputs": []
    },
    {
      "cell_type": "code",
      "execution_count": 32,
      "metadata": {
        "id": "X123tkfmJk9a"
      },
      "outputs": [],
      "source": [
        "def GBM_characteristic_function(u, sigma, SIGMA, T, r):\n",
        "  \"\"\"Calculate the extended characteristic function of Multivariate GBM.\n",
        "  Args:\n",
        "  - u (array): Array of Fourier frequencies.\n",
        "  - sigma (array): Array of volatilities of each stock.\n",
        "  - SIGMA (array): Covariance matrix.\n",
        "  - T (float): Time to maturity.\n",
        "  - r (float): Risk-free interest rate.\n",
        "  Returns:\n",
        "  - phi (complex): Extended characteristic function value.\n",
        "  \"\"\"\n",
        "  d = len(sigma)  # Number of stocks\n",
        "  # Compute the characteristic function\n",
        "  phi = np.exp(np.dot(np.multiply(1j * T, u), r * np.ones(d) - 0.5 * np.diag(SIGMA)) - 0.5 * T * np.dot(u, np.dot(SIGMA, u)))\n",
        "  return phi\n",
        "\n",
        "def covariance_matrix(sigma, rho):\n",
        "  \"\"\"Compute the covariance matrix.\n",
        "  Args:\n",
        "  - sigma (array): Array of volatilities of each stock.\n",
        "  - rho (array): Correlation matrix.\n",
        "  Returns:\n",
        "  - SIGMA (array): Covariance matrix.\n",
        "  \"\"\"\n",
        "  SIGMA = np.dot(np.diag(sigma), np.dot(rho, np.diag(sigma)))\n",
        "  return SIGMA\n",
        "\n",
        "def fourier_payoff_call_on_min(u):\n",
        "  \"\"\"Compute the Fourier of the payoff of scaled (K = 1) call on min option.\n",
        "  Args:\n",
        "  - u (array): Array of Fourier frequencies.\n",
        "  Returns:\n",
        "  - payoff (float): Call on min option payoff Fourier transform value.\n",
        "  \"\"\"\n",
        "  # Compute the Fourier transform of the payoff function\n",
        "  denominator = (np.multiply(1j, np.sum(u)) - 1) * np.prod(np.multiply(1j, u))\n",
        "  return 1 / denominator\n",
        "\n",
        "def fourier_payoff_basket_put(u):\n",
        "  \"\"\"Compute the Fourier of the payoff of scaled (K = 1) basket put option.\n",
        "  Args:\n",
        "  - u (array): Array of Fourier frequencies.\n",
        "  Returns:\n",
        "  - payoff (float): Basket put option payoff Fourier transform value.\n",
        "  \"\"\"\n",
        "  # Compute the Fourier transform of the basket put option payoff function\n",
        "  numerator = np.prod(scipy.special.gamma(np.multiply(-1j,u)))\n",
        "  denominator = scipy.special.gamma(-1j*(np.sum(u))+2)\n",
        "  return (numerator / denominator)\n",
        "\n",
        "def integrand_to_optimize_GBM_call_on_min(R):\n",
        "  \"\"\"Calculate the integrand of the GBM to optimize.\n",
        "  Args:\n",
        "  - R (array): Array of damping parameters.\n",
        "  Returns:\n",
        "  - integrand (float): Integrand value at the origin (u = 0).\n",
        "  \"\"\"\n",
        "  d = len(S0)  # Dimensionality\n",
        "  X0 = np.log(np.divide(S0, K))\n",
        "  y = np.multiply(1j, R)\n",
        "  phi = GBM_characteristic_function(y, sigma, SIGMA, T, r)  # Characteristic function\n",
        "  p = fourier_payoff_call_on_min(y)  # Fourier Transformed Payoff function\n",
        "  discount = K * ((2 * np.pi) ** (-d)) * np.exp(-r * T) * np.exp(-R @ X0)  # Modified discount factor\n",
        "  integrand = discount * phi * p\n",
        "  return np.real(integrand)  # Real part of the integrand\n",
        "\n",
        "def integrand_to_optimize_GBM_basket_put(R):\n",
        "  \"\"\"Calculate the integrand of the GBM to optimize.\n",
        "  Args:\n",
        "  - R (array): Array of damping parameters.\n",
        "  Returns:\n",
        "  - integrand (float): Integrand value at the origin (u = 0).\n",
        "  \"\"\"\n",
        "  d = len(S0)  # Dimensionality\n",
        "  X0 = np.log(np.divide(S0, d * K))\n",
        "  y = np.multiply(1j, R)\n",
        "  phi = GBM_characteristic_function(y, sigma, SIGMA, T, r)  # Characteristic function\n",
        "  p = fourier_payoff_basket_put(y)  # Fourier Transformed Payoff function\n",
        "  discount = K * ((2 * np.pi) ** (-d)) * np.exp(-r * T) * np.exp(-R @ X0)  # Modified discount factor\n",
        "  integrand = discount * phi * p\n",
        "  return np.real(integrand)  # Real part of the integrand\n",
        "\n",
        "\n",
        "def fourier_MC_call_on_min_GBM(S0, K, r, T, sigma, SIGMA, N, R, SIGMA_IS, alpha_conf, seed):\n",
        "  \"\"\"\n",
        "  Estimate the price of call on min options using Monte Carlo simulation in Fourier space with importance sampling using Gaussian distribution\n",
        "  Args:\n",
        "  - S0 (array): vector of initial stock prices.\n",
        "  - K (float): strike price.\n",
        "  - r (float): risk-free interest rate.\n",
        "  - T (float): time to maturity.\n",
        "  - sigma (array): volatilities of each stock.\n",
        "  - SIGMA (array): covariance matrix of Brownian motions.\n",
        "  - N (int): number of Monte Carlo samples.\n",
        "  - R (array): vector of damping parameters\n",
        "  - sigma_IS (float): importance sampling parameters for MC in Fourier space.\n",
        "  - seed (int): seed for the random generator\n",
        "  - alpha_conf: confidence level\n",
        "  Returns:\n",
        "  - MC_estimate (float): Estimated price of the call on min option.\n",
        "  - MC_stat_error (float): Statistical error of the Monte Carlo estimation.\n",
        "  \"\"\"\n",
        "  np.random.seed(seed)\n",
        "  # Number of stocks\n",
        "  dimension = len(sigma)\n",
        "  # Logarithm of the element-wise division\n",
        "  X0 = np.log(np.divide(S0,K))\n",
        "  # Modified discount factor\n",
        "  discount = ((2 * np.pi) ** (-dimension)) * np.exp(-r * T) * np.exp(-R @ X0)\n",
        "  # Contains Monte Carlo price estimates\n",
        "  V_list = np.zeros(N)\n",
        "  # Generate correlated samples\n",
        "  samples = np.random.multivariate_normal(mean = np.zeros(dimension), cov = SIGMA_IS, size=N)\n",
        "  multivar_normal = multivariate_normal(mean = np.zeros(dimension), cov = SIGMA_IS)\n",
        "  # For each sample\n",
        "  for n in range(N):\n",
        "    u = samples[n]  # Sample from the standard normal distribution\n",
        "    y = u + np.multiply(1j, R) # shifting contour of integration by the damping parameters\n",
        "    phi = GBM_characteristic_function(y, sigma, SIGMA, T, r)  # Evaluate characteristic function\n",
        "    # Evaluate Fourier Transformed Payoff function\n",
        "    p = fourier_payoff_call_on_min(y)\n",
        "    # Product of Gaussian densities\n",
        "    gaussian_pdf_eval = multivar_normal.pdf(u)\n",
        "    # Compute Monte Carlo estimators\n",
        "    V_list[n] = np.real(K * discount * np.exp(1j * u @ X0) * phi * p / gaussian_pdf_eval)\n",
        "  # Compute the Monte Carlo estimate\n",
        "  MC_estimate = np.mean(V_list)\n",
        "  # Compute the statistical error\n",
        "  C_alpha = norm.ppf(1 - alpha_conf / 2)\n",
        "  MC_stat_error = 1.96 * np.std(V_list) / np.sqrt(N)\n",
        "  return MC_estimate, MC_stat_error\n",
        "\n",
        "\n",
        "def fourier_MC_basket_put_GBM(S0, K, r, T, sigma, SIGMA, N, R, SIGMA_IS, alpha_conf, seed):\n",
        "  \"\"\"\n",
        "  Estimate the price of basket put options using Monte Carlo simulation in Fourier space with importance sampling using Gaussian distribution\n",
        "  Args:\n",
        "  - S0 (array): vector of initial stock prices.\n",
        "  - K (float): strike price.\n",
        "  - r (float): risk-free interest rate.\n",
        "  - T (float): time to maturity.\n",
        "  - sigma (array): volatilities of each stock.\n",
        "  - SIGMA (array): covariance matrix of Brownian motions.\n",
        "  - N (int): number of Monte Carlo samples.\n",
        "  - R (array): vector of damping parameters\n",
        "  - sigma_IS (float): importance sampling parameters for MC in Fourier space.\n",
        "  - seed (int): seed for the random generator\n",
        "  - alpha_conf: confidence level\n",
        "  Returns:\n",
        "  - MC_estimate (float): Estimated price of the rainbow option.\n",
        "  - MC_stat_error (float): Statistical error of the Monte Carlo estimation.\n",
        "  \"\"\"\n",
        "  np.random.seed(seed)\n",
        "  # Number of stocks\n",
        "  dimension = len(sigma)\n",
        "  # Logarithm of the element-wise division\n",
        "  X0 = np.log(np.divide(S0,dimension*K))\n",
        "  # Modified discount factor\n",
        "  discount = ((2 * np.pi) ** (-dimension)) * np.exp(-r * T) * np.exp(-R @ X0)\n",
        "  # Contains Monte Carlo price estimates\n",
        "  V_list = np.zeros(N)\n",
        "  # Generate correlated samples\n",
        "  samples = np.random.multivariate_normal(mean = np.zeros(dimension), cov = SIGMA_IS, size=N)\n",
        "  multivar_normal = multivariate_normal(mean = np.zeros(dimension), cov = SIGMA_IS)\n",
        "  # For each sample\n",
        "  for n in range(N):\n",
        "    u = samples[n]  # Sample from the standard normal distribution\n",
        "    y = u + np.multiply(1j, R) # shifting contour of integration by the damping parameters\n",
        "    phi = GBM_characteristic_function(y, sigma, SIGMA, T, r)  # Evaluate characteristic function\n",
        "    # Evaluate Fourier Transformed Payoff function\n",
        "    p = fourier_payoff_basket_put(y)\n",
        "    # Product of Gaussian densities\n",
        "    gaussian_pdf_eval = multivar_normal.pdf(u)\n",
        "    # Compute Monte Carlo estimators\n",
        "    V_list[n] = np.real(K * discount * np.exp(1j * u @ X0) * phi * p / gaussian_pdf_eval)\n",
        "  # Compute the Monte Carlo estimate\n",
        "  MC_estimate = np.mean(V_list)\n",
        "  # Compute the statistical error\n",
        "  C_alpha = norm.ppf(1 - alpha_conf / 2)\n",
        "  MC_stat_error = 1.96 * np.std(V_list) / np.sqrt(N)\n",
        "  return MC_estimate, MC_stat_error"
      ]
    },
    {
      "cell_type": "markdown",
      "source": [
        "# Pricing basket put options using MC in the Fourier domain"
      ],
      "metadata": {
        "id": "wcJnsxRySj3v"
      }
    },
    {
      "cell_type": "code",
      "source": [
        "#Payoff Parameters\n",
        "dimension = 4\n",
        "S0= 100 * np.ones(dimension)\n",
        "K = 100\n",
        "r = 0\n",
        "T = 1\n",
        "#GBM Model Parameters\n",
        "sigma = 0.4 * np.ones(dimension)\n",
        "rho = np.identity(dimension)\n",
        "SIGMA = covariance_matrix(sigma,rho)\n",
        "\n",
        "\n",
        "############### Setting for the optimal damping parameters #############\n",
        "# Constraints related to the strip of regularity of the payoff transform\n",
        "def rainbow_constraint_1(R):\n",
        "  return -1*R\n",
        "def rainbow_constraint_2(R):\n",
        "  return -1 - np.sum(R)\n",
        "cons = ( {'type': 'ineq', 'fun': rainbow_constraint_1},\n",
        "        {'type': 'ineq', 'fun': rainbow_constraint_2},)\n",
        "# Characteristic function of GBM is an entire function hence there are no related constraints to it.\n",
        "R_init = -2*np.ones(dimension) # initial parameters R needs to belong to the strip of analyticity of the integrand\n",
        "optimal_R = optimize.minimize(fun = integrand_to_optimize_GBM_call_on_min, constraints = cons, x0 = R_init , method = \"trust-constr\" )\n",
        "#print(optimal_R) # uncomment to see wether the optimizer converged succesfully.\n",
        "R = optimal_R.x\n",
        "print(\"Optimal damping parameters:\", R)"
      ],
      "metadata": {
        "colab": {
          "base_uri": "https://localhost:8080/"
        },
        "id": "Z6TCUFjlUT9G",
        "outputId": "a170dffa-a05c-4928-e32d-2a459535a7e9"
      },
      "execution_count": 36,
      "outputs": [
        {
          "output_type": "stream",
          "name": "stdout",
          "text": [
            "Optimal damping parameters: [-3.08086818 -3.08086818 -3.08086824 -3.0808682 ]\n"
          ]
        }
      ]
    },
    {
      "cell_type": "code",
      "source": [
        "############### Model and payoff parameters ###############\n",
        "#Payoff Parameters\n",
        "dimension = 4\n",
        "S0= 100 * np.ones(dimension)\n",
        "K = 100\n",
        "r = 0\n",
        "T = 1\n",
        "#GBM Model Parameters\n",
        "sigma = 0.4 * np.ones(dimension)\n",
        "rho = np.identity(dimension)\n",
        "SIGMA = covariance_matrix(sigma,rho)\n",
        "############### MC parameters ###############\n",
        "B = 1 # number of batches\n",
        "N_steps = 1 # exact simulation scheme\n",
        "N = 10**5 # number of MC sample paths\n",
        "alpha_conf = 0.05 # confidence level for MC statistical error estimation\n",
        "seed = 100 # random seed for reproducibility of results.\n",
        "SIGMA_IS = (1 / T) * la.inv(SIGMA) # Proposed QMC domain transformation\n",
        "MC_Fourier_price_estimate, MC_Fourier_stat_error = fourier_MC_call_on_min_GBM(S0, K, r, T, sigma, SIGMA, N, R, SIGMA_IS, alpha_conf, seed)\n",
        "print(\"MC price estimate =\", round(MC_Fourier_price_estimate, 5),\"\\nMC relative statistical error = \", round(MC_Fourier_stat_error / MC_Fourier_price_estimate,4) )"
      ],
      "metadata": {
        "colab": {
          "base_uri": "https://localhost:8080/"
        },
        "id": "nSh-CPaXXXJC",
        "outputId": "2973b42b-f4b2-4330-90ed-04f7b35380e3"
      },
      "execution_count": 37,
      "outputs": [
        {
          "output_type": "stream",
          "name": "stdout",
          "text": [
            "MC price estimate = 0.31758 \n",
            "MC relative statistical error =  0.0032\n"
          ]
        }
      ]
    },
    {
      "cell_type": "markdown",
      "source": [
        "# Pricing basket put options using MC in the Fourier domain"
      ],
      "metadata": {
        "id": "azyl8mT4VqRx"
      }
    },
    {
      "cell_type": "code",
      "source": [
        "############### Model and payoff parameters ###############\n",
        "#Payoff Parameters\n",
        "dimension = 4\n",
        "S0= 100 * np.ones(dimension)\n",
        "K = 100\n",
        "r = 0\n",
        "T = 1\n",
        "#GBM Model Parameters\n",
        "sigma = 0.4 * np.ones(dimension)\n",
        "rho = np.identity(dimension)\n",
        "SIGMA = covariance_matrix(sigma,rho)\n",
        "############### Setting for the optimal damping parameters #############\n",
        "# Constraints related to the strip of regularity of the payoff transform\n",
        "def basket_put_constraint(R):\n",
        "    return R\n",
        "cons = ( {'type': 'ineq', 'fun': basket_put_constraint},)\n",
        "# Characteristic function of GBM is an entire function hence there are no related constraints to it.\n",
        "R_init = 1*np.ones(dimension) # initial parameters R needs to belong to the strip of analyticity of the integrand\n",
        "optimal_R = optimize.minimize(fun = integrand_to_optimize_GBM_basket_put, constraints = cons, x0 = R_init , method = \"trust-constr\" )\n",
        "#print(optimal_R) # uncomment to see wether the optimizer converged succesfully.\n",
        "R = optimal_R.x\n",
        "print(\"Optimal damping parameters:\", R)"
      ],
      "metadata": {
        "colab": {
          "base_uri": "https://localhost:8080/"
        },
        "id": "qpcDvBtgVtWJ",
        "outputId": "ecffc154-9f32-44fb-cd43-cc824a1826d5"
      },
      "execution_count": 34,
      "outputs": [
        {
          "output_type": "stream",
          "name": "stdout",
          "text": [
            "Optimal damping parameters: [2.1147309  2.1147309  2.11473093 2.11473092]\n"
          ]
        }
      ]
    },
    {
      "cell_type": "code",
      "source": [
        "############### Model and payoff parameters ###############\n",
        "#Payoff Parameters\n",
        "dimension = 4\n",
        "S0= 100 * np.ones(dimension)\n",
        "K = 100\n",
        "r = 0\n",
        "T = 1\n",
        "#GBM Model Parameters\n",
        "sigma = 0.4 * np.ones(dimension)\n",
        "rho = np.identity(dimension)\n",
        "SIGMA = covariance_matrix(sigma,rho)\n",
        "############### MC parameters ###############\n",
        "B = 1 # number of batches\n",
        "N_steps = 1 # exact simulation scheme\n",
        "N = 10**5 # number of MC sample paths\n",
        "alpha_conf = 0.05 # confidence level for MC statistical error estimation\n",
        "seed = 100 # random seed for reproducibility of results.\n",
        "SIGMA_IS = (1 / T) * la.inv(SIGMA) # Proposed QMC domain transformation\n",
        "MC_Fourier_price_estimate, MC_Fourier_stat_error = fourier_MC_basket_put_GBM(S0, K, r, T, sigma, SIGMA, N, R, SIGMA_IS, alpha_conf, seed)\n",
        "print(\"MC price estimate =\", round(MC_Fourier_price_estimate, 5),\"\\nMC relative statistical error = \", round(MC_Fourier_stat_error / MC_Fourier_price_estimate,4) )"
      ],
      "metadata": {
        "colab": {
          "base_uri": "https://localhost:8080/"
        },
        "id": "xp8wBOCESlXL",
        "outputId": "66f02155-0fae-48c2-bf23-30ee4fe8f26a"
      },
      "execution_count": 35,
      "outputs": [
        {
          "output_type": "stream",
          "name": "stdout",
          "text": [
            "MC price estimate = 8.24488 \n",
            "MC relative statistical error =  0.0132\n"
          ]
        }
      ]
    }
  ]
}