{
  "cells": [
    {
      "cell_type": "markdown",
      "metadata": {
        "id": "VAKO_kpCBbF-"
      },
      "source": [
        "# Libraries"
      ]
    },
    {
      "cell_type": "code",
      "execution_count": 7,
      "metadata": {
        "id": "7vYLb-XJBcOc"
      },
      "outputs": [],
      "source": [
        "import qmcpy\n",
        "from scipy.special import gamma\n",
        "from scipy import optimize\n",
        "import numpy.linalg as la\n",
        "import numpy as np\n",
        "from scipy.stats import norm\n",
        "from scipy.stats import multivariate_normal\n",
        "import warnings\n",
        "warnings.filterwarnings(\"ignore\")"
      ]
    },
    {
      "cell_type": "code",
      "execution_count": 15,
      "metadata": {
        "id": "PX-yFJM6BjwY"
      },
      "outputs": [],
      "source": [
        "def GBM_characteristic_function(u, SIGMA, T, r):\n",
        "    \"\"\"Calculate the extended characteristic function of Multivariate GBM.\n",
        "    Args:\n",
        "    - u (array): Array of Fourier frequencies.\n",
        "    - SIGMA (array): Covariance matrix.\n",
        "    - T (float): Time to maturity.\n",
        "    - r (float): Risk-free interest rate.\n",
        "    Returns:\n",
        "    - phi (complex): Extended characteristic function value.\n",
        "    \"\"\"\n",
        "    d = SIGMA.shape[0]  # number of stocks\n",
        "    phi = np.exp(np.dot(np.multiply(1j * T, u), r * np.ones(d) - 0.5 * np.diag(SIGMA)) - 0.5 * T * np.dot(u, np.dot(SIGMA, u)))\n",
        "    return phi\n",
        "\n",
        "def covariance_matrix(sigma, rho):\n",
        "    \"\"\"Compute the covariance matrix.\n",
        "    Args:\n",
        "    - sigma (array): Array of volatilities of each stock.\n",
        "    - rho (array): Correlation matrix.\n",
        "    Returns:\n",
        "    - SIGMA (array): Covariance matrix.\n",
        "    \"\"\"\n",
        "    SIGMA = np.dot(np.diag(sigma), np.dot(rho, np.diag(sigma)))\n",
        "    return SIGMA\n",
        "\n",
        "def fourier_payoff_call_on_min(u):\n",
        "    \"\"\"Compute the Fourier of the payoff of scaled (K = 1) call on min option.\n",
        "    Args:\n",
        "    - u (array): Array of Fourier frequencies.\n",
        "    Returns:\n",
        "    - payoff (float): Call on min option payoff Fourier transofrm value.\n",
        "    \"\"\"\n",
        "    denominator = (np.multiply(1j, np.sum(u)) - 1) * np.prod(np.multiply(1j, u))\n",
        "    return 1 / denominator\n",
        "\n",
        "def fourier_payoff_basket_put(u):\n",
        "  \"\"\"Compute the Fourier of the payoff of scaled (K = 1) basket put option.\n",
        "  Args:\n",
        "  - u (array): Array of Fourier frequencies.\n",
        "  Returns:\n",
        "  - payoff (float): Call on min option payoff Fourier transofrm value.\n",
        "  \"\"\"\n",
        "  numerator = np.prod(gamma(np.multiply(-1j,u)))\n",
        "  denominator = gamma(-1j*(np.sum(u))+2)\n",
        "  return (numerator/denominator)\n",
        "\n",
        "\n",
        "def integrand_to_optimize_GBM_call_on_min(R, S0, K, r, T, SIGMA):\n",
        "    \"\"\"Calculate the integrand of the GBM to optimize .\n",
        "    Args:\n",
        "    - R (array): Array of damping parameters.\n",
        "    Returns:\n",
        "    - integrand (float): integrand value at the origin (u = 0)\n",
        "    \"\"\"\n",
        "    d = len(S0)  # dimensionality\n",
        "    X0 = np.log(np.divide(S0, K))\n",
        "    y = np.multiply(1j, R)\n",
        "    phi = GBM_characteristic_function(y, SIGMA, T, r)  # Characteristic function\n",
        "    p = fourier_payoff_call_on_min(y)  # Fourier Transformed Payoff function\n",
        "    discount = K * ((2 * np.pi) ** (-d)) * np.exp(-r * T) * np.exp(-R @ X0)  # modified discount factor\n",
        "    integrand = discount * phi * p\n",
        "    return np.real(integrand)  # Real part of the integrand\n",
        "\n",
        "\n",
        "def integrand_to_optimize_GBM_basket_put(R, S0, K, r, T, SIGMA):\n",
        "    \"\"\"Calculate the integrand of the GBM to optimize .\n",
        "    Args:\n",
        "    - R (array): Array of damping parameters.\n",
        "    Returns:\n",
        "    - integrand (float): integrand value at the origin (u = 0)\n",
        "    \"\"\"\n",
        "    d = len(S0)  # dimensionality\n",
        "    X0 = np.log(np.divide(S0, d*K))\n",
        "    y = np.multiply(1j, R)\n",
        "    phi = GBM_characteristic_function(y, SIGMA, T, r)  # Characteristic function\n",
        "    p = fourier_payoff_basket_put(y)  # Fourier Transformed Payoff function\n",
        "    discount = K * ((2 * np.pi) ** (-d)) * np.exp(-r * T) * np.exp(-R @ X0)  # modified discount factor\n",
        "    integrand = discount * phi * p\n",
        "    return np.real(integrand)  # Real part of the integrand\n",
        "\n",
        "\n",
        "def RQMC_fourier_GBM_call_on_min_pricer(S0, K, r, T, SIGMA, N, R, m, SIGMA_IS):\n",
        "    \"\"\"Perform QMC estimate for GBM call option pricing.\n",
        "    Args:\n",
        "    - S0 (array): Initial stock prices.\n",
        "    - K (float): Strike price.\n",
        "    - r (float): Risk-free interest rate.\n",
        "    - T (float): Time to maturity.\n",
        "    - SIGMA (array): Covariance matrix.\n",
        "    - N (int): Number of QMC points.\n",
        "    - m (int): Number of randomizations of RQMC (digital shifts).\n",
        "    - R (array): Array of damping parameters.\n",
        "    - SIGMA_IS (array): Covariance matrix of the domain transformation PDF.\n",
        "\n",
        "    Returns:\n",
        "    - qmc_estimate (float): RQMC estimate of option price.\n",
        "    - qmc_stat_error (float): RQMC statistical error (absolute not relative).\n",
        "    \"\"\"\n",
        "    L_IS = la.cholesky(SIGMA_IS)\n",
        "    d = len(S0)  # number of stocks\n",
        "    X0 = np.log(np.divide(S0, K))\n",
        "    discount = ((2 * np.pi) ** (-d)) * np.exp(-r * T) * np.exp(-R @ X0)  # modified discount factor\n",
        "    V_list = np.zeros(m)  # Contains m price estimates each corresponding to a shifted sobol sequence\n",
        "    for i in range(m):\n",
        "        xi_sobol_scrambled = qmcpy.DigitalNetB2(d, graycode=True, randomize='DS', seed=i).gen_samples(N)\n",
        "        xi_sobol_shifted_mapped = norm.ppf(q=xi_sobol_scrambled, loc=0, scale=1)\n",
        "        V = 0  # Initialization of Option price contract value for ith rQMC iteration\n",
        "        for n in range(N):  # for each sobol point\n",
        "            u = L_IS @ xi_sobol_shifted_mapped[n]  # inverse CDF of uniformly distributed sample to have sample from standard normal\n",
        "            y = u + np.multiply(1j, R)  # Change of variable, shift by damping parameter to integrate over axis parallel to real line.\n",
        "            phi = GBM_characteristic_function(y, SIGMA, T, r)  # evaluation of characteristic function at all sobol points\n",
        "            p = fourier_payoff_call_on_min(y)  # evaluation of Fourier Transformed Payoff function at a sobol point\n",
        "            IS_pdf_prod = multivariate_normal.pdf(x=u, mean=np.zeros(d), cov=SIGMA_IS)  # product of gaussian densities evaluated at each component of d-dim vector: {rho(u_i)}i=1..d\n",
        "            V += (1 / N) * np.exp(1j * u @ X0) * phi * p / IS_pdf_prod\n",
        "        V_list[i] = K * discount * np.real(V)\n",
        "    qmc_estimate = np.mean(V_list)  # RQMC estimate\n",
        "    qmc_stat_error = 1.96 * np.std(V_list) / np.sqrt(m)  # RQMC statistical error.\n",
        "    return qmc_estimate, qmc_stat_error\n",
        "\n",
        "\n",
        "def RQMC_fourier_GBM_basket_put_pricer(S0, K, r, T, SIGMA, N, R, m, SIGMA_IS):\n",
        "    \"\"\"Perform QMC estimate for GBM call option pricing.\n",
        "    Args:\n",
        "    - S0 (array): Initial stock prices.\n",
        "    - K (float): Strike price.\n",
        "    - r (float): Risk-free interest rate.\n",
        "    - T (float): Time to maturity.\n",
        "    - SIGMA (array): Covariance matrix.\n",
        "    - N (int): Number of QMC points.\n",
        "    - m (int): Number of randomizations of RQMC (digital shifts).\n",
        "    - R (array): Array of damping parameters.\n",
        "    - SIGMA_IS (array): Covariance matrix of the domain transformation PDF.\n",
        "\n",
        "    Returns:\n",
        "    - qmc_estimate (float): RQMC estimate of option price.\n",
        "    - qmc_stat_error (float): RQMC statistical error (absolute not relative).\n",
        "    \"\"\"\n",
        "    L_IS = la.cholesky(SIGMA_IS)\n",
        "    d = len(S0)  # number of stocks\n",
        "    X0 = np.log(np.divide(S0, d*K))\n",
        "    discount = ((2 * np.pi) ** (-d)) * np.exp(-r * T) * np.exp(-R @ X0)  # modified discount factor\n",
        "    V_list = np.zeros(m)  # Contains m price estimates each corresponding to a shifted sobol sequence\n",
        "    for i in range(m):\n",
        "        xi_sobol_scrambled = qmcpy.DigitalNetB2(d, graycode=True, randomize='DS', seed=i).gen_samples(N)\n",
        "        xi_sobol_shifted_mapped = norm.ppf(q=xi_sobol_scrambled, loc=0, scale=1)\n",
        "        V = 0  # Initialization of Option price contract value for ith rQMC iteration\n",
        "        for n in range(N):  # for each sobol point\n",
        "            u = L_IS @ xi_sobol_shifted_mapped[n]  # inverse CDF of uniformly distributed sample to have sample from standard normal\n",
        "            y = u + np.multiply(1j, R)  # Change of variable, shift by damping parameter to integrate over axis parallel to real line.\n",
        "            phi = GBM_characteristic_function(y, SIGMA, T, r)  # evaluation of characteristic function at all sobol points\n",
        "            p = fourier_payoff_basket_put(y)  # evaluation of Fourier Transformed Payoff function at a sobol point\n",
        "            IS_pdf_prod = multivariate_normal.pdf(x=u, mean=np.zeros(d), cov=SIGMA_IS)  # product of gaussian densities evaluated at each component of d-dim vector: {rho(u_i)}i=1..d\n",
        "            V += (1 / N) * np.exp(1j * u @ X0) * phi * p / IS_pdf_prod\n",
        "        V_list[i] = K * discount * np.real(V)\n",
        "    qmc_estimate = np.mean(V_list)  # RQMC estimate\n",
        "    qmc_stat_error = 1.96 * np.std(V_list) / np.sqrt(m)  # RQMC statistical error.\n",
        "    return qmc_estimate, qmc_stat_error"
      ]
    },
    {
      "cell_type": "markdown",
      "metadata": {
        "id": "U_v83uPfOa7_"
      },
      "source": [
        "# Call on min Options"
      ]
    },
    {
      "cell_type": "markdown",
      "metadata": {
        "id": "meo1VY1KEVfG"
      },
      "source": [
        "## Computing the damping parameters using the rule proposed in [link to the paper](https://arxiv.org/pdf/2203.08196.pdf)"
      ]
    },
    {
      "cell_type": "code",
      "execution_count": 16,
      "metadata": {
        "colab": {
          "base_uri": "https://localhost:8080/"
        },
        "id": "zRUISyJKEo6s",
        "outputId": "48f346cb-8e63-4a21-96ba-1f03c2729481"
      },
      "outputs": [
        {
          "name": "stdout",
          "output_type": "stream",
          "text": [
            "Optimal damping parameters: [-4.76162128 -4.76162128 -4.76162128 -4.76162128 -4.76162127 -4.76162128]\n"
          ]
        }
      ],
      "source": [
        "# Model and payoff parameters\n",
        "K = 100 # strike price\n",
        "r = 0 # risk-free interest rate\n",
        "T = 1 # maturity date\n",
        "dimension = 6 # number of underlying assets\n",
        "S0 = 100 * np.ones(dimension) # vector of spot prices\n",
        "sigma = 0.2 * np.ones(dimension) # vector of volatilities\n",
        "rho = np.identity(dimension) # correlation matrix\n",
        "SIGMA = covariance_matrix(sigma,rho) # covariance matrix\n",
        "\n",
        "############### Setting for the optimal damping parameters #############\n",
        "# Constraints related to the strip of regularity of the payoff transform\n",
        "def rainbow_constraint_1(R):\n",
        "  return -1*R\n",
        "def rainbow_constraint_2(R):\n",
        "  return -1 - np.sum(R)\n",
        "cons = ( {'type': 'ineq', 'fun': rainbow_constraint_1},\n",
        "        {'type': 'ineq', 'fun': rainbow_constraint_2},)\n",
        "# Characteristic function of GBM is an entire function hence there are no related constraints to it.\n",
        "R_init = -2*np.ones(dimension) # initial parameters R needs to belong to the strip of analyticity of the integrand\n",
        "optimal_R = optimize.minimize(fun = lambda R: integrand_to_optimize_GBM_call_on_min(R, S0, K, r, T, SIGMA), constraints = cons, x0 = R_init , method = \"trust-constr\" )\n",
        "#print(optimal_R) # uncomment to see wether the optimizer converged succesfully.\n",
        "R = optimal_R.x\n",
        "print(\"Optimal damping parameters:\", R)"
      ]
    },
    {
      "cell_type": "markdown",
      "metadata": {
        "id": "riACdOkOF-8w"
      },
      "source": [
        "## Pricing using RQMC in the Fourier space"
      ]
    },
    {
      "cell_type": "code",
      "execution_count": 18,
      "metadata": {
        "colab": {
          "base_uri": "https://localhost:8080/"
        },
        "id": "jY19XJogLjms",
        "outputId": "62877013-6de2-4ce0-b117-4fcb59c013d0"
      },
      "outputs": [
        {
          "name": "stdout",
          "output_type": "stream",
          "text": [
            "RQMC estimate = 0.0338 , Relative Statistical Error = 0.00471\n"
          ]
        }
      ],
      "source": [
        "############### Model and payoff parameters ###############\n",
        "K = 100 # strike price\n",
        "r = 0 # risk-free interest rate\n",
        "T = 1 # maturity date\n",
        "dimension = 6 # number of underlying assets\n",
        "S0 = 100 * np.ones(dimension) # vector of spot prices\n",
        "sigma = 0.2 * np.ones(dimension) # vector of volatilities\n",
        "rho = np.identity(dimension) # correlation matrix\n",
        "SIGMA = covariance_matrix(sigma,rho) # covariance matrix\n",
        "\n",
        "############### QMC parameters ###############\n",
        "m = 30 # number of digital shifts of RQMC\n",
        "N = 2**6 # number of QMC Sobol points\n",
        "SIGMA_IS = (1 / T) * la.inv(SIGMA) # Proposed QMC domain transformation\n",
        "R_init = -2*np.ones(dimension) # initial parameters R needs to belong to the strip of analyticity of the integrand\n",
        "optimal_R = optimize.minimize(fun = lambda R: integrand_to_optimize_GBM_call_on_min(R, S0, K, r, T, SIGMA), constraints = cons, x0 = R_init , method = \"trust-constr\" )\n",
        "R = optimal_R.x\n",
        "RQMC_estimate, RQMC_stat_estimate = RQMC_fourier_GBM_call_on_min_pricer(S0,K,r,T,SIGMA,N,R,m,SIGMA_IS)\n",
        "print(\"RQMC estimate =\", round(RQMC_estimate,5), \", Relative Statistical Error =\", round(RQMC_stat_estimate / RQMC_estimate,5)  )"
      ]
    },
    {
      "cell_type": "markdown",
      "metadata": {
        "id": "Oz011IytOek5"
      },
      "source": [
        "# Basket Put"
      ]
    },
    {
      "cell_type": "markdown",
      "metadata": {
        "id": "DHgE7xPkReSX"
      },
      "source": [
        "## Computing the damping parameters using the rule proposed in [link to the paper](https://arxiv.org/pdf/2203.08196.pdf)"
      ]
    },
    {
      "cell_type": "code",
      "execution_count": 24,
      "metadata": {
        "colab": {
          "base_uri": "https://localhost:8080/"
        },
        "id": "Ygx-5LCjOgU5",
        "outputId": "b6462e0a-9fbe-4533-d03c-1f0c96bb51dd"
      },
      "outputs": [
        {
          "name": "stdout",
          "output_type": "stream",
          "text": [
            "Optimal damping parameters: [3.54497633 3.54497633 3.54497633 3.54497634]\n"
          ]
        }
      ],
      "source": [
        " # Model and payoff parameters\n",
        "K = 100 # strike price\n",
        "r = 0 # risk-free interest rate\n",
        "T = 1 # maturity date\n",
        "dimension = 4 # number of underlying assets\n",
        "S0 = 100 * np.ones(dimension) # vector of spot prices\n",
        "sigma = 0.2 * np.ones(dimension) # vector of volatilities\n",
        "rho = np.identity(dimension) # correlation matrix\n",
        "SIGMA = covariance_matrix(sigma,rho) # covariance matrix\n",
        "\n",
        "############### Setting for the optimal damping parameters #############\n",
        "# Constraints related to the strip of regularity of the payoff transform\n",
        "def basket_put_constraint(R):\n",
        "    return R\n",
        "cons = ( {'type': 'ineq', 'fun': basket_put_constraint},)\n",
        "# Characteristic function of GBM is an entire function hence there are no related constraints to it.\n",
        "R_init = 2*np.ones(dimension) # initial parameters R needs to belong to the strip of analyticity of the integrand\n",
        "optimal_R = optimize.minimize(fun = lambda R: integrand_to_optimize_GBM_basket_put(R, S0, K, r, T, SIGMA), constraints = cons, x0 = R_init , method = \"trust-constr\" )\n",
        "#print(optimal_R) # uncomment to see wether the optimizer converged succesfully.\n",
        "R = optimal_R.x\n",
        "print(\"Optimal damping parameters:\", R)"
      ]
    },
    {
      "cell_type": "markdown",
      "metadata": {
        "id": "xaYmKD7BRgB4"
      },
      "source": [
        "## Pricing using RQMC in the Fourier space"
      ]
    },
    {
      "cell_type": "code",
      "execution_count": 30,
      "metadata": {
        "colab": {
          "base_uri": "https://localhost:8080/"
        },
        "id": "IG_ofT50OftR",
        "outputId": "b7becbce-aa71-4d62-d948-1a5e5f055cb7"
      },
      "outputs": [
        {
          "name": "stdout",
          "output_type": "stream",
          "text": [
            "RQMC estimate = 3.97984 , Relative Statistical Error = 0.06248\n"
          ]
        }
      ],
      "source": [
        "############### Model and payoff parameters ###############\n",
        "K = 100 # strike price\n",
        "r = 0 # risk-free interest rate\n",
        "T = 1 # maturity date\n",
        "dimension = 4 # number of underlying assets\n",
        "S0 = 100 * np.ones(dimension) # vector of spot prices\n",
        "sigma = 0.2 * np.ones(dimension) # vector of volatilities\n",
        "rho = np.identity(dimension) # correlation matrix\n",
        "SIGMA = covariance_matrix(sigma,rho) # covariance matrix\n",
        "\n",
        "############### QMC parameters ###############\n",
        "m = 30 # number of digital shifts of RQMC\n",
        "N = 2**6 # number of QMC Sobol points\n",
        "SIGMA_IS = (1 / T) * la.inv(SIGMA) # Proposed QMC domain transformation\n",
        "R_init = 2*np.ones(dimension) # initial parameters R needs to belong to the strip of analyticity of the integrand\n",
        "optimal_R = optimize.minimize(fun = lambda R: integrand_to_optimize_GBM_basket_put(R, S0, K, r, T, SIGMA), constraints = cons, x0 = R_init , method = \"trust-constr\" )\n",
        "R = optimal_R.x\n",
        "RQMC_estimate, RQMC_stat_estimate = RQMC_fourier_GBM_basket_put_pricer(S0,K,r,T,SIGMA,N,R,m,SIGMA_IS)\n",
        "print(\"RQMC estimate =\", round(RQMC_estimate,5), \", Relative Statistical Error =\", round(RQMC_stat_estimate / RQMC_estimate,5)  )"
      ]
    }
  ],
  "metadata": {
    "colab": {
      "provenance": []
    },
    "kernelspec": {
      "display_name": "Python 3",
      "name": "python3"
    },
    "language_info": {
      "codemirror_mode": {
        "name": "ipython",
        "version": 3
      },
      "file_extension": ".py",
      "mimetype": "text/x-python",
      "name": "python",
      "nbconvert_exporter": "python",
      "pygments_lexer": "ipython3",
      "version": "3.11.5"
    }
  },
  "nbformat": 4,
  "nbformat_minor": 0
}
