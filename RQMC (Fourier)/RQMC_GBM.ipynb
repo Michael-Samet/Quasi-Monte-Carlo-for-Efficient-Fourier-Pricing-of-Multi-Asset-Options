{
  "nbformat": 4,
  "nbformat_minor": 0,
  "metadata": {
    "colab": {
      "provenance": []
    },
    "kernelspec": {
      "name": "python3",
      "display_name": "Python 3"
    },
    "language_info": {
      "name": "python"
    }
  },
  "cells": [
    {
      "cell_type": "markdown",
      "source": [
        "# Libraries"
      ],
      "metadata": {
        "id": "VAKO_kpCBbF-"
      }
    },
    {
      "cell_type": "code",
      "source": [
        "# Linear algebra\n",
        "import scipy.stats as ss\n",
        "import scipy.special\n",
        "from scipy import optimize\n",
        "from mpmath import gamma\n",
        "import numpy as np\n",
        "import scipy\n",
        "from scipy.stats import norm\n",
        "from numpy import linalg as la\n",
        "from scipy import sparse\n",
        "from scipy.sparse.linalg import spsolve\n",
        "import pandas as pd\n",
        "from scipy.stats import multivariate_normal\n",
        "#Plotting\n",
        "import matplotlib.pyplot as plt\n",
        "import seaborn as sns\n",
        "sns.set()\n",
        "sns.set_style(\"whitegrid\")\n",
        "### plotting\n",
        "from matplotlib import cm\n",
        "from matplotlib.ticker import LinearLocator\n",
        "from mpl_toolkits.mplot3d import Axes3D\n",
        "import cvxpy as cp\n",
        "import time\n",
        "### Other\n",
        "import itertools\n",
        "from timeit import default_timer as timer\n",
        "from itertools import product\n",
        "from ipywidgets import interact, widgets\n",
        "import warnings\n",
        "warnings.filterwarnings(\"ignore\")"
      ],
      "metadata": {
        "id": "7vYLb-XJBcOc"
      },
      "execution_count": 31,
      "outputs": []
    },
    {
      "cell_type": "code",
      "source": [
        "### QMC\n",
        "!pip install gpytorch\n",
        "!pip install qmcpy\n",
        "import qmcpy"
      ],
      "metadata": {
        "colab": {
          "base_uri": "https://localhost:8080/"
        },
        "id": "6-c7xPjoBgop",
        "outputId": "75a7d8d7-68d7-4315-c73e-6d500517e6c0"
      },
      "execution_count": 32,
      "outputs": [
        {
          "output_type": "stream",
          "name": "stdout",
          "text": [
            "Requirement already satisfied: gpytorch in /usr/local/lib/python3.10/dist-packages (1.11)\n",
            "Requirement already satisfied: scikit-learn in /usr/local/lib/python3.10/dist-packages (from gpytorch) (1.2.2)\n",
            "Requirement already satisfied: linear-operator>=0.5.0 in /usr/local/lib/python3.10/dist-packages (from gpytorch) (0.5.2)\n",
            "Requirement already satisfied: torch>=1.11 in /usr/local/lib/python3.10/dist-packages (from linear-operator>=0.5.0->gpytorch) (2.1.0+cu121)\n",
            "Requirement already satisfied: scipy in /usr/local/lib/python3.10/dist-packages (from linear-operator>=0.5.0->gpytorch) (1.11.4)\n",
            "Requirement already satisfied: jaxtyping>=0.2.9 in /usr/local/lib/python3.10/dist-packages (from linear-operator>=0.5.0->gpytorch) (0.2.25)\n",
            "Requirement already satisfied: typeguard~=2.13.3 in /usr/local/lib/python3.10/dist-packages (from linear-operator>=0.5.0->gpytorch) (2.13.3)\n",
            "Requirement already satisfied: numpy>=1.17.3 in /usr/local/lib/python3.10/dist-packages (from scikit-learn->gpytorch) (1.25.2)\n",
            "Requirement already satisfied: joblib>=1.1.1 in /usr/local/lib/python3.10/dist-packages (from scikit-learn->gpytorch) (1.3.2)\n",
            "Requirement already satisfied: threadpoolctl>=2.0.0 in /usr/local/lib/python3.10/dist-packages (from scikit-learn->gpytorch) (3.3.0)\n",
            "Requirement already satisfied: typing-extensions>=3.7.4.1 in /usr/local/lib/python3.10/dist-packages (from jaxtyping>=0.2.9->linear-operator>=0.5.0->gpytorch) (4.9.0)\n",
            "Requirement already satisfied: filelock in /usr/local/lib/python3.10/dist-packages (from torch>=1.11->linear-operator>=0.5.0->gpytorch) (3.13.1)\n",
            "Requirement already satisfied: sympy in /usr/local/lib/python3.10/dist-packages (from torch>=1.11->linear-operator>=0.5.0->gpytorch) (1.12)\n",
            "Requirement already satisfied: networkx in /usr/local/lib/python3.10/dist-packages (from torch>=1.11->linear-operator>=0.5.0->gpytorch) (3.2.1)\n",
            "Requirement already satisfied: jinja2 in /usr/local/lib/python3.10/dist-packages (from torch>=1.11->linear-operator>=0.5.0->gpytorch) (3.1.3)\n",
            "Requirement already satisfied: fsspec in /usr/local/lib/python3.10/dist-packages (from torch>=1.11->linear-operator>=0.5.0->gpytorch) (2023.6.0)\n",
            "Requirement already satisfied: triton==2.1.0 in /usr/local/lib/python3.10/dist-packages (from torch>=1.11->linear-operator>=0.5.0->gpytorch) (2.1.0)\n",
            "Requirement already satisfied: MarkupSafe>=2.0 in /usr/local/lib/python3.10/dist-packages (from jinja2->torch>=1.11->linear-operator>=0.5.0->gpytorch) (2.1.5)\n",
            "Requirement already satisfied: mpmath>=0.19 in /usr/local/lib/python3.10/dist-packages (from sympy->torch>=1.11->linear-operator>=0.5.0->gpytorch) (1.3.0)\n",
            "Requirement already satisfied: qmcpy in /usr/local/lib/python3.10/dist-packages (1.4.5)\n",
            "Requirement already satisfied: numpy>=1.17.0 in /usr/local/lib/python3.10/dist-packages (from qmcpy) (1.25.2)\n",
            "Requirement already satisfied: scipy>=1.0.0 in /usr/local/lib/python3.10/dist-packages (from qmcpy) (1.11.4)\n"
          ]
        }
      ]
    },
    {
      "cell_type": "code",
      "source": [
        "def GBM_characteristic_function(u, sigma, SIGMA, T, r):\n",
        "    \"\"\"Calculate the extended characteristic function of Multivariate GBM.\n",
        "    Args:\n",
        "    - u (array): Array of Fourier frequencies.\n",
        "    - sigma (array): Array of volatilities of each stock.\n",
        "    - SIGMA (array): Covariance matrix.\n",
        "    - T (float): Time to maturity.\n",
        "    - r (float): Risk-free interest rate.\n",
        "    Returns:\n",
        "    - phi (complex): Extended characteristic function value.\n",
        "    \"\"\"\n",
        "    d = len(sigma)  # number of stocks\n",
        "    phi = np.exp(np.dot(np.multiply(1j * T, u), r * np.ones(d) - 0.5 * np.diag(SIGMA)) - 0.5 * T * np.dot(u, np.dot(SIGMA, u)))\n",
        "    return phi\n",
        "\n",
        "def covariance_matrix(sigma, rho):\n",
        "    \"\"\"Compute the covariance matrix.\n",
        "    Args:\n",
        "    - sigma (array): Array of volatilities of each stock.\n",
        "    - rho (array): Correlation matrix.\n",
        "    Returns:\n",
        "    - SIGMA (array): Covariance matrix.\n",
        "    \"\"\"\n",
        "    SIGMA = np.dot(np.diag(sigma), np.dot(rho, np.diag(sigma)))\n",
        "    return SIGMA\n",
        "\n",
        "def fourier_payoff_call_on_min(u):\n",
        "    \"\"\"Compute the Fourier of the payoff of scaled (K = 1) call on min option.\n",
        "    Args:\n",
        "    - u (array): Array of Fourier frequencies.\n",
        "    Returns:\n",
        "    - payoff (float): Call on min option payoff Fourier transofrm value.\n",
        "    \"\"\"\n",
        "    denominator = (np.multiply(1j, np.sum(u)) - 1) * np.prod(np.multiply(1j, u))\n",
        "    return 1 / denominator\n",
        "\n",
        "def fourier_payoff_basket_put(u):\n",
        "  \"\"\"Compute the Fourier of the payoff of scaled (K = 1) basket put option.\n",
        "  Args:\n",
        "  - u (array): Array of Fourier frequencies.\n",
        "  Returns:\n",
        "  - payoff (float): Call on min option payoff Fourier transofrm value.\n",
        "  \"\"\"\n",
        "  numerator = np.prod(scipy.special.gamma(np.multiply(-1j,u)))\n",
        "  denominator = scipy.special.gamma(-1j*(np.sum(u))+2)\n",
        "  return (numerator/denominator)\n",
        "\n",
        "\n",
        "def integrand_to_optimize_GBM_call_on_min(R):\n",
        "    \"\"\"Calculate the integrand of the GBM to optimize .\n",
        "    Args:\n",
        "    - R (array): Array of damping parameters.\n",
        "    Returns:\n",
        "    - integrand (float): integrand value at the origin (u = 0)\n",
        "    \"\"\"\n",
        "    d = len(S0)  # dimensionality\n",
        "    X0 = np.log(np.divide(S0, K))\n",
        "    y = np.multiply(1j, R)\n",
        "    phi = GBM_characteristic_function(y, sigma, SIGMA, T, r)  # Characteristic function\n",
        "    p = fourier_payoff_call_on_min(y)  # Fourier Transformed Payoff function\n",
        "    discount = K * ((2 * np.pi) ** (-d)) * np.exp(-r * T) * np.exp(-R @ X0)  # modified discount factor\n",
        "    integrand = discount * phi * p\n",
        "    return np.real(integrand)  # Real part of the integrand\n",
        "\n",
        "\n",
        "def integrand_to_optimize_GBM_basket_put(R):\n",
        "    \"\"\"Calculate the integrand of the GBM to optimize .\n",
        "    Args:\n",
        "    - R (array): Array of damping parameters.\n",
        "    Returns:\n",
        "    - integrand (float): integrand value at the origin (u = 0)\n",
        "    \"\"\"\n",
        "    d = len(S0)  # dimensionality\n",
        "    X0 = np.log(np.divide(S0, d*K))\n",
        "    y = np.multiply(1j, R)\n",
        "    phi = GBM_characteristic_function(y, sigma, SIGMA, T, r)  # Characteristic function\n",
        "    p = fourier_payoff_basket_put(y)  # Fourier Transformed Payoff function\n",
        "    discount = K * ((2 * np.pi) ** (-d)) * np.exp(-r * T) * np.exp(-R @ X0)  # modified discount factor\n",
        "    integrand = discount * phi * p\n",
        "    return np.real(integrand)  # Real part of the integrand\n",
        "\n",
        "\n",
        "def RQMC_fourier_GBM_call_on_min_pricer(S0, K, r, T, sigma, SIGMA, N, R, m, SIGMA_IS):\n",
        "    \"\"\"Perform QMC estimate for GBM call option pricing.\n",
        "    Args:\n",
        "    - S0 (array): Initial stock prices.\n",
        "    - K (float): Strike price.\n",
        "    - r (float): Risk-free interest rate.\n",
        "    - T (float): Time to maturity.\n",
        "    - sigma (array): Array of volatilities of each stock.\n",
        "    - SIGMA (array): Covariance matrix.\n",
        "    - N (int): Number of QMC points.\n",
        "    - m (int): Number of randomizations of RQMC (digital shifts).\n",
        "    - R (array): Array of damping parameters.\n",
        "    - SIGMA_IS (array): Covariance matrix of the domain transformation PDF.\n",
        "\n",
        "    Returns:\n",
        "    - qmc_estimate (float): RQMC estimate of option price.\n",
        "    - qmc_stat_error (float): RQMC statistical error (absolute not relative).\n",
        "    \"\"\"\n",
        "    L_IS = la.cholesky(SIGMA_IS)\n",
        "    d = len(S0)  # number of stocks\n",
        "    X0 = np.log(np.divide(S0, K))\n",
        "    discount = ((2 * np.pi) ** (-d)) * np.exp(-r * T) * np.exp(-R @ X0)  # modified discount factor\n",
        "    V_list = np.zeros(m)  # Contains m price estimates each corresponding to a shifted sobol sequence\n",
        "    for i in range(m):\n",
        "        xi_sobol_scrambled = qmcpy.DigitalNetB2(d, graycode=True, randomize='DS', seed=i).gen_samples(N)\n",
        "        xi_sobol_shifted_mapped = stats.norm.ppf(q=xi_sobol_scrambled, loc=0, scale=1)\n",
        "        V = 0  # Initialization of Option price contract value for ith rQMC iteration\n",
        "        for n in range(N):  # for each sobol point\n",
        "            u = L_IS @ xi_sobol_shifted_mapped[n]  # inverse CDF of uniformly distributed sample to have sample from standard normal\n",
        "            y = u + np.multiply(1j, R)  # Change of variable, shift by damping parameter to integrate over axis parallel to real line.\n",
        "            phi = GBM_characteristic_function(y, sigma, SIGMA, T, r)  # evaluation of characteristic function at all sobol points\n",
        "            p = fourier_payoff_call_on_min(y)  # evaluation of Fourier Transformed Payoff function at a sobol point\n",
        "            IS_pdf_prod = stats.multivariate_normal.pdf(x=u, mean=np.zeros(d), cov=SIGMA_IS)  # product of gaussian densities evaluated at each component of d-dim vector: {rho(u_i)}i=1..d\n",
        "            V += (1 / N) * np.exp(1j * u @ X0) * phi * p / IS_pdf_prod\n",
        "        V_list[i] = K * discount * np.real(V)\n",
        "    qmc_estimate = np.mean(V_list)  # RQMC estimate\n",
        "    qmc_stat_error = 1.96 * np.std(V_list) / np.sqrt(m)  # RQMC statistical error.\n",
        "    return qmc_estimate, qmc_stat_error\n",
        "\n",
        "\n",
        "def RQMC_fourier_GBM_basket_put_pricer(S0, K, r, T, sigma, SIGMA, N, R, m, SIGMA_IS):\n",
        "    \"\"\"Perform QMC estimate for GBM call option pricing.\n",
        "    Args:\n",
        "    - S0 (array): Initial stock prices.\n",
        "    - K (float): Strike price.\n",
        "    - r (float): Risk-free interest rate.\n",
        "    - T (float): Time to maturity.\n",
        "    - sigma (array): Array of volatilities of each stock.\n",
        "    - SIGMA (array): Covariance matrix.\n",
        "    - N (int): Number of QMC points.\n",
        "    - m (int): Number of randomizations of RQMC (digital shifts).\n",
        "    - R (array): Array of damping parameters.\n",
        "    - SIGMA_IS (array): Covariance matrix of the domain transformation PDF.\n",
        "\n",
        "    Returns:\n",
        "    - qmc_estimate (float): RQMC estimate of option price.\n",
        "    - qmc_stat_error (float): RQMC statistical error (absolute not relative).\n",
        "    \"\"\"\n",
        "    L_IS = la.cholesky(SIGMA_IS)\n",
        "    d = len(S0)  # number of stocks\n",
        "    X0 = np.log(np.divide(S0, d*K))\n",
        "    discount = ((2 * np.pi) ** (-d)) * np.exp(-r * T) * np.exp(-R @ X0)  # modified discount factor\n",
        "    V_list = np.zeros(m)  # Contains m price estimates each corresponding to a shifted sobol sequence\n",
        "    for i in range(m):\n",
        "        xi_sobol_scrambled = qmcpy.DigitalNetB2(d, graycode=True, randomize='DS', seed=i).gen_samples(N)\n",
        "        xi_sobol_shifted_mapped = stats.norm.ppf(q=xi_sobol_scrambled, loc=0, scale=1)\n",
        "        V = 0  # Initialization of Option price contract value for ith rQMC iteration\n",
        "        for n in range(N):  # for each sobol point\n",
        "            u = L_IS @ xi_sobol_shifted_mapped[n]  # inverse CDF of uniformly distributed sample to have sample from standard normal\n",
        "            y = u + np.multiply(1j, R)  # Change of variable, shift by damping parameter to integrate over axis parallel to real line.\n",
        "            phi = GBM_characteristic_function(y, sigma, SIGMA, T, r)  # evaluation of characteristic function at all sobol points\n",
        "            p = fourier_payoff_basket_put(y)  # evaluation of Fourier Transformed Payoff function at a sobol point\n",
        "            IS_pdf_prod = stats.multivariate_normal.pdf(x=u, mean=np.zeros(d), cov=SIGMA_IS)  # product of gaussian densities evaluated at each component of d-dim vector: {rho(u_i)}i=1..d\n",
        "            V += (1 / N) * np.exp(1j * u @ X0) * phi * p / IS_pdf_prod\n",
        "        V_list[i] = K * discount * np.real(V)\n",
        "    qmc_estimate = np.mean(V_list)  # RQMC estimate\n",
        "    qmc_stat_error = 1.96 * np.std(V_list) / np.sqrt(m)  # RQMC statistical error.\n",
        "    return qmc_estimate, qmc_stat_error"
      ],
      "metadata": {
        "id": "PX-yFJM6BjwY"
      },
      "execution_count": 48,
      "outputs": []
    },
    {
      "cell_type": "markdown",
      "source": [
        "# Call on min Options"
      ],
      "metadata": {
        "id": "U_v83uPfOa7_"
      }
    },
    {
      "cell_type": "markdown",
      "source": [
        "## Computing the damping parameters using the rule proposed in [link to the paper](https://arxiv.org/pdf/2203.08196.pdf)"
      ],
      "metadata": {
        "id": "meo1VY1KEVfG"
      }
    },
    {
      "cell_type": "code",
      "source": [
        "# Model and payoff parameters\n",
        "K = 100 # strike price\n",
        "r = 0 # risk-free interest rate\n",
        "T = 1 # maturity date\n",
        "dimension = 6 # number of underlying assets\n",
        "S0 = 100 * np.ones(dimension) # vector of spot prices\n",
        "sigma = 0.2 * np.ones(dimension) # vector of volatilities\n",
        "rho = np.identity(dimension) # correlation matrix\n",
        "SIGMA = covariance_matrix(sigma,rho) # covariance matrix\n",
        "\n",
        "############### Setting for the optimal damping parameters #############\n",
        "# Constraints related to the strip of regularity of the payoff transform\n",
        "def rainbow_constraint_1(R):\n",
        "  return -1*R\n",
        "def rainbow_constraint_2(R):\n",
        "  return -1 - np.sum(R)\n",
        "cons = ( {'type': 'ineq', 'fun': rainbow_constraint_1},\n",
        "        {'type': 'ineq', 'fun': rainbow_constraint_2},)\n",
        "# Characteristic function of GBM is an entire function hence there are no related constraints to it.\n",
        "R_init = -2*np.ones(dimension) # initial parameters R needs to belong to the strip of analyticity of the integrand\n",
        "optimal_R = optimize.minimize(fun = integrand_to_optimize_GBM_call_on_min, constraints = cons, x0 = R_init , method = \"trust-constr\" )\n",
        "#print(optimal_R) # uncomment to see wether the optimizer converged succesfully.\n",
        "R = optimal_R.x\n",
        "print(\"Optimal damping parameters:\", R)"
      ],
      "metadata": {
        "colab": {
          "base_uri": "https://localhost:8080/"
        },
        "id": "zRUISyJKEo6s",
        "outputId": "48f346cb-8e63-4a21-96ba-1f03c2729481"
      },
      "execution_count": null,
      "outputs": [
        {
          "output_type": "stream",
          "name": "stdout",
          "text": [
            "Optimal damping parameters: [-4.67675337 -4.67675337 -4.67675337 -4.67675337 -4.67675335 -4.67675335]\n"
          ]
        }
      ]
    },
    {
      "cell_type": "markdown",
      "source": [
        "## Pricing using RQMC in the Fourier space"
      ],
      "metadata": {
        "id": "riACdOkOF-8w"
      }
    },
    {
      "cell_type": "code",
      "source": [
        "############### Model and payoff parameters ###############\n",
        "K = 100 # strike price\n",
        "r = 0 # risk-free interest rate\n",
        "T = 1 # maturity date\n",
        "dimension = 6 # number of underlying assets\n",
        "S0 = 100 * np.ones(dimension) # vector of spot prices\n",
        "sigma = 0.2 * np.ones(dimension) # vector of volatilities\n",
        "rho = np.identity(dimension) # correlation matrix\n",
        "SIGMA = covariance_matrix(sigma,rho) # covariance matrix\n",
        "\n",
        "############### QMC parameters ###############\n",
        "m = 30 # number of digital shifts of RQMC\n",
        "N = 2**6 # number of QMC Sobol points\n",
        "SIGMA_IS = (1 / T) * la.inv(SIGMA) # Proposed QMC domain transformation\n",
        "R_init = -2*np.ones(dimension) # initial parameters R needs to belong to the strip of analyticity of the integrand\n",
        "optimal_R = optimize.minimize(fun = integrand_to_optimize_GBM_basket_put, constraints = cons, x0 = R_init , method = \"trust-constr\" )\n",
        "R = optimal_R.x\n",
        "RQMC_estimate, RQMC_stat_estimate = RQMC_fourier_GBM_call_on_min_pricer(S0,K,r,T,sigma,SIGMA,N,R,m,SIGMA_IS)\n",
        "print(\"RQMC estimate =\", round(RQMC_estimate,5), \", Relative Statistical Error =\", round(RQMC_stat_estimate / RQMC_estimate,5)  )"
      ],
      "metadata": {
        "colab": {
          "base_uri": "https://localhost:8080/"
        },
        "id": "jY19XJogLjms",
        "outputId": "62877013-6de2-4ce0-b117-4fcb59c013d0"
      },
      "execution_count": 34,
      "outputs": [
        {
          "output_type": "stream",
          "name": "stdout",
          "text": [
            "RQMC estimate = 0.03378 , Relative Statistical Error = 0.00494\n"
          ]
        }
      ]
    },
    {
      "cell_type": "markdown",
      "source": [
        "# Basket Put"
      ],
      "metadata": {
        "id": "Oz011IytOek5"
      }
    },
    {
      "cell_type": "markdown",
      "source": [
        "## Computing the damping parameters using the rule proposed in [link to the paper](https://arxiv.org/pdf/2203.08196.pdf)"
      ],
      "metadata": {
        "id": "DHgE7xPkReSX"
      }
    },
    {
      "cell_type": "code",
      "source": [
        " # Model and payoff parameters\n",
        "K = 100 # strike price\n",
        "r = 0 # risk-free interest rate\n",
        "T = 1 # maturity date\n",
        "dimension = 4 # number of underlying assets\n",
        "S0 = 100 * np.ones(dimension) # vector of spot prices\n",
        "sigma = 0.2 * np.ones(dimension) # vector of volatilities\n",
        "rho = np.identity(dimension) # correlation matrix\n",
        "SIGMA = covariance_matrix(sigma,rho) # covariance matrix\n",
        "\n",
        "############### Setting for the optimal damping parameters #############\n",
        "# Constraints related to the strip of regularity of the payoff transform\n",
        "def basket_put_constraint(R):\n",
        "    return R\n",
        "cons = ( {'type': 'ineq', 'fun': basket_put_constraint},)\n",
        "# Characteristic function of GBM is an entire function hence there are no related constraints to it.\n",
        "R_init = 1*np.ones(dimension) # initial parameters R needs to belong to the strip of analyticity of the integrand\n",
        "optimal_R = optimize.minimize(fun = integrand_to_optimize_GBM_basket_put, constraints = cons, x0 = R_init , method = \"trust-constr\" )\n",
        "#print(optimal_R) # uncomment to see wether the optimizer converged succesfully.\n",
        "R = optimal_R.x\n",
        "print(\"Optimal damping parameters:\", R)"
      ],
      "metadata": {
        "colab": {
          "base_uri": "https://localhost:8080/"
        },
        "id": "Ygx-5LCjOgU5",
        "outputId": "b6462e0a-9fbe-4533-d03c-1f0c96bb51dd"
      },
      "execution_count": 57,
      "outputs": [
        {
          "output_type": "stream",
          "name": "stdout",
          "text": [
            "Optimal damping parameters: [3.51974639 3.51974639 3.51974638 3.51974638]\n"
          ]
        }
      ]
    },
    {
      "cell_type": "markdown",
      "source": [
        "## Pricing using RQMC in the Fourier space"
      ],
      "metadata": {
        "id": "xaYmKD7BRgB4"
      }
    },
    {
      "cell_type": "code",
      "source": [
        "############### Model and payoff parameters ###############\n",
        "K = 100 # strike price\n",
        "r = 0 # risk-free interest rate\n",
        "T = 1 # maturity date\n",
        "dimension = 4 # number of underlying assets\n",
        "S0 = 100 * np.ones(dimension) # vector of spot prices\n",
        "sigma = 0.2 * np.ones(dimension) # vector of volatilities\n",
        "rho = np.identity(dimension) # correlation matrix\n",
        "SIGMA = covariance_matrix(sigma,rho) # covariance matrix\n",
        "\n",
        "############### QMC parameters ###############\n",
        "m = 30 # number of digital shifts of RQMC\n",
        "N = 2**6 # number of QMC Sobol points\n",
        "SIGMA_IS = (1 / T) * la.inv(SIGMA) # Proposed QMC domain transformation\n",
        "R_init = 1*np.ones(dimension) # initial parameters R needs to belong to the strip of analyticity of the integrand\n",
        "optimal_R = optimize.minimize(fun = integrand_to_optimize_GBM_basket_put, constraints = cons, x0 = R_init , method = \"trust-constr\" )\n",
        "R = optimal_R.x\n",
        "RQMC_estimate, RQMC_stat_estimate = RQMC_fourier_GBM_basket_put_pricer(S0,K,r,T,sigma,SIGMA,N,R,m,SIGMA_IS)\n",
        "print(\"RQMC estimate =\", round(RQMC_estimate,5), \", Relative Statistical Error =\", round(RQMC_stat_estimate / RQMC_estimate,5)  )"
      ],
      "metadata": {
        "colab": {
          "base_uri": "https://localhost:8080/"
        },
        "id": "IG_ofT50OftR",
        "outputId": "b7becbce-aa71-4d62-d948-1a5e5f055cb7"
      },
      "execution_count": 58,
      "outputs": [
        {
          "output_type": "stream",
          "name": "stdout",
          "text": [
            "RQMC estimate = 3.98108 , Relative Statistical Error = 0.06247\n"
          ]
        }
      ]
    }
  ]
}