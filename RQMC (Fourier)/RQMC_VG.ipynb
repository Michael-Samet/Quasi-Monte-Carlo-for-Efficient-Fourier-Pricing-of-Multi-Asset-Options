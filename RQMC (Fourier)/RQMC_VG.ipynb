{
  "nbformat": 4,
  "nbformat_minor": 0,
  "metadata": {
    "colab": {
      "provenance": []
    },
    "kernelspec": {
      "name": "python3",
      "display_name": "Python 3"
    },
    "language_info": {
      "name": "python"
    }
  },
  "cells": [
    {
      "cell_type": "markdown",
      "source": [
        "# Libraries"
      ],
      "metadata": {
        "id": "my0cWkCNTi9-"
      }
    },
    {
      "cell_type": "code",
      "execution_count": 1,
      "metadata": {
        "id": "St5wI-7qTVWu"
      },
      "outputs": [],
      "source": [
        "# Linear algebra\n",
        "import scipy.stats as ss\n",
        "import scipy.special\n",
        "from scipy import optimize\n",
        "from mpmath import gamma\n",
        "import numpy as np\n",
        "import scipy\n",
        "from scipy.stats import norm\n",
        "from numpy import linalg as la\n",
        "from scipy import sparse\n",
        "from scipy.sparse.linalg import spsolve\n",
        "import pandas as pd\n",
        "from scipy.stats import multivariate_normal\n",
        "from scipy.stats import t as t_student\n",
        "#Plotting\n",
        "import matplotlib.pyplot as plt\n",
        "import seaborn as sns\n",
        "sns.set()\n",
        "sns.set_style(\"whitegrid\")\n",
        "### plotting\n",
        "from matplotlib import cm\n",
        "from matplotlib.ticker import LinearLocator\n",
        "from mpl_toolkits.mplot3d import Axes3D\n",
        "import cvxpy as cp\n",
        "import time\n",
        "### Other\n",
        "import itertools\n",
        "from timeit import default_timer as timer\n",
        "from itertools import product\n",
        "from ipywidgets import interact, widgets\n",
        "import warnings\n",
        "warnings.filterwarnings(\"ignore\")"
      ]
    },
    {
      "cell_type": "code",
      "source": [
        "### QMC\n",
        "!pip install gpytorch\n",
        "!pip install qmcpy\n",
        "import qmcpy"
      ],
      "metadata": {
        "colab": {
          "base_uri": "https://localhost:8080/"
        },
        "id": "6S0SGfSzTflh",
        "outputId": "46146ae9-c751-4e2b-cb42-792e7e70b11d"
      },
      "execution_count": 2,
      "outputs": [
        {
          "output_type": "stream",
          "name": "stdout",
          "text": [
            "Collecting gpytorch\n",
            "  Downloading gpytorch-1.11-py3-none-any.whl (266 kB)\n",
            "\u001b[2K     \u001b[90m━━━━━━━━━━━━━━━━━━━━━━━━━━━━━━━━━━━━━━━━\u001b[0m \u001b[32m266.1/266.1 kB\u001b[0m \u001b[31m3.1 MB/s\u001b[0m eta \u001b[36m0:00:00\u001b[0m\n",
            "\u001b[?25hRequirement already satisfied: scikit-learn in /usr/local/lib/python3.10/dist-packages (from gpytorch) (1.2.2)\n",
            "Collecting linear-operator>=0.5.0 (from gpytorch)\n",
            "  Downloading linear_operator-0.5.2-py3-none-any.whl (175 kB)\n",
            "\u001b[2K     \u001b[90m━━━━━━━━━━━━━━━━━━━━━━━━━━━━━━━━━━━━━━━━\u001b[0m \u001b[32m175.6/175.6 kB\u001b[0m \u001b[31m19.2 MB/s\u001b[0m eta \u001b[36m0:00:00\u001b[0m\n",
            "\u001b[?25hRequirement already satisfied: torch>=1.11 in /usr/local/lib/python3.10/dist-packages (from linear-operator>=0.5.0->gpytorch) (2.1.0+cu121)\n",
            "Requirement already satisfied: scipy in /usr/local/lib/python3.10/dist-packages (from linear-operator>=0.5.0->gpytorch) (1.11.4)\n",
            "Collecting jaxtyping>=0.2.9 (from linear-operator>=0.5.0->gpytorch)\n",
            "  Downloading jaxtyping-0.2.25-py3-none-any.whl (39 kB)\n",
            "Collecting typeguard~=2.13.3 (from linear-operator>=0.5.0->gpytorch)\n",
            "  Downloading typeguard-2.13.3-py3-none-any.whl (17 kB)\n",
            "Requirement already satisfied: numpy>=1.17.3 in /usr/local/lib/python3.10/dist-packages (from scikit-learn->gpytorch) (1.25.2)\n",
            "Requirement already satisfied: joblib>=1.1.1 in /usr/local/lib/python3.10/dist-packages (from scikit-learn->gpytorch) (1.3.2)\n",
            "Requirement already satisfied: threadpoolctl>=2.0.0 in /usr/local/lib/python3.10/dist-packages (from scikit-learn->gpytorch) (3.3.0)\n",
            "Requirement already satisfied: typing-extensions>=3.7.4.1 in /usr/local/lib/python3.10/dist-packages (from jaxtyping>=0.2.9->linear-operator>=0.5.0->gpytorch) (4.9.0)\n",
            "Requirement already satisfied: filelock in /usr/local/lib/python3.10/dist-packages (from torch>=1.11->linear-operator>=0.5.0->gpytorch) (3.13.1)\n",
            "Requirement already satisfied: sympy in /usr/local/lib/python3.10/dist-packages (from torch>=1.11->linear-operator>=0.5.0->gpytorch) (1.12)\n",
            "Requirement already satisfied: networkx in /usr/local/lib/python3.10/dist-packages (from torch>=1.11->linear-operator>=0.5.0->gpytorch) (3.2.1)\n",
            "Requirement already satisfied: jinja2 in /usr/local/lib/python3.10/dist-packages (from torch>=1.11->linear-operator>=0.5.0->gpytorch) (3.1.3)\n",
            "Requirement already satisfied: fsspec in /usr/local/lib/python3.10/dist-packages (from torch>=1.11->linear-operator>=0.5.0->gpytorch) (2023.6.0)\n",
            "Requirement already satisfied: triton==2.1.0 in /usr/local/lib/python3.10/dist-packages (from torch>=1.11->linear-operator>=0.5.0->gpytorch) (2.1.0)\n",
            "Requirement already satisfied: MarkupSafe>=2.0 in /usr/local/lib/python3.10/dist-packages (from jinja2->torch>=1.11->linear-operator>=0.5.0->gpytorch) (2.1.5)\n",
            "Requirement already satisfied: mpmath>=0.19 in /usr/local/lib/python3.10/dist-packages (from sympy->torch>=1.11->linear-operator>=0.5.0->gpytorch) (1.3.0)\n",
            "Installing collected packages: typeguard, jaxtyping, linear-operator, gpytorch\n",
            "Successfully installed gpytorch-1.11 jaxtyping-0.2.25 linear-operator-0.5.2 typeguard-2.13.3\n",
            "Collecting qmcpy\n",
            "  Downloading qmcpy-1.4.5.tar.gz (7.4 MB)\n",
            "\u001b[2K     \u001b[90m━━━━━━━━━━━━━━━━━━━━━━━━━━━━━━━━━━━━━━━━\u001b[0m \u001b[32m7.4/7.4 MB\u001b[0m \u001b[31m47.6 MB/s\u001b[0m eta \u001b[36m0:00:00\u001b[0m\n",
            "\u001b[?25h  Preparing metadata (setup.py) ... \u001b[?25l\u001b[?25hdone\n",
            "Requirement already satisfied: numpy>=1.17.0 in /usr/local/lib/python3.10/dist-packages (from qmcpy) (1.25.2)\n",
            "Requirement already satisfied: scipy>=1.0.0 in /usr/local/lib/python3.10/dist-packages (from qmcpy) (1.11.4)\n",
            "Building wheels for collected packages: qmcpy\n",
            "  Building wheel for qmcpy (setup.py) ... \u001b[?25l\u001b[?25hdone\n",
            "  Created wheel for qmcpy: filename=qmcpy-1.4.5-cp310-cp310-linux_x86_64.whl size=7693205 sha256=b3136b4e31cbaeafb3565db25ecb99d4ee22a1bbd9a9ea6b76bc7a14b04d4486\n",
            "  Stored in directory: /root/.cache/pip/wheels/ac/82/9f/b755d059c498da7517193ae6e58198d71e1089d14b4713733e\n",
            "Successfully built qmcpy\n",
            "Installing collected packages: qmcpy\n",
            "Successfully installed qmcpy-1.4.5\n"
          ]
        }
      ]
    },
    {
      "cell_type": "markdown",
      "source": [],
      "metadata": {
        "id": "Ob0BHcxtTnsq"
      }
    },
    {
      "cell_type": "code",
      "source": [
        "import numpy as np\n",
        "import scipy.stats as stats\n",
        "import scipy.linalg as la\n",
        "import qmcpy\n",
        "from scipy.stats import multivariate_t, chi2, norm\n",
        "\n",
        "def t_student_pdf(x, sigma_IS):\n",
        "  return t_student.pdf( x =  x, df = nu_IS, loc = 0, scale = sigma_IS)\n",
        "\n",
        "def t_student_ppf(x, sigma_IS):\n",
        "  return t_student.ppf( q =  x, df = nu_IS, loc = 0, scale = sigma_IS)\n",
        "\n",
        "\n",
        "def covariance_matrix(sigma, rho):\n",
        "    \"\"\"Compute the covariance matrix.\n",
        "    Args:\n",
        "    - sigma (array): Array of volatilities of each stock.\n",
        "    - rho (array): Correlation matrix.\n",
        "    Returns:\n",
        "    - SIGMA (array): Covariance matrix.\n",
        "    \"\"\"\n",
        "    sigma = np.diag(sigma)  # Diagonal matrix of volatilities\n",
        "    SIGMA = np.dot(sigma, np.dot(rho, sigma))  # Covariance matrix calculation\n",
        "    return SIGMA\n",
        "\n",
        "def VG_characteristic_function(u, SIGMA, T, r, theta, nu):\n",
        "    \"\"\"Calculate the characteristic function of Variance-Gamma process.\n",
        "    Args:\n",
        "    - u (array): Vector in Rd.\n",
        "    - SIGMA (array): Covariance matrix.\n",
        "    - T (float): Terminal time.\n",
        "    - r (float): Short rate.\n",
        "    - theta (array): Array of theta values.\n",
        "    - nu (float): Nu parameter.\n",
        "    Returns:\n",
        "    - phi (complex): Characteristic function value.\n",
        "    \"\"\"\n",
        "    d = len(theta)  # Number of stocks\n",
        "    w = (1/nu) * np.log(1 - nu * theta - 0.5 * nu * np.diag(SIGMA))  # Martingale correction term\n",
        "    phi = np.exp(np.multiply(1j * T, np.dot(r + w, u))) * (1 - np.multiply(1j * nu, np.dot(theta, u)) +\n",
        "                                                           0.5 * nu * np.dot(u, np.dot(SIGMA, u))) ** (-T/nu)\n",
        "    return phi\n",
        "\n",
        "def fourier_payoff_call_on_min(u):\n",
        "    \"\"\"Compute the Fourier of the payoff of scaled (K = 1) call on min option.\n",
        "    Args:\n",
        "    - u (array): Array of Fourier frequencies.\n",
        "    Returns:\n",
        "    - payoff (float): Call on min option payoff Fourier transofrm value.\n",
        "    \"\"\"\n",
        "    denominator = (np.multiply(1j, np.sum(u)) - 1) * np.prod(np.multiply(1j, u))\n",
        "    return 1 / denominator\n",
        "\n",
        "def fourier_payoff_basket_put(u):\n",
        "  \"\"\"Compute the Fourier of the payoff of scaled (K = 1) basket put option.\n",
        "  Args:\n",
        "  - u (array): Array of Fourier frequencies.\n",
        "  Returns:\n",
        "  - payoff (float): Call on min option payoff Fourier transofrm value.\n",
        "  \"\"\"\n",
        "  numerator = np.prod(scipy.special.gamma(np.multiply(-1j,u)))\n",
        "  denominator = scipy.special.gamma(-1j*(np.sum(u))+2)\n",
        "  return (numerator/denominator)\n",
        "\n",
        "\n",
        "def integrand_to_optimize_VG_call_on_min(R):\n",
        "    \"\"\"Calculate the integrand for QMC estimation of the rainbow option under VG model.\n",
        "    Args:\n",
        "    - R (array): Array of damping parameters.\n",
        "    Returns:\n",
        "    - integrand (float): Integrand value.\n",
        "    \"\"\"\n",
        "    d = len(S0)  # Dimensionality\n",
        "    X0 = np.log(np.divide(S0, K))  # Element-wise division\n",
        "    y = np.multiply(1j, R)\n",
        "    phi = VG_characteristic_function(y, SIGMA, T, r, theta, nu)  # Characteristic function\n",
        "    p = fourier_payoff_call_on_min(y)  # Fourier Transformed Payoff function\n",
        "    discount = ((2 * np.pi) ** (-d)) * np.exp(-r * T) * np.exp(-np.dot(R, X0))  # Modified discount factor\n",
        "    integrand = K * discount * phi * p\n",
        "    return integrand\n",
        "\n",
        "def integrand_to_optimize_VG_basket_put(R):\n",
        "    \"\"\"Calculate the integrand for QMC estimation of the basket put option under VG model.\n",
        "    Args:\n",
        "    - R (array): Array of damping parameters.\n",
        "    Returns:\n",
        "    - integrand (float): Integrand value.\n",
        "    \"\"\"\n",
        "    d = len(S0)  # Dimensionality\n",
        "    X0 = np.log(np.divide(S0, d*K))  # Element-wise division\n",
        "    y = np.multiply(1j, R)\n",
        "    phi = VG_characteristic_function(y, SIGMA, T, r, theta, nu)  # Characteristic function\n",
        "    p = fourier_payoff_basket_put(y)  # Fourier Transformed Payoff function\n",
        "    discount = ((2 * np.pi) ** (-d)) * np.exp(-r * T) * np.exp(-np.dot(R, X0))  # Modified discount factor\n",
        "    integrand = K * discount * phi * p\n",
        "    return integrand\n",
        "\n",
        "def RQMC_fourier_VG_call_on_min_pricer(S0, K, r, T, sigma, rho, theta, nu, SIGMA, N, R, m, nu_IS, sigma_IS):\n",
        "  \"\"\"Price of call on min option under the multivariate VG model using RQMC\n",
        "  - S0 (array): Initial stock prices.\n",
        "  - K (float): Strike price.\n",
        "  - r (float): Risk-free interest rate.\n",
        "  - T (float): Time to maturity.\n",
        "  - sigma (array): Array of volatilities of each stock.\n",
        "  - rho (array): Correlation matrix.\n",
        "  - theta (array): Array of theta values.\n",
        "  - nu (float): Nu parameter.\n",
        "  - SIGMA (array): Covariance matrix.\n",
        "  - N (int): Number of QMC points.\n",
        "  - m (int): Number of randomizations of RQMC (digital shifts).\n",
        "  - R (array): Array of damping parameters.\n",
        "  - nu_IS (float): Nu parameter of the IS t-Student distribution.\n",
        "  - sigma_IS (array): Scale parameter of the IS t-Student distribution.\n",
        "  Returns:\n",
        "  - qmc_estimate (float): QMC estimate of option price.\n",
        "  - qmc_stat_error (float): QMC statistical error (absolute not relative).\n",
        "  \"\"\"\n",
        "  d = len(S0) #number of stocks\n",
        "  X0 = np.log(np.divide(S0,K)) #element-wise division\n",
        "  discount=((2*np.pi)**(-d))*np.exp(-r*T)*np.exp(-R @ X0) #modified discount factor\n",
        "  V_list  = np.zeros(m) #Contains m price estimates each corresponding to a shifted sobol sequence\n",
        "  for i in range(m):\n",
        "    xi_sobol_scrambled = qmcpy.DigitalNetB2(d, graycode = True, randomize='DS', seed = i).gen_samples(N)\n",
        "    xi_sobol_scrambled_mapped = np.asarray([t_student_ppf(row, param) for row, param in zip(zip(*xi_sobol_scrambled), sigma_IS)]).T\n",
        "    V = 0 #Initialisation of Option price contract value for ith rQMC iteration\n",
        "    for n in range(N): # for each sobol point\n",
        "      u = xi_sobol_scrambled_mapped[n] #inverse CDF of uniformly distributed sample to have sample from standard normal\n",
        "      y = u + np.multiply(1j,R) #Change of variable, shift by damping parameter to integrate over axis // to real line.\n",
        "      phi = VG_characteristic_function(y,SIGMA,T,r,theta,nu) #evaluation of characteristic function at all sobol points\n",
        "      p = fourier_payoff_call_on_min(y) # evaluation of Fourier Transformed Payoff function at all sobol points\n",
        "      par_vect_t_student_pdf = map(lambda x, args: t_student_pdf(x, args), u, sigma_IS)\n",
        "      IS_pdf_prod = np.prod(np.asarray(list(par_vect_t_student_pdf))) #product of t-student densities evaluated at each component of d-dim vector\n",
        "      V += (1/N) * K * discount * np.exp(1j * u @ X0) * phi * p / IS_pdf_prod\n",
        "    V_list[i] = np.real(V)\n",
        "  qmc_estimate = np.mean(V_list) #QMC estimate\n",
        "  qmc_stat_error  = 1.96*np.std(V_list)/np.sqrt(m) #QMC statistical error\n",
        "  return qmc_estimate,qmc_stat_error\n",
        "\n",
        "def RQMC_fourier_VG_basket_put_pricer(S0, K, r, T, sigma, rho, theta, nu, SIGMA, N, R, m, nu_IS, sigma_IS):\n",
        "  \"\"\"Price of call on min option under the multivariate VG model using RQMC\n",
        "  - S0 (array): Initial stock prices.\n",
        "  - K (float): Strike price.\n",
        "  - r (float): Risk-free interest rate.\n",
        "  - T (float): Time to maturity.\n",
        "  - sigma (array): Array of volatilities of each stock.\n",
        "  - rho (array): Correlation matrix.\n",
        "  - theta (array): Array of theta values.\n",
        "  - nu (float): Nu parameter.\n",
        "  - SIGMA (array): Covariance matrix.\n",
        "  - N (int): Number of QMC points.\n",
        "  - m (int): Number of randomizations of RQMC (digital shifts).\n",
        "  - R (array): Array of damping parameters.\n",
        "  - nu_IS (float): Nu parameter of the IS t-Student distribution.\n",
        "  - sigma_IS (array): Scale parameter of the IS t-Student distribution.\n",
        "  Returns:\n",
        "  - qmc_estimate (float): QMC estimate of option price.\n",
        "  - qmc_stat_error (float): QMC statistical error (absolute not relative).\n",
        "  \"\"\"\n",
        "  d = len(S0) #number of stocks\n",
        "  X0 = np.log(np.divide(S0,d*K)) #element-wise division\n",
        "  discount=((2*np.pi)**(-d))*np.exp(-r*T)*np.exp(-R @ X0) #modified discount factor\n",
        "  V_list  = np.zeros(m) #Contains m price estimates each corresponding to a shifted sobol sequence\n",
        "  for i in range(m):\n",
        "    xi_sobol_scrambled = qmcpy.DigitalNetB2(d, graycode = True, randomize='DS', seed = i).gen_samples(N)\n",
        "    xi_sobol_scrambled_mapped = np.asarray([t_student_ppf(row, param) for row, param in zip(zip(*xi_sobol_scrambled), sigma_IS)]).T\n",
        "    V = 0 #Initialisation of Option price contract value for ith rQMC iteration\n",
        "    for n in range(N): # for each sobol point\n",
        "      u = xi_sobol_scrambled_mapped[n] #inverse CDF of uniformly distributed sample to have sample from standard normal\n",
        "      y = u + np.multiply(1j,R) #Change of variable, shift by damping parameter to integrate over axis // to real line.\n",
        "      phi = VG_characteristic_function(y,SIGMA,T,r,theta,nu) #evaluation of characteristic function at all sobol points\n",
        "      p = fourier_payoff_basket_put(y) # evaluation of Fourier Transformed Payoff function at all sobol points\n",
        "      par_vect_t_student_pdf = map(lambda x, args: t_student_pdf(x, args), u, sigma_IS)\n",
        "      IS_pdf_prod = np.prod(np.asarray(list(par_vect_t_student_pdf))) #product of t-student densities evaluated at each component of d-dim vector\n",
        "      V += (1/N) * K * discount * np.exp(1j * u @ X0) * phi * p / IS_pdf_prod\n",
        "    V_list[i] = np.real(V)\n",
        "  qmc_estimate = np.mean(V_list) #QMC estimate\n",
        "  qmc_stat_error  = 1.96*np.std(V_list)/np.sqrt(m) #QMC statistical error\n",
        "  return qmc_estimate,qmc_stat_error\n",
        "\n",
        "\n",
        "def chi_pdf(u, nu):\n",
        "    \"\"\"Compute the probability density function of the chi distribution.\n",
        "    Args:\n",
        "    - u (float): Value to evaluate the PDF at.\n",
        "    - nu (float): Degrees of freedom parameter.\n",
        "    Returns:\n",
        "    - pdf (float): PDF value at u.\n",
        "    \"\"\"\n",
        "    return 2 ** (-0.5 * nu + 1) * u ** (nu - 1) * np.exp(-0.5 * u ** 2) / scipy.special.gamma(0.5 * nu)\n",
        "\n",
        "def LagRQMC_fourier_VG_call_on_min_pricer(S0, K, r, T, sigma, rho, theta, nu, SIGMA, N, R, M_lag, nu_IS, SIGMA_IS):\n",
        "  \"\"\"Perform Laguerre-RQMC hybrid quadrature estimate for call on min options under the VG distribution with multivariate domain transformation\n",
        "  Args:\n",
        "  - S0 (array): Initial stock prices.\n",
        "  - K (float): Strike price.\n",
        "  - r (float): Risk-free interest rate.\n",
        "  - T (float): Time to maturity.\n",
        "  - sigma (array): Array of volatilities of each stock.\n",
        "  - rho (array): Correlation matrix.\n",
        "  - theta (array): Array of theta values.\n",
        "  - nu (float): Nu parameter.\n",
        "  - SIGMA (array): Covariance matrix.\n",
        "  - N (int): Number of QMC points.\n",
        "  - R (array): Array of damping parameters.\n",
        "  - M_lag (int): Number of Laguerre quadrature nodes.\n",
        "  - nu_IS (float): Nu parameter of the t-Student transformation distribution.\n",
        "  - SIGMA_IS (array): Covariance matrix of the IS t-Student transformation distribution.\n",
        "  Returns:\n",
        "  - V (float): Option price estimate.\n",
        "  \"\"\"\n",
        "  d = len(S0) #number of stocks\n",
        "  X0 = np.log(np.divide(S0,K)) #element-wise division\n",
        "  discount= ((2*np.pi)**(-d)) * np.exp(-r*T) * np.exp(-R @ X0) #modified discount factor\n",
        "  SIGMA_IS_tilde = nu_IS * SIGMA_IS  # scaling the normal disitribution by sqrt(nu_IS)\n",
        "  L_IS = la.cholesky(SIGMA_IS_tilde)\n",
        "  outer_integral_values = np.zeros(M_lag)\n",
        "  [lag_abcissas,lag_weights] = np.polynomial.laguerre.laggauss(M_lag) #Laguerre quadrature nodes and weights.\n",
        "  for k in range(M_lag):\n",
        "    xi_sobol_scrambled = qmcpy.DigitalNetB2(d, graycode = True, randomize='DS', seed = 1).gen_samples(N)\n",
        "    xi_sobol_mapped = norm.ppf( q = xi_sobol_scrambled, loc = 0, scale = 1) # sampels from N(0,I_d)\n",
        "    inner_integral = 0 #Initialisation of Option price contract value for ith rQMC iteration\n",
        "    for n in range(N): # number of QMC points\n",
        "      u = L_IS @ xi_sobol_mapped[n] / lag_abcissas[k] # sample from  sqrt(nu_IS) * N(O, Sigma_IS) divided by y(k)\n",
        "      y = u + np.multiply(1j,R) #Change of variable, shift by damping parameter to integrate over axis // to real line.\n",
        "      phi = VG_characteristic_function(y ,SIGMA,T,r,theta,nu) #evaluation of characteristic function at all sobol points\n",
        "      p = fourier_payoff_call_on_min(y) # evaluation of Fourier Transformed Payoff function at all sobol points\n",
        "      IS_pdf_prod  = multivariate_t.pdf(x = u , df = nu_IS, loc = np.zeros(d), shape = SIGMA_IS)\n",
        "      inner_integral_increment = (1/N) * K * discount * np.real( np.exp(1j * u @ X0 ) * phi * p ) / IS_pdf_prod\n",
        "      if (inner_integral_increment - inner_integral_increment != 0):\n",
        "        inner_integral_increment = 0\n",
        "      inner_integral += inner_integral_increment\n",
        "    outer_integral_values[k] = inner_integral * lag_weights[k] * chi_pdf(lag_abcissas[k],nu_IS) / np.exp(- lag_abcissas[k])\n",
        "  V = np.sum(outer_integral_values)\n",
        "  return V\n",
        "\n",
        "def LagRQMC_fourier_VG_basket_put_pricer(S0, K, r, T, sigma, rho, theta, nu, SIGMA, N, R, M_lag, nu_IS, SIGMA_IS):\n",
        "  \"\"\"Perform Laguerre-RQMC hybrid quadrature estimate for call on min options under the VG distribution with multivariate domain transformation\n",
        "  Args:\n",
        "  - S0 (array): Initial stock prices.\n",
        "  - K (float): Strike price.\n",
        "  - r (float): Risk-free interest rate.\n",
        "  - T (float): Time to maturity.\n",
        "  - sigma (array): Array of volatilities of each stock.\n",
        "  - rho (array): Correlation matrix.\n",
        "  - theta (array): Array of theta values.\n",
        "  - nu (float): Nu parameter.\n",
        "  - SIGMA (array): Covariance matrix.\n",
        "  - N (int): Number of QMC points.\n",
        "  - R (array): Array of damping parameters.\n",
        "  - M_lag (int): Number of Laguerre quadrature nodes.\n",
        "  - nu_IS (float): Nu parameter of the t-Student transformation distribution.\n",
        "  - SIGMA_IS (array): Covariance matrix of the IS t-Student transformation distribution.\n",
        "  Returns:\n",
        "  - V (float): Option price estimate.\n",
        "  \"\"\"\n",
        "  d = len(S0) #number of stocks\n",
        "  X0 = np.log(np.divide(S0,d*K)) #element-wise division\n",
        "  discount= ((2*np.pi)**(-d)) * np.exp(-r*T) * np.exp(-R @ X0) #modified discount factor\n",
        "  SIGMA_IS_tilde = nu_IS * SIGMA_IS  # scaling the normal disitribution by sqrt(nu_IS)\n",
        "  L_IS = la.cholesky(SIGMA_IS_tilde)\n",
        "  outer_integral_values = np.zeros(M_lag)\n",
        "  [lag_abcissas,lag_weights] = np.polynomial.laguerre.laggauss(M_lag) #Laguerre quadrature nodes and weights.\n",
        "  for k in range(M_lag):\n",
        "    xi_sobol_scrambled = qmcpy.DigitalNetB2(d, graycode = True, randomize='DS', seed = 1).gen_samples(N)\n",
        "    xi_sobol_mapped = norm.ppf( q = xi_sobol_scrambled, loc = 0, scale = 1) # sampels from N(0,I_d)\n",
        "    inner_integral = 0 #Initialisation of Option price contract value for ith rQMC iteration\n",
        "    for n in range(N): # number of QMC points\n",
        "      u = L_IS @ xi_sobol_mapped[n] / lag_abcissas[k] # sample from  sqrt(nu_IS) * N(O, Sigma_IS) divided by y(k)\n",
        "      y = u + np.multiply(1j,R) #Change of variable, shift by damping parameter to integrate over axis // to real line.\n",
        "      phi = VG_characteristic_function(y ,SIGMA,T,r,theta,nu) #evaluation of characteristic function at all sobol points\n",
        "      p = fourier_payoff_basket_put(y) # evaluation of Fourier Transformed Payoff function at all sobol points\n",
        "      IS_pdf_prod  = multivariate_t.pdf(x = u , df = nu_IS, loc = np.zeros(d), shape = SIGMA_IS)\n",
        "      inner_integral_increment = (1/N) * K * discount * np.real( np.exp(1j * u @ X0 ) * phi * p ) / IS_pdf_prod\n",
        "      if (inner_integral_increment - inner_integral_increment != 0):\n",
        "        inner_integral_increment = 0\n",
        "      inner_integral += inner_integral_increment\n",
        "    outer_integral_values[k] = inner_integral * lag_weights[k] * chi_pdf(lag_abcissas[k],nu_IS) / np.exp(- lag_abcissas[k])\n",
        "  V = np.sum(outer_integral_values)\n",
        "  return V"
      ],
      "metadata": {
        "id": "e2G8KqxLUgu9"
      },
      "execution_count": 41,
      "outputs": []
    },
    {
      "cell_type": "markdown",
      "source": [
        "# Call on min options"
      ],
      "metadata": {
        "id": "LZr98B5ZbJzT"
      }
    },
    {
      "cell_type": "markdown",
      "source": [
        "## Computing the damping parameters using the rule proposed in [link to the paper](https://arxiv.org/pdf/2203.08196.pdf)"
      ],
      "metadata": {
        "id": "5N9WfjfobSTz"
      }
    },
    {
      "cell_type": "code",
      "source": [
        "# Model and payoff parameters\n",
        "K = 100\n",
        "r = 0\n",
        "T = 1\n",
        "nu = 0.2\n",
        "dimension = 3\n",
        "S0 = 100 * np.ones(dimension)\n",
        "sigma = 0.2*np.ones(dimension)\n",
        "theta = -0.3*np.ones(dimension)\n",
        "rho = np.identity(dimension)\n",
        "SIGMA = covariance_matrix(sigma,rho)\n",
        "\n",
        "############### Setting for the optimal damping parameters #############\n",
        "# Constraints related to the strip of regularity of the payoff transform\n",
        "def call_on_min_constraint_1(R):\n",
        "    return -1 * R\n",
        "\n",
        "def call_on_min_constraint_2(R):\n",
        "    return -1 - np.sum(R)\n",
        "\n",
        "def VG_constraint(R):\n",
        "    return 1 + nu * theta @ R - 0.5 * nu * R @ SIGMA @ R\n",
        "\n",
        "cons = ( {'type': 'ineq', 'fun': VG_constraint},\n",
        "        {'type': 'ineq', 'fun': call_on_min_constraint_1},\n",
        "        {'type': 'ineq', 'fun': call_on_min_constraint_2},)\n",
        "\n",
        "# Characteristic function of GBM is an entire function hence there are no related constraints to it.\n",
        "R_init = -2*np.ones(dimension) # initial parameters R needs to belong to the strip of analyticity of the integrand\n",
        "optimal_R = optimize.minimize(fun = integrand_to_optimize_VG_call_on_min, constraints = cons, x0 = R_init , method = \"Nelder-Mead\" )\n",
        "#print(optimal_R) # uncomment to see wether the optimizer converged succesfully.\n",
        "R = optimal_R.x\n",
        "print(\"Optimal damping parameters:\", R)"
      ],
      "metadata": {
        "colab": {
          "base_uri": "https://localhost:8080/"
        },
        "id": "zz30oYTjclrm",
        "outputId": "823197c7-2449-4a91-f3d6-376071fa05c7"
      },
      "execution_count": 14,
      "outputs": [
        {
          "output_type": "stream",
          "name": "stdout",
          "text": [
            "Optimal damping parameters: [-5.83641532 -5.83637836 -5.83641692]\n"
          ]
        }
      ]
    },
    {
      "cell_type": "markdown",
      "source": [
        "## Pricing using RQMC in the Fourier space"
      ],
      "metadata": {
        "id": "NB36WBENdNga"
      }
    },
    {
      "cell_type": "markdown",
      "source": [
        "### Univariate domain transformation (RQMC)"
      ],
      "metadata": {
        "id": "WO-Uu32KePj-"
      }
    },
    {
      "cell_type": "code",
      "source": [
        "############### Model and payoff parameters ###############\n",
        "K = 100\n",
        "r = 0\n",
        "T = 1\n",
        "nu = 0.2\n",
        "dimension = 3\n",
        "S0 = 100 * np.ones(dimension)\n",
        "sigma = 0.2*np.ones(dimension)\n",
        "theta = -0.3*np.ones(dimension)\n",
        "rho = np.identity(dimension)\n",
        "SIGMA = covariance_matrix(sigma,rho)\n",
        "\n",
        "############### QMC parameters ###############\n",
        "m = 30 # number of digital shifts of RQMC\n",
        "N = 2**6 # number of QMC Sobol points\n",
        "nu_IS =  2*T / nu - 1\n",
        "print(\"nu_IS =\",nu_IS)\n",
        "#sigma_IS = (nu * sigma[0]**2 * nu_IS *0.5)**(T / (nu - 2*T))* nu_IS**( nu / (4*T-2*nu))\n",
        "sigma_IS = (nu * sigma**2 * nu_IS *0.5)**(T / (nu - 2*T))* nu_IS**( nu / (4*T-2*nu))\n",
        "print(\"sigma_IS =\", sigma_IS)\n",
        "R_init = -2*np.ones(dimension) # initial parameters R needs to belong to the strip of analyticity of the integrand\n",
        "optimal_R = optimize.minimize(fun = integrand_to_optimize_VG_call_on_min, constraints = cons, x0 = R_init , method = \"Nelder-Mead\" )\n",
        "#print(optimal_R) # uncomment to see wether the optimizer converged succesfully.\n",
        "R = optimal_R.x\n",
        "RQMC_estimate, RQMC_stat_estimate =  RQMC_fourier_VG_call_on_min_pricer(S0, K, r, T, sigma, rho, theta, nu, SIGMA, N, R, m, nu_IS, sigma_IS)\n",
        "print(\"RQMC estimate =\", round(RQMC_estimate,5), \", Relative Statistical Error =\", round(RQMC_stat_estimate / RQMC_estimate,5)  )"
      ],
      "metadata": {
        "colab": {
          "base_uri": "https://localhost:8080/"
        },
        "id": "bNFrt4jzdQ_s",
        "outputId": "7223582b-beba-401f-e2e3-57bed8e35e89"
      },
      "execution_count": 32,
      "outputs": [
        {
          "output_type": "stream",
          "name": "stdout",
          "text": [
            "nu_IS = 9.0\n",
            "sigma_IS = [7.16254954 7.16254954 7.16254954]\n",
            "RQMC estimate = 1.79387 , Relative Statistical Error = 0.01492\n"
          ]
        }
      ]
    },
    {
      "cell_type": "markdown",
      "source": [
        "### Multivariate domain transformation (Laguerre-RQMC)"
      ],
      "metadata": {
        "id": "OBlzCnweeSZF"
      }
    },
    {
      "cell_type": "code",
      "source": [
        "############### Model and payoff parameters ###############\n",
        "K = 100\n",
        "r = 0\n",
        "T = 1\n",
        "nu = 0.2\n",
        "dimension = 3\n",
        "S0 = 100 * np.ones(dimension)\n",
        "sigma = 0.2*np.ones(dimension)\n",
        "theta = -0.3*np.ones(dimension)\n",
        "rho = np.identity(dimension)\n",
        "SIGMA = covariance_matrix(sigma,rho)\n",
        "\n",
        "############### QMC parameters ###############\n",
        "N = 2**6 # number of QMC Sobol points\n",
        "M_lag = 2**6 # Number of laguerre quadrature nodes\n",
        "nu_IS =  2*T / nu - dimension\n",
        "print(\"nu_IS =\",nu_IS)\n",
        "SIGMA_IS  = la.inv(SIGMA)\n",
        "print(\"sigma_IS =\", sigma_IS)\n",
        "R_init = -2*np.ones(dimension) # initial parameters R needs to belong to the strip of analyticity of the integrand\n",
        "optimal_R = optimize.minimize(fun = integrand_to_optimize_VG_call_on_min, constraints = cons, x0 = R_init , method = \"Nelder-Mead\" )\n",
        "#print(optimal_R) # uncomment to see wether the optimizer converged succesfully.\n",
        "R = optimal_R.x\n",
        "RQMC_estimate =  LagRQMC_fourier_VG_call_on_min_pricer(S0, K, r, T, sigma, rho, theta, nu, SIGMA, N, R, M_lag, nu_IS, SIGMA_IS)\n",
        "print(\"RQMC estimate =\", round(RQMC_estimate,5)  )"
      ],
      "metadata": {
        "colab": {
          "base_uri": "https://localhost:8080/"
        },
        "id": "JVPPtPWldv9z",
        "outputId": "95a7719c-252e-45ad-f77d-e2d2639cea2a"
      },
      "execution_count": 18,
      "outputs": [
        {
          "output_type": "stream",
          "name": "stdout",
          "text": [
            "nu_IS = 7.0\n",
            "sigma_IS = 7.162549543128552\n",
            "RQMC estimate = 1.76882\n"
          ]
        }
      ]
    },
    {
      "cell_type": "markdown",
      "source": [
        "# Basket Put"
      ],
      "metadata": {
        "id": "xwI1afitfkNz"
      }
    },
    {
      "cell_type": "markdown",
      "source": [
        "## Computing the damping parameters using the rule proposed in [link to the paper](https://arxiv.org/pdf/2203.08196.pdf)"
      ],
      "metadata": {
        "id": "vIW0-jK6f4Bs"
      }
    },
    {
      "cell_type": "code",
      "source": [
        "# Model and payoff parameters\n",
        "K = 100\n",
        "r = 0\n",
        "T = 1\n",
        "nu = 0.2\n",
        "dimension = 3\n",
        "S0 = 100 * np.ones(dimension)\n",
        "sigma = 0.2*np.ones(dimension)\n",
        "theta = -0.3*np.ones(dimension)\n",
        "rho = np.identity(dimension)\n",
        "SIGMA = covariance_matrix(sigma,rho)\n",
        "\n",
        "############### Setting for the optimal damping parameters #############\n",
        "# Constraints related to the strip of regularity of the payoff transform\n",
        "def basket_put_constraint(R):\n",
        "    return R\n",
        "\n",
        "def VG_constraint(R):\n",
        "    return 1 + nu * theta @ R - 0.5 * nu * R @ SIGMA @ R\n",
        "\n",
        "cons = ( {'type': 'ineq', 'fun': VG_constraint},\n",
        "      {'type': 'ineq', 'fun': basket_put_constraint},)\n",
        "\n",
        "# Characteristic function of GBM is an entire function hence there are no related constraints to it.\n",
        "R_init = 1*np.ones(dimension) # initial parameters R needs to belong to the strip of analyticity of the integrand\n",
        "optimal_R = optimize.minimize(fun = integrand_to_optimize_VG_basket_put, constraints = cons, x0 = R_init , method = \"Nelder-Mead\" )\n",
        "#print(optimal_R) # uncomment to see wether the optimizer converged succesfully.\n",
        "R = optimal_R.x\n",
        "print(\"Optimal damping parameters:\", R)"
      ],
      "metadata": {
        "colab": {
          "base_uri": "https://localhost:8080/"
        },
        "id": "ut6wCV_rfnA8",
        "outputId": "adbc0675-457f-4d8a-ad64-304d0ae0d1ab"
      },
      "execution_count": 43,
      "outputs": [
        {
          "output_type": "stream",
          "name": "stdout",
          "text": [
            "Optimal damping parameters: [2.21940094 2.21946564 2.21941962]\n"
          ]
        }
      ]
    },
    {
      "cell_type": "markdown",
      "source": [
        "## Pricing using RQMC in the Fourier space"
      ],
      "metadata": {
        "id": "Xih-ZLRBf5mq"
      }
    },
    {
      "cell_type": "markdown",
      "source": [
        "### Univariate domain transformation (RQMC)"
      ],
      "metadata": {
        "id": "Gw1_RKDbf7il"
      }
    },
    {
      "cell_type": "code",
      "source": [
        "############### Model and payoff parameters ###############\n",
        "K = 100\n",
        "r = 0\n",
        "T = 1\n",
        "nu = 0.2\n",
        "dimension = 3\n",
        "S0 = 100 * np.ones(dimension)\n",
        "sigma = 0.2*np.ones(dimension)\n",
        "theta = -0.3*np.ones(dimension)\n",
        "rho = np.identity(dimension)\n",
        "SIGMA = covariance_matrix(sigma,rho)\n",
        "\n",
        "############### QMC parameters ###############\n",
        "m = 30 # number of digital shifts of RQMC\n",
        "N = 2**9 # number of QMC Sobol points\n",
        "nu_IS =  2*T / nu - 1\n",
        "print(\"nu_IS =\",nu_IS)\n",
        "#sigma_IS = (nu * sigma[0]**2 * nu_IS *0.5)**(T / (nu - 2*T))* nu_IS**( nu / (4*T-2*nu))\n",
        "sigma_IS = (nu * sigma**2 * nu_IS *0.5)**(T / (nu - 2*T))* nu_IS**( nu / (4*T-2*nu))\n",
        "print(\"sigma_IS =\", sigma_IS)\n",
        "R_init = 1*np.ones(dimension) # initial parameters R needs to belong to the strip of analyticity of the integrand\n",
        "optimal_R = optimize.minimize(fun = integrand_to_optimize_VG_basket_put, constraints = cons, x0 = R_init , method = \"Nelder-Mead\" )\n",
        "#print(optimal_R) # uncomment to see wether the optimizer converged succesfully.\n",
        "R = optimal_R.x\n",
        "RQMC_estimate, RQMC_stat_estimate =  RQMC_fourier_VG_basket_put_pricer(S0, K, r, T, sigma, rho, theta, nu, SIGMA, N, R, m, nu_IS, sigma_IS)\n",
        "print(\"RQMC estimate =\", round(RQMC_estimate,5), \", Relative Statistical Error =\", round(RQMC_stat_estimate / RQMC_estimate,5)  )"
      ],
      "metadata": {
        "colab": {
          "base_uri": "https://localhost:8080/"
        },
        "id": "Ul94UZimgYaB",
        "outputId": "8d4d5409-9e39-4610-a131-87a0be796e0c"
      },
      "execution_count": 48,
      "outputs": [
        {
          "output_type": "stream",
          "name": "stdout",
          "text": [
            "nu_IS = 9.0\n",
            "sigma_IS = [7.16254954 7.16254954 7.16254954]\n",
            "RQMC estimate = 6.38646 , Relative Statistical Error = 0.03771\n"
          ]
        }
      ]
    },
    {
      "cell_type": "markdown",
      "source": [
        "### Multivariate domain transformation (RQMC)"
      ],
      "metadata": {
        "id": "MPw2_9pwf8D-"
      }
    },
    {
      "cell_type": "code",
      "source": [
        "############### Model and payoff parameters ###############\n",
        "K = 100\n",
        "r = 0\n",
        "T = 1\n",
        "nu = 0.2\n",
        "dimension = 3\n",
        "S0 = 100 * np.ones(dimension)\n",
        "sigma = 0.2*np.ones(dimension)\n",
        "theta = -0.3*np.ones(dimension)\n",
        "rho = np.identity(dimension)\n",
        "SIGMA = covariance_matrix(sigma,rho)\n",
        "\n",
        "############### QMC parameters ###############\n",
        "N = 2**11 # number of QMC Sobol points\n",
        "M_lag = 2**5 # Number of laguerre quadrature nodes\n",
        "nu_IS =  2*T / nu - dimension\n",
        "print(\"nu_IS =\",nu_IS)\n",
        "SIGMA_IS  = la.inv(SIGMA)\n",
        "print(\"sigma_IS =\", sigma_IS)\n",
        "R_init = 1*np.ones(dimension) # initial parameters R needs to belong to the strip of analyticity of the integrand\n",
        "optimal_R = optimize.minimize(fun = integrand_to_optimize_VG_basket_put, constraints = cons, x0 = R_init , method = \"Nelder-Mead\" )\n",
        "#print(optimal_R) # uncomment to see wether the optimizer converged succesfully.\n",
        "R = optimal_R.x\n",
        "RQMC_estimate =  LagRQMC_fourier_VG_basket_put_pricer(S0, K, r, T, sigma, rho, theta, nu, SIGMA, N, R, M_lag, nu_IS, SIGMA_IS)\n",
        "print(\"RQMC estimate =\", round(RQMC_estimate,5)  )"
      ],
      "metadata": {
        "colab": {
          "base_uri": "https://localhost:8080/"
        },
        "id": "xS7fUajAg5Su",
        "outputId": "85614660-0f5f-4896-a214-25f17e04df1d"
      },
      "execution_count": 47,
      "outputs": [
        {
          "output_type": "stream",
          "name": "stdout",
          "text": [
            "nu_IS = 7.0\n",
            "sigma_IS = [7.16254954 7.16254954 7.16254954]\n",
            "RQMC estimate = 6.568\n"
          ]
        }
      ]
    }
  ]
}