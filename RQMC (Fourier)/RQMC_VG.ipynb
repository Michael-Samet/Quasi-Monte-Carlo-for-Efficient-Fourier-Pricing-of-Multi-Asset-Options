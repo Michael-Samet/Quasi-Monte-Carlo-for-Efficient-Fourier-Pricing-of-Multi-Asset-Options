{
  "cells": [
    {
      "cell_type": "markdown",
      "metadata": {
        "id": "my0cWkCNTi9-"
      },
      "source": [
        "# Libraries"
      ]
    },
    {
      "cell_type": "code",
      "execution_count": 2,
      "metadata": {
        "id": "St5wI-7qTVWu"
      },
      "outputs": [],
      "source": [
        "import qmcpy\n",
        "import scipy.stats as ss\n",
        "import scipy.special\n",
        "from scipy import optimize\n",
        "from mpmath import gamma\n",
        "import numpy as np\n",
        "import scipy\n",
        "from scipy.stats import norm\n",
        "from numpy import linalg as la\n",
        "from scipy.stats import multivariate_normal\n",
        "from scipy.stats import t as t_student\n",
        "import warnings\n",
        "warnings.filterwarnings(\"ignore\")"
      ]
    },
    {
      "cell_type": "markdown",
      "metadata": {
        "id": "Ob0BHcxtTnsq"
      },
      "source": []
    },
    {
      "cell_type": "code",
      "execution_count": 4,
      "metadata": {
        "id": "e2G8KqxLUgu9"
      },
      "outputs": [],
      "source": [
        "import numpy as np\n",
        "import scipy.stats as stats\n",
        "import scipy.linalg as la\n",
        "import qmcpy\n",
        "from scipy.stats import multivariate_t, chi2, norm\n",
        "\n",
        "def t_student_pdf(x, sigma_IS):\n",
        "  return t_student.pdf( x =  x, df = nu_IS, loc = 0, scale = sigma_IS)\n",
        "\n",
        "def t_student_ppf(x, sigma_IS):\n",
        "  return t_student.ppf( q =  x, df = nu_IS, loc = 0, scale = sigma_IS)\n",
        "\n",
        "\n",
        "def covariance_matrix(sigma, rho):\n",
        "    \"\"\"Compute the covariance matrix.\n",
        "    Args:\n",
        "    - sigma (array): Array of volatilities of each stock.\n",
        "    - rho (array): Correlation matrix.\n",
        "    Returns:\n",
        "    - SIGMA (array): Covariance matrix.\n",
        "    \"\"\"\n",
        "    sigma = np.diag(sigma)  # Diagonal matrix of volatilities\n",
        "    SIGMA = np.dot(sigma, np.dot(rho, sigma))  # Covariance matrix calculation\n",
        "    return SIGMA\n",
        "\n",
        "def VG_characteristic_function(u, SIGMA, T, r, theta, nu):\n",
        "    \"\"\"Calculate the characteristic function of Variance-Gamma process.\n",
        "    Args:\n",
        "    - u (array): Vector in Rd.\n",
        "    - SIGMA (array): Covariance matrix.\n",
        "    - T (float): Terminal time.\n",
        "    - r (float): Short rate.\n",
        "    - theta (array): Array of theta values.\n",
        "    - nu (float): Nu parameter.\n",
        "    Returns:\n",
        "    - phi (complex): Characteristic function value.\n",
        "    \"\"\"\n",
        "    d = len(theta)  # Number of stocks\n",
        "    w = (1/nu) * np.log(1 - nu * theta - 0.5 * nu * np.diag(SIGMA))  # Martingale correction term\n",
        "    phi = np.exp(np.multiply(1j * T, np.dot(r + w, u))) * (1 - np.multiply(1j * nu, np.dot(theta, u)) +\n",
        "                                                           0.5 * nu * np.dot(u, np.dot(SIGMA, u))) ** (-T/nu)\n",
        "    return phi\n",
        "\n",
        "def fourier_payoff_call_on_min(u):\n",
        "    \"\"\"Compute the Fourier of the payoff of scaled (K = 1) call on min option.\n",
        "    Args:\n",
        "    - u (array): Array of Fourier frequencies.\n",
        "    Returns:\n",
        "    - payoff (float): Call on min option payoff Fourier transofrm value.\n",
        "    \"\"\"\n",
        "    denominator = (np.multiply(1j, np.sum(u)) - 1) * np.prod(np.multiply(1j, u))\n",
        "    return 1 / denominator\n",
        "\n",
        "def fourier_payoff_basket_put(u):\n",
        "  \"\"\"Compute the Fourier of the payoff of scaled (K = 1) basket put option.\n",
        "  Args:\n",
        "  - u (array): Array of Fourier frequencies.\n",
        "  Returns:\n",
        "  - payoff (float): Call on min option payoff Fourier transofrm value.\n",
        "  \"\"\"\n",
        "  numerator = np.prod(scipy.special.gamma(np.multiply(-1j,u)))\n",
        "  denominator = scipy.special.gamma(-1j*(np.sum(u))+2)\n",
        "  return (numerator/denominator)\n",
        "\n",
        "\n",
        "def integrand_to_optimize_VG_call_on_min(R):\n",
        "    \"\"\"Calculate the integrand for QMC estimation of the rainbow option under VG model.\n",
        "    Args:\n",
        "    - R (array): Array of damping parameters.\n",
        "    Returns:\n",
        "    - integrand (float): Integrand value.\n",
        "    \"\"\"\n",
        "    d = len(S0)  # Dimensionality\n",
        "    X0 = np.log(np.divide(S0, K))  # Element-wise division\n",
        "    y = np.multiply(1j, R)\n",
        "    phi = VG_characteristic_function(y, SIGMA, T, r, theta, nu)  # Characteristic function\n",
        "    p = fourier_payoff_call_on_min(y)  # Fourier Transformed Payoff function\n",
        "    discount = ((2 * np.pi) ** (-d)) * np.exp(-r * T) * np.exp(-np.dot(R, X0))  # Modified discount factor\n",
        "    integrand = K * discount * phi * p\n",
        "    return integrand\n",
        "\n",
        "def integrand_to_optimize_VG_basket_put(R):\n",
        "    \"\"\"Calculate the integrand for QMC estimation of the basket put option under VG model.\n",
        "    Args:\n",
        "    - R (array): Array of damping parameters.\n",
        "    Returns:\n",
        "    - integrand (float): Integrand value.\n",
        "    \"\"\"\n",
        "    d = len(S0)  # Dimensionality\n",
        "    X0 = np.log(np.divide(S0, d*K))  # Element-wise division, X0 = log(S0/ (d*K)) because the weights of the baske (1/d) are included in the definition of X0.\n",
        "    y = np.multiply(1j, R)\n",
        "    phi = VG_characteristic_function(y, SIGMA, T, r, theta, nu)  # Characteristic function\n",
        "    p = fourier_payoff_basket_put(y)  # Fourier Transformed Payoff function\n",
        "    discount = ((2 * np.pi) ** (-d)) * np.exp(-r * T) * np.exp(-np.dot(R, X0))  # Modified discount factor\n",
        "    integrand = K * discount * phi * p\n",
        "    return integrand\n",
        "\n",
        "def RQMC_fourier_VG_call_on_min_pricer(S0, K, r, T, sigma, rho, theta, nu, SIGMA, N, R, m, nu_IS, sigma_IS):\n",
        "  \"\"\"Price of call on min option under the multivariate VG model using RQMC\n",
        "  - S0 (array): Initial stock prices.\n",
        "  - K (float): Strike price.\n",
        "  - r (float): Risk-free interest rate.\n",
        "  - T (float): Time to maturity.\n",
        "  - sigma (array): Array of volatilities of each stock.\n",
        "  - rho (array): Correlation matrix.\n",
        "  - theta (array): Array of theta values.\n",
        "  - nu (float): Nu parameter.\n",
        "  - SIGMA (array): Covariance matrix.\n",
        "  - N (int): Number of QMC points.\n",
        "  - m (int): Number of randomizations of RQMC (digital shifts).\n",
        "  - R (array): Array of damping parameters.\n",
        "  - nu_IS (float): Nu parameter of the IS t-Student distribution.\n",
        "  - sigma_IS (array): Scale parameter of the IS t-Student distribution.\n",
        "  Returns:\n",
        "  - qmc_estimate (float): QMC estimate of option price.\n",
        "  - qmc_stat_error (float): QMC statistical error (absolute not relative).\n",
        "  \"\"\"\n",
        "  d = len(S0) #number of stocks\n",
        "  X0 = np.log(np.divide(S0,K)) #element-wise division\n",
        "  discount=((2*np.pi)**(-d))*np.exp(-r*T)*np.exp(-R @ X0) #modified discount factor\n",
        "  V_list  = np.zeros(m) #Contains m price estimates each corresponding to a shifted sobol sequence\n",
        "  for i in range(m):\n",
        "    xi_sobol_scrambled = qmcpy.DigitalNetB2(d, graycode = True, randomize='DS', seed = i).gen_samples(N)\n",
        "    xi_sobol_scrambled_mapped = np.asarray([t_student_ppf(row, param) for row, param in zip(zip(*xi_sobol_scrambled), sigma_IS)]).T\n",
        "    V = 0 #Initialisation of Option price contract value for ith rQMC iteration\n",
        "    for n in range(N): # for each sobol point\n",
        "      u = xi_sobol_scrambled_mapped[n] #inverse CDF of uniformly distributed sample to have sample from standard normal\n",
        "      y = u + np.multiply(1j,R) #Change of variable, shift by damping parameter to integrate over axis // to real line.\n",
        "      phi = VG_characteristic_function(y,SIGMA,T,r,theta,nu) #evaluation of characteristic function at all sobol points\n",
        "      p = fourier_payoff_call_on_min(y) # evaluation of Fourier Transformed Payoff function at all sobol points\n",
        "      par_vect_t_student_pdf = map(lambda x, args: t_student_pdf(x, args), u, sigma_IS)\n",
        "      IS_pdf_prod = np.prod(np.asarray(list(par_vect_t_student_pdf))) #product of t-student densities evaluated at each component of d-dim vector\n",
        "      V += (1/N) * K * discount * np.exp(1j * u @ X0) * phi * p / IS_pdf_prod\n",
        "    V_list[i] = np.real(V)\n",
        "  qmc_estimate = np.mean(V_list) #QMC estimate\n",
        "  qmc_stat_error  = 1.96*np.std(V_list)/np.sqrt(m) #QMC statistical error\n",
        "  return qmc_estimate,qmc_stat_error\n",
        "\n",
        "def RQMC_fourier_VG_basket_put_pricer(S0, K, r, T, sigma, rho, theta, nu, SIGMA, N, R, m, nu_IS, sigma_IS):\n",
        "  \"\"\"Price of call on min option under the multivariate VG model using RQMC\n",
        "  - S0 (array): Initial stock prices.\n",
        "  - K (float): Strike price.\n",
        "  - r (float): Risk-free interest rate.\n",
        "  - T (float): Time to maturity.\n",
        "  - sigma (array): Array of volatilities of each stock.\n",
        "  - rho (array): Correlation matrix.\n",
        "  - theta (array): Array of theta values.\n",
        "  - nu (float): Nu parameter.\n",
        "  - SIGMA (array): Covariance matrix.\n",
        "  - N (int): Number of QMC points.\n",
        "  - m (int): Number of randomizations of RQMC (digital shifts).\n",
        "  - R (array): Array of damping parameters.\n",
        "  - nu_IS (float): Nu parameter of the IS t-Student distribution.\n",
        "  - sigma_IS (array): Scale parameter of the IS t-Student distribution.\n",
        "  Returns:\n",
        "  - qmc_estimate (float): QMC estimate of option price.\n",
        "  - qmc_stat_error (float): QMC statistical error (absolute not relative).\n",
        "  \"\"\"\n",
        "  d = len(S0) #number of stocks\n",
        "  X0 = np.log(np.divide(S0,d*K)) # Element-wise division, X0 = log(S0/ (d*K)) because the weights of the baske (1/d) are included in the definition of X0.\n",
        "  discount=((2*np.pi)**(-d))*np.exp(-r*T)*np.exp(-R @ X0) #modified discount factor\n",
        "  V_list  = np.zeros(m) #Contains m price estimates each corresponding to a shifted sobol sequence\n",
        "  for i in range(m):\n",
        "    xi_sobol_scrambled = qmcpy.DigitalNetB2(d, graycode = True, randomize='DS', seed = i).gen_samples(N)\n",
        "    xi_sobol_scrambled_mapped = np.asarray([t_student_ppf(row, param) for row, param in zip(zip(*xi_sobol_scrambled), sigma_IS)]).T\n",
        "    V = 0 #Initialisation of Option price contract value for ith rQMC iteration\n",
        "    for n in range(N): # for each sobol point\n",
        "      u = xi_sobol_scrambled_mapped[n] #inverse CDF of uniformly distributed sample to have sample from standard normal\n",
        "      y = u + np.multiply(1j,R) #Change of variable, shift by damping parameter to integrate over axis // to real line.\n",
        "      phi = VG_characteristic_function(y,SIGMA,T,r,theta,nu) #evaluation of characteristic function at all sobol points\n",
        "      p = fourier_payoff_basket_put(y) # evaluation of Fourier Transformed Payoff function at all sobol points\n",
        "      par_vect_t_student_pdf = map(lambda x, args: t_student_pdf(x, args), u, sigma_IS)\n",
        "      IS_pdf_prod = np.prod(np.asarray(list(par_vect_t_student_pdf))) #product of t-student densities evaluated at each component of d-dim vector\n",
        "      V += (1/N) * K * discount * np.exp(1j * u @ X0) * phi * p / IS_pdf_prod\n",
        "    V_list[i] = np.real(V)\n",
        "  qmc_estimate = np.mean(V_list) #QMC estimate\n",
        "  qmc_stat_error  = 1.96*np.std(V_list)/np.sqrt(m) #QMC statistical error\n",
        "  return qmc_estimate,qmc_stat_error\n",
        "\n",
        "\n",
        "def chi_pdf(u, nu):\n",
        "    \"\"\"Compute the probability density function of the chi distribution.\n",
        "    Args:\n",
        "    - u (float): Value to evaluate the PDF at.\n",
        "    - nu (float): Degrees of freedom parameter.\n",
        "    Returns:\n",
        "    - pdf (float): PDF value at u.\n",
        "    \"\"\"\n",
        "    return 2 ** (-0.5 * nu + 1) * u ** (nu - 1) * np.exp(-0.5 * u ** 2) / scipy.special.gamma(0.5 * nu)\n",
        "\n",
        "def LagRQMC_fourier_VG_call_on_min_pricer(S0, K, r, T, sigma, rho, theta, nu, SIGMA, N, R, M_lag, nu_IS, SIGMA_IS):\n",
        "  \"\"\"Perform Laguerre-RQMC hybrid quadrature estimate for call on min options under the VG distribution with multivariate domain transformation\n",
        "  Args:\n",
        "  - S0 (array): Initial stock prices.\n",
        "  - K (float): Strike price.\n",
        "  - r (float): Risk-free interest rate.\n",
        "  - T (float): Time to maturity.\n",
        "  - sigma (array): Array of volatilities of each stock.\n",
        "  - rho (array): Correlation matrix.\n",
        "  - theta (array): Array of theta values.\n",
        "  - nu (float): Nu parameter.\n",
        "  - SIGMA (array): Covariance matrix.\n",
        "  - N (int): Number of QMC points.\n",
        "  - R (array): Array of damping parameters.\n",
        "  - M_lag (int): Number of Laguerre quadrature nodes.\n",
        "  - nu_IS (float): Nu parameter of the t-Student transformation distribution.\n",
        "  - SIGMA_IS (array): Covariance matrix of the IS t-Student transformation distribution.\n",
        "  Returns:\n",
        "  - V (float): Option price estimate.\n",
        "  \"\"\"\n",
        "  d = len(S0) #number of stocks\n",
        "  X0 = np.log(np.divide(S0,K)) #element-wise division\n",
        "  discount= ((2*np.pi)**(-d)) * np.exp(-r*T) * np.exp(-R @ X0) #modified discount factor\n",
        "  SIGMA_IS_tilde = nu_IS * SIGMA_IS  # scaling the normal disitribution by sqrt(nu_IS)\n",
        "  L_IS = la.cholesky(SIGMA_IS_tilde)\n",
        "  outer_integral_values = np.zeros(M_lag)\n",
        "  [lag_abcissas,lag_weights] = np.polynomial.laguerre.laggauss(M_lag) #Laguerre quadrature nodes and weights.\n",
        "  for k in range(M_lag):\n",
        "    xi_sobol_scrambled = qmcpy.DigitalNetB2(d, graycode = True, randomize='DS', seed = 1).gen_samples(N)\n",
        "    xi_sobol_mapped = norm.ppf( q = xi_sobol_scrambled, loc = 0, scale = 1) # sampels from N(0,I_d)\n",
        "    inner_integral = 0 #Initialisation of Option price contract value for ith rQMC iteration\n",
        "    for n in range(N): # number of QMC points\n",
        "      u = L_IS @ xi_sobol_mapped[n] / lag_abcissas[k] # sample from  sqrt(nu_IS) * N(O, Sigma_IS) divided by y(k)\n",
        "      y = u + np.multiply(1j,R) #Change of variable, shift by damping parameter to integrate over axis // to real line.\n",
        "      phi = VG_characteristic_function(y ,SIGMA,T,r,theta,nu) #evaluation of characteristic function at all sobol points\n",
        "      p = fourier_payoff_call_on_min(y) # evaluation of Fourier Transformed Payoff function at all sobol points\n",
        "      IS_pdf_prod  = multivariate_t.pdf(x = u , df = nu_IS, loc = np.zeros(d), shape = SIGMA_IS)\n",
        "      inner_integral_increment = (1/N) * K * discount * np.real( np.exp(1j * u @ X0 ) * phi * p ) / IS_pdf_prod\n",
        "      if (inner_integral_increment - inner_integral_increment != 0):\n",
        "        inner_integral_increment = 0\n",
        "      inner_integral += inner_integral_increment\n",
        "    outer_integral_values[k] = inner_integral * lag_weights[k] * chi_pdf(lag_abcissas[k],nu_IS) / np.exp(- lag_abcissas[k])\n",
        "  V = np.sum(outer_integral_values)\n",
        "  return V\n",
        "\n",
        "def LagRQMC_fourier_VG_basket_put_pricer(S0, K, r, T, sigma, rho, theta, nu, SIGMA, N, R, M_lag, nu_IS, SIGMA_IS):\n",
        "  \"\"\"Perform Laguerre-RQMC hybrid quadrature estimate for call on min options under the VG distribution with multivariate domain transformation\n",
        "  Args:\n",
        "  - S0 (array): Initial stock prices.\n",
        "  - K (float): Strike price.\n",
        "  - r (float): Risk-free interest rate.\n",
        "  - T (float): Time to maturity.\n",
        "  - sigma (array): Array of volatilities of each stock.\n",
        "  - rho (array): Correlation matrix.\n",
        "  - theta (array): Array of theta values.\n",
        "  - nu (float): Nu parameter.\n",
        "  - SIGMA (array): Covariance matrix.\n",
        "  - N (int): Number of QMC points.\n",
        "  - R (array): Array of damping parameters.\n",
        "  - M_lag (int): Number of Laguerre quadrature nodes.\n",
        "  - nu_IS (float): Nu parameter of the t-Student transformation distribution.\n",
        "  - SIGMA_IS (array): Covariance matrix of the IS t-Student transformation distribution.\n",
        "  Returns:\n",
        "  - V (float): Option price estimate.\n",
        "  \"\"\"\n",
        "  d = len(S0) #number of stocks\n",
        "  X0 = np.log(np.divide(S0,d*K)) # Element-wise division, X0 = log(S0/ (d*K)) because the weights of the baske (1/d) are included in the definition of X0.\n",
        "  discount= ((2*np.pi)**(-d)) * np.exp(-r*T) * np.exp(-R @ X0) #modified discount factor\n",
        "  SIGMA_IS_tilde = nu_IS * SIGMA_IS  # scaling the normal disitribution by sqrt(nu_IS)\n",
        "  L_IS = la.cholesky(SIGMA_IS_tilde)\n",
        "  outer_integral_values = np.zeros(M_lag)\n",
        "  [lag_abcissas,lag_weights] = np.polynomial.laguerre.laggauss(M_lag) #Laguerre quadrature nodes and weights.\n",
        "  for k in range(M_lag):\n",
        "    xi_sobol_scrambled = qmcpy.DigitalNetB2(d, graycode = True, randomize='DS', seed = 1).gen_samples(N)\n",
        "    xi_sobol_mapped = norm.ppf( q = xi_sobol_scrambled, loc = 0, scale = 1) # sampels from N(0,I_d)\n",
        "    inner_integral = 0 #Initialisation of Option price contract value for ith rQMC iteration\n",
        "    for n in range(N): # number of QMC points\n",
        "      u = L_IS @ xi_sobol_mapped[n] / lag_abcissas[k] # sample from  sqrt(nu_IS) * N(O, Sigma_IS) divided by y(k)\n",
        "      y = u + np.multiply(1j,R) #Change of variable, shift by damping parameter to integrate over axis // to real line.\n",
        "      phi = VG_characteristic_function(y ,SIGMA,T,r,theta,nu) #evaluation of characteristic function at all sobol points\n",
        "      p = fourier_payoff_basket_put(y) # evaluation of Fourier Transformed Payoff function at all sobol points\n",
        "      IS_pdf_prod  = multivariate_t.pdf(x = u , df = nu_IS, loc = np.zeros(d), shape = SIGMA_IS)\n",
        "      inner_integral_increment = (1/N) * K * discount * np.real( np.exp(1j * u @ X0 ) * phi * p ) / IS_pdf_prod\n",
        "      if (inner_integral_increment - inner_integral_increment != 0):\n",
        "        inner_integral_increment = 0\n",
        "      inner_integral += inner_integral_increment\n",
        "    outer_integral_values[k] = inner_integral * lag_weights[k] * chi_pdf(lag_abcissas[k],nu_IS) / np.exp(- lag_abcissas[k])\n",
        "  V = np.sum(outer_integral_values)\n",
        "  return V"
      ]
    },
    {
      "cell_type": "markdown",
      "metadata": {
        "id": "LZr98B5ZbJzT"
      },
      "source": [
        "# Call on min options"
      ]
    },
    {
      "cell_type": "markdown",
      "metadata": {
        "id": "5N9WfjfobSTz"
      },
      "source": [
        "## Computing the damping parameters using the rule proposed in [link to the paper](https://arxiv.org/pdf/2203.08196.pdf)"
      ]
    },
    {
      "cell_type": "code",
      "execution_count": 5,
      "metadata": {
        "colab": {
          "base_uri": "https://localhost:8080/"
        },
        "id": "zz30oYTjclrm",
        "outputId": "823197c7-2449-4a91-f3d6-376071fa05c7"
      },
      "outputs": [
        {
          "name": "stdout",
          "output_type": "stream",
          "text": [
            "Optimal damping parameters: [-5.83641532 -5.83637836 -5.83641692]\n"
          ]
        }
      ],
      "source": [
        "# Model and payoff parameters\n",
        "K = 100\n",
        "r = 0\n",
        "T = 1\n",
        "nu = 0.2\n",
        "dimension = 3\n",
        "S0 = 100 * np.ones(dimension)\n",
        "sigma = 0.2*np.ones(dimension)\n",
        "theta = -0.3*np.ones(dimension)\n",
        "rho = np.identity(dimension)\n",
        "SIGMA = covariance_matrix(sigma,rho)\n",
        "\n",
        "############### Setting for the optimal damping parameters #############\n",
        "# Constraints related to the strip of regularity of the payoff transform\n",
        "def call_on_min_constraint_1(R):\n",
        "    return -1 * R\n",
        "\n",
        "def call_on_min_constraint_2(R):\n",
        "    return -1 - np.sum(R)\n",
        "\n",
        "def VG_constraint(R):\n",
        "    return 1 + nu * theta @ R - 0.5 * nu * R @ SIGMA @ R\n",
        "\n",
        "cons = ( {'type': 'ineq', 'fun': VG_constraint},\n",
        "        {'type': 'ineq', 'fun': call_on_min_constraint_1},\n",
        "        {'type': 'ineq', 'fun': call_on_min_constraint_2},)\n",
        "\n",
        "# Characteristic function of GBM is an entire function hence there are no related constraints to it.\n",
        "R_init = -2*np.ones(dimension) # initial parameters R needs to belong to the strip of analyticity of the integrand\n",
        "optimal_R = optimize.minimize(fun = integrand_to_optimize_VG_call_on_min, constraints = cons, x0 = R_init , method = \"Nelder-Mead\" )\n",
        "#print(optimal_R) # uncomment to see wether the optimizer converged succesfully.\n",
        "R = optimal_R.x\n",
        "print(\"Optimal damping parameters:\", R)"
      ]
    },
    {
      "cell_type": "markdown",
      "metadata": {
        "id": "NB36WBENdNga"
      },
      "source": [
        "## Pricing using RQMC in the Fourier space"
      ]
    },
    {
      "cell_type": "markdown",
      "metadata": {
        "id": "WO-Uu32KePj-"
      },
      "source": [
        "### Univariate domain transformation (RQMC)"
      ]
    },
    {
      "cell_type": "code",
      "execution_count": 6,
      "metadata": {
        "colab": {
          "base_uri": "https://localhost:8080/"
        },
        "id": "bNFrt4jzdQ_s",
        "outputId": "7223582b-beba-401f-e2e3-57bed8e35e89"
      },
      "outputs": [
        {
          "name": "stdout",
          "output_type": "stream",
          "text": [
            "nu_IS = 9.0\n",
            "sigma_IS = [7.16254954 7.16254954 7.16254954]\n",
            "RQMC estimate = 1.79387 , Relative Statistical Error = 0.01492\n"
          ]
        }
      ],
      "source": [
        "############### Model and payoff parameters ###############\n",
        "K = 100\n",
        "r = 0\n",
        "T = 1\n",
        "nu = 0.2\n",
        "dimension = 3\n",
        "S0 = 100 * np.ones(dimension)\n",
        "sigma = 0.2*np.ones(dimension)\n",
        "theta = -0.3*np.ones(dimension)\n",
        "rho = np.identity(dimension)\n",
        "SIGMA = covariance_matrix(sigma,rho)\n",
        "\n",
        "############### QMC parameters ###############\n",
        "m = 30 # number of digital shifts of RQMC\n",
        "N = 2**6 # number of QMC Sobol points\n",
        "nu_IS =  2*T / nu - 1\n",
        "print(\"nu_IS =\",nu_IS)\n",
        "#sigma_IS = (nu * sigma[0]**2 * nu_IS *0.5)**(T / (nu - 2*T))* nu_IS**( nu / (4*T-2*nu))\n",
        "sigma_IS = (nu * sigma**2 * nu_IS *0.5)**(T / (nu - 2*T))* nu_IS**( nu / (4*T-2*nu))\n",
        "print(\"sigma_IS =\", sigma_IS)\n",
        "R_init = -2*np.ones(dimension) # initial parameters R needs to belong to the strip of analyticity of the integrand\n",
        "optimal_R = optimize.minimize(fun = integrand_to_optimize_VG_call_on_min, constraints = cons, x0 = R_init , method = \"Nelder-Mead\" )\n",
        "#print(optimal_R) # uncomment to see wether the optimizer converged succesfully.\n",
        "R = optimal_R.x\n",
        "RQMC_estimate, RQMC_stat_estimate =  RQMC_fourier_VG_call_on_min_pricer(S0, K, r, T, sigma, rho, theta, nu, SIGMA, N, R, m, nu_IS, sigma_IS)\n",
        "print(\"RQMC estimate =\", round(RQMC_estimate,5), \", Relative Statistical Error =\", round(RQMC_stat_estimate / RQMC_estimate,5)  )"
      ]
    },
    {
      "cell_type": "markdown",
      "metadata": {
        "id": "OBlzCnweeSZF"
      },
      "source": [
        "### Multivariate domain transformation (Laguerre-RQMC)"
      ]
    },
    {
      "cell_type": "code",
      "execution_count": 7,
      "metadata": {
        "colab": {
          "base_uri": "https://localhost:8080/"
        },
        "id": "JVPPtPWldv9z",
        "outputId": "95a7719c-252e-45ad-f77d-e2d2639cea2a"
      },
      "outputs": [
        {
          "name": "stdout",
          "output_type": "stream",
          "text": [
            "nu_IS = 7.0\n",
            "sigma_IS = [7.16254954 7.16254954 7.16254954]\n",
            "RQMC estimate = 1.76882\n"
          ]
        }
      ],
      "source": [
        "############### Model and payoff parameters ###############\n",
        "K = 100\n",
        "r = 0\n",
        "T = 1\n",
        "nu = 0.2\n",
        "dimension = 3\n",
        "S0 = 100 * np.ones(dimension)\n",
        "sigma = 0.2*np.ones(dimension)\n",
        "theta = -0.3*np.ones(dimension)\n",
        "rho = np.identity(dimension)\n",
        "SIGMA = covariance_matrix(sigma,rho)\n",
        "\n",
        "############### QMC parameters ###############\n",
        "N = 2**6 # number of QMC Sobol points\n",
        "M_lag = 2**6 # Number of laguerre quadrature nodes\n",
        "nu_IS =  2*T / nu - dimension\n",
        "print(\"nu_IS =\",nu_IS)\n",
        "SIGMA_IS  = la.inv(SIGMA)\n",
        "print(\"sigma_IS =\", sigma_IS)\n",
        "R_init = -2*np.ones(dimension) # initial parameters R needs to belong to the strip of analyticity of the integrand\n",
        "optimal_R = optimize.minimize(fun = integrand_to_optimize_VG_call_on_min, constraints = cons, x0 = R_init , method = \"Nelder-Mead\" )\n",
        "#print(optimal_R) # uncomment to see wether the optimizer converged succesfully.\n",
        "R = optimal_R.x\n",
        "RQMC_estimate =  LagRQMC_fourier_VG_call_on_min_pricer(S0, K, r, T, sigma, rho, theta, nu, SIGMA, N, R, M_lag, nu_IS, SIGMA_IS)\n",
        "print(\"RQMC estimate =\", round(RQMC_estimate,5)  )"
      ]
    },
    {
      "cell_type": "markdown",
      "metadata": {
        "id": "xwI1afitfkNz"
      },
      "source": [
        "# Basket Put"
      ]
    },
    {
      "cell_type": "markdown",
      "metadata": {
        "id": "vIW0-jK6f4Bs"
      },
      "source": [
        "## Computing the damping parameters using the rule proposed in [link to the paper](https://arxiv.org/pdf/2203.08196.pdf)"
      ]
    },
    {
      "cell_type": "code",
      "execution_count": 8,
      "metadata": {
        "colab": {
          "base_uri": "https://localhost:8080/"
        },
        "id": "ut6wCV_rfnA8",
        "outputId": "adbc0675-457f-4d8a-ad64-304d0ae0d1ab"
      },
      "outputs": [
        {
          "name": "stdout",
          "output_type": "stream",
          "text": [
            "Optimal damping parameters: [2.21946564 2.21941962 2.21940094]\n"
          ]
        }
      ],
      "source": [
        "# Model and payoff parameters\n",
        "K = 100\n",
        "r = 0\n",
        "T = 1\n",
        "nu = 0.2\n",
        "dimension = 3\n",
        "S0 = 100 * np.ones(dimension)\n",
        "sigma = 0.2*np.ones(dimension)\n",
        "theta = -0.3*np.ones(dimension)\n",
        "rho = np.identity(dimension)\n",
        "SIGMA = covariance_matrix(sigma,rho)\n",
        "\n",
        "############### Setting for the optimal damping parameters #############\n",
        "# Constraints related to the strip of regularity of the payoff transform\n",
        "def basket_put_constraint(R):\n",
        "    return R\n",
        "\n",
        "def VG_constraint(R):\n",
        "    return 1 + nu * theta @ R - 0.5 * nu * R @ SIGMA @ R\n",
        "\n",
        "cons = ( {'type': 'ineq', 'fun': VG_constraint},\n",
        "      {'type': 'ineq', 'fun': basket_put_constraint},)\n",
        "\n",
        "# Characteristic function of GBM is an entire function hence there are no related constraints to it.\n",
        "R_init = 1*np.ones(dimension) # initial parameters R needs to belong to the strip of analyticity of the integrand\n",
        "optimal_R = optimize.minimize(fun = integrand_to_optimize_VG_basket_put, constraints = cons, x0 = R_init , method = \"Nelder-Mead\" )\n",
        "#print(optimal_R) # uncomment to see wether the optimizer converged succesfully.\n",
        "R = optimal_R.x\n",
        "print(\"Optimal damping parameters:\", R)"
      ]
    },
    {
      "cell_type": "markdown",
      "metadata": {
        "id": "Xih-ZLRBf5mq"
      },
      "source": [
        "## Pricing using RQMC in the Fourier space"
      ]
    },
    {
      "cell_type": "markdown",
      "metadata": {
        "id": "Gw1_RKDbf7il"
      },
      "source": [
        "### Univariate domain transformation (RQMC)"
      ]
    },
    {
      "cell_type": "code",
      "execution_count": 9,
      "metadata": {
        "colab": {
          "base_uri": "https://localhost:8080/"
        },
        "id": "Ul94UZimgYaB",
        "outputId": "8d4d5409-9e39-4610-a131-87a0be796e0c"
      },
      "outputs": [
        {
          "name": "stdout",
          "output_type": "stream",
          "text": [
            "nu_IS = 9.0\n",
            "sigma_IS = [7.16254954 7.16254954 7.16254954]\n",
            "RQMC estimate = 6.38646 , Relative Statistical Error = 0.03771\n"
          ]
        }
      ],
      "source": [
        "############### Model and payoff parameters ###############\n",
        "K = 100\n",
        "r = 0\n",
        "T = 1\n",
        "nu = 0.2\n",
        "dimension = 3\n",
        "S0 = 100 * np.ones(dimension)\n",
        "sigma = 0.2*np.ones(dimension)\n",
        "theta = -0.3*np.ones(dimension)\n",
        "rho = np.identity(dimension)\n",
        "SIGMA = covariance_matrix(sigma,rho)\n",
        "\n",
        "############### QMC parameters ###############\n",
        "m = 30 # number of digital shifts of RQMC\n",
        "N = 2**9 # number of QMC Sobol points\n",
        "nu_IS =  2*T / nu - 1\n",
        "print(\"nu_IS =\",nu_IS)\n",
        "#sigma_IS = (nu * sigma[0]**2 * nu_IS *0.5)**(T / (nu - 2*T))* nu_IS**( nu / (4*T-2*nu))\n",
        "sigma_IS = (nu * sigma**2 * nu_IS *0.5)**(T / (nu - 2*T))* nu_IS**( nu / (4*T-2*nu))\n",
        "print(\"sigma_IS =\", sigma_IS)\n",
        "R_init = 1*np.ones(dimension) # initial parameters R needs to belong to the strip of analyticity of the integrand\n",
        "optimal_R = optimize.minimize(fun = integrand_to_optimize_VG_basket_put, constraints = cons, x0 = R_init , method = \"Nelder-Mead\" )\n",
        "#print(optimal_R) # uncomment to see wether the optimizer converged succesfully.\n",
        "R = optimal_R.x\n",
        "RQMC_estimate, RQMC_stat_estimate =  RQMC_fourier_VG_basket_put_pricer(S0, K, r, T, sigma, rho, theta, nu, SIGMA, N, R, m, nu_IS, sigma_IS)\n",
        "print(\"RQMC estimate =\", round(RQMC_estimate,5), \", Relative Statistical Error =\", round(RQMC_stat_estimate / RQMC_estimate,5)  )"
      ]
    },
    {
      "cell_type": "markdown",
      "metadata": {
        "id": "MPw2_9pwf8D-"
      },
      "source": [
        "### Multivariate domain transformation (RQMC)"
      ]
    },
    {
      "cell_type": "code",
      "execution_count": 10,
      "metadata": {
        "colab": {
          "base_uri": "https://localhost:8080/"
        },
        "id": "xS7fUajAg5Su",
        "outputId": "85614660-0f5f-4896-a214-25f17e04df1d"
      },
      "outputs": [
        {
          "name": "stdout",
          "output_type": "stream",
          "text": [
            "nu_IS = 7.0\n",
            "sigma_IS = [7.16254954 7.16254954 7.16254954]\n",
            "RQMC estimate = 6.568\n"
          ]
        }
      ],
      "source": [
        "############### Model and payoff parameters ###############\n",
        "K = 100\n",
        "r = 0\n",
        "T = 1\n",
        "nu = 0.2\n",
        "dimension = 3\n",
        "S0 = 100 * np.ones(dimension)\n",
        "sigma = 0.2*np.ones(dimension)\n",
        "theta = -0.3*np.ones(dimension)\n",
        "rho = np.identity(dimension)\n",
        "SIGMA = covariance_matrix(sigma,rho)\n",
        "\n",
        "############### QMC parameters ###############\n",
        "N = 2**11 # number of QMC Sobol points\n",
        "M_lag = 2**5 # Number of laguerre quadrature nodes\n",
        "nu_IS =  2*T / nu - dimension\n",
        "print(\"nu_IS =\",nu_IS)\n",
        "SIGMA_IS  = la.inv(SIGMA)\n",
        "print(\"sigma_IS =\", sigma_IS)\n",
        "R_init = 1*np.ones(dimension) # initial parameters R needs to belong to the strip of analyticity of the integrand\n",
        "optimal_R = optimize.minimize(fun = integrand_to_optimize_VG_basket_put, constraints = cons, x0 = R_init , method = \"Nelder-Mead\" )\n",
        "#print(optimal_R) # uncomment to see wether the optimizer converged succesfully.\n",
        "R = optimal_R.x\n",
        "RQMC_estimate =  LagRQMC_fourier_VG_basket_put_pricer(S0, K, r, T, sigma, rho, theta, nu, SIGMA, N, R, M_lag, nu_IS, SIGMA_IS)\n",
        "print(\"RQMC estimate =\", round(RQMC_estimate,5)  )"
      ]
    }
  ],
  "metadata": {
    "colab": {
      "provenance": []
    },
    "kernelspec": {
      "display_name": "Python 3",
      "name": "python3"
    },
    "language_info": {
      "codemirror_mode": {
        "name": "ipython",
        "version": 3
      },
      "file_extension": ".py",
      "mimetype": "text/x-python",
      "name": "python",
      "nbconvert_exporter": "python",
      "pygments_lexer": "ipython3",
      "version": "3.11.5"
    }
  },
  "nbformat": 4,
  "nbformat_minor": 0
}
