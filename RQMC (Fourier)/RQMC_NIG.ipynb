{
  "cells": [
    {
      "cell_type": "markdown",
      "metadata": {
        "id": "BVyekeSE1zxA"
      },
      "source": [
        "# Importing Libraries"
      ]
    },
    {
      "cell_type": "code",
      "execution_count": 2,
      "metadata": {
        "id": "N93d4YdJ1gsp"
      },
      "outputs": [],
      "source": [
        "# Linear algebra\n",
        "import scipy.stats as ss\n",
        "import scipy.special\n",
        "from scipy import optimize\n",
        "from mpmath import gamma\n",
        "from scipy.stats import expon\n",
        "import numpy as np\n",
        "import scipy\n",
        "from scipy.stats import norm\n",
        "from numpy import linalg as la\n",
        "import pandas as pd\n",
        "from scipy.stats import multivariate_normal\n",
        "#Plotting\n",
        "import matplotlib.pyplot as plt\n",
        "import seaborn as sns\n",
        "sns.set_style(\"whitegrid\")\n",
        "### Other\n",
        "import warnings\n",
        "warnings.filterwarnings(\"ignore\")\n",
        "import qmcpy"
      ]
    },
    {
      "cell_type": "code",
      "execution_count": 72,
      "metadata": {
        "id": "pKG3Juut3ajK"
      },
      "outputs": [],
      "source": [
        "def NIG_characteristic_function(u, T, r, alpha, beta, delta, DELTA):\n",
        "  \"\"\"Compute the characteristic function of the NIG distribution.\n",
        "  Args:\n",
        "  - u (array): Vector in R^d.\n",
        "  - T (float): Terminal time.\n",
        "  - r (float): Short rate.\n",
        "  - alpha (float): Alpha parameter of the NIG distribution.\n",
        "  - beta (array): Array of beta values.\n",
        "  - delta (float): Delta parameter of the NIG distribution.\n",
        "  - DELTA (array): Covariance matrix.\n",
        "  Returns:\n",
        "  - phi (complex): Characteristic function value.\n",
        "  \"\"\"\n",
        "  mu = -delta * (np.sqrt(alpha**2 - np.square(beta)) - np.sqrt(alpha**2 - np.square(beta + 1)))\n",
        "  phi = np.exp(np.multiply(1j * T, (r + mu) @ u) + delta * T * (np.sqrt(alpha**2 - beta @ DELTA @ beta) - np.sqrt(alpha**2 - (beta + np.multiply(1j, u)) @ DELTA @ (beta + np.multiply(1j, u)))))\n",
        "  return phi\n",
        "\n",
        "\n",
        "def fourier_payoff_call_on_min(u):\n",
        "  \"\"\"Compute the Fourier of the payoff of scaled (K = 1) call on min option.\n",
        "  Args:\n",
        "  - u (array): Array of Fourier frequencies.\n",
        "  Returns:\n",
        "  - payoff (float): Call on min option payoff Fourier transofrm value.\n",
        "  \"\"\"\n",
        "  denominator = (np.multiply(1j, np.sum(u)) - 1) * np.prod(np.multiply(1j, u))\n",
        "  return 1 / denominator\n",
        "\n",
        "def fourier_payoff_basket_put(u):\n",
        "  \"\"\"Compute the Fourier of the payoff of scaled (K = 1) basket put option.\n",
        "  Args:\n",
        "  - u (array): Array of Fourier frequencies.\n",
        "  Returns:\n",
        "  - payoff (float): Call on min option payoff Fourier transofrm value.\n",
        "  \"\"\"\n",
        "  numerator = np.prod(scipy.special.gamma(np.multiply(-1j,u)))\n",
        "  denominator = scipy.special.gamma(-1j*(np.sum(u))+2)\n",
        "  return (numerator/denominator)\n",
        "\n",
        "\n",
        "def integrand_to_optimize_NIG_call_on_min(R):\n",
        "  \"\"\"Calculate the integrand for QMC estimation of the rainbow option under VG model.\n",
        "  Args:\n",
        "  - R (array): Array of damping parameters.\n",
        "  Returns:\n",
        "  - integrand (float): Integrand value.\n",
        "  \"\"\"\n",
        "  d = len(S0)  # Dimensionality\n",
        "  X0 = np.log(np.divide(S0, K))  # Element-wise division\n",
        "  y = np.multiply(1j, R)\n",
        "  phi = NIG_characteristic_function(y, T, r, alpha, beta, delta, DELTA)  # Characteristic function\n",
        "  p = fourier_payoff_call_on_min(y)  # Fourier Transformed Payoff function\n",
        "  discount = ((2 * np.pi) ** (-d)) * np.exp(-r * T) * np.exp(-np.dot(R, X0))  # Modified discount factor\n",
        "  integrand = K * discount * phi * p\n",
        "  return integrand.real  # Real part of the outcome of Gauss Hermite Quadrature (weighted sum)\n",
        "\n",
        "def integrand_to_optimize_NIG_basket_put(R):\n",
        "  \"\"\"Calculate the integrand for QMC estimation of the rainbow option under VG model.\n",
        "  Args:\n",
        "  - R (array): Array of damping parameters.\n",
        "  Returns:\n",
        "  - integrand (float): Integrand value.\n",
        "  \"\"\"\n",
        "  d = len(S0)  # Dimensionality\n",
        "  X0 = np.log(np.divide(S0, d*K))  # Element-wise division\n",
        "  y = np.multiply(1j, R)\n",
        "  phi = NIG_characteristic_function(y, T, r, alpha, beta, delta, DELTA)  # Characteristic function\n",
        "  p = fourier_payoff_basket_put(y)  # Fourier Transformed Payoff function\n",
        "  discount = ((2 * np.pi) ** (-d)) * np.exp(-r * T) * np.exp(-np.dot(R, X0))  # Modified discount factor\n",
        "  integrand = K * discount * phi * p\n",
        "  return integrand.real  # Real part of the outcome of Gauss Hermite Quadrature (weighted sum)\n",
        "\n",
        "\n",
        "def exponential_pdf(x, sigma_IS):\n",
        "  \"\"\"Compute the probability density function of the exponential distribution.\n",
        "\n",
        "  Args:\n",
        "  - x (float): Value to evaluate the PDF at.\n",
        "  - sigma_IS (float): Scale parameter of the exponential distribution.\n",
        "\n",
        "  Returns:\n",
        "  - pdf (float): PDF value at x.\n",
        "  \"\"\"\n",
        "  return np.exp(-np.abs(x) / sigma_IS) / (2 * sigma_IS)\n",
        "\n",
        "def oneD_exponential_inverse_cdf(u, sigma_IS):\n",
        "    \"\"\"Compute the inverse cumulative distribution function of the exponential distribution (1D).\n",
        "\n",
        "    Args:\n",
        "    - u (float): Value to evaluate the CDF at.\n",
        "    - sigma_IS (float): Scale parameter of the exponential distribution.\n",
        "\n",
        "    Returns:\n",
        "    - phi_inv (float): Inverse CDF value.\n",
        "    \"\"\"\n",
        "    phi_inv = np.piecewise(u, [0 < u <= 0.5, 1 > u > 0.5], [lambda u: sigma_IS * np.log(2 * u), lambda u: sigma_IS * np.log(1 / (2 - 2 * u))])\n",
        "    return phi_inv\n",
        "\n",
        "def exponential_inverse_cdf(u, sigma_IS):\n",
        "    \"\"\"Compute the component-wise inverse cumulative distribution function of the exponential distribution (multidimensional) of. avector\n",
        "\n",
        "    Args:\n",
        "    - u (array): vector to evaluate the inverse CDF at\n",
        "    - sigma_IS (float): Scale parameter of the exponential distribution.\n",
        "\n",
        "    Returns:\n",
        "    - inv_cdf (array): Inverse CDF vector\n",
        "    \"\"\"\n",
        "    f = np.vectorize(oneD_exponential_inverse_cdf)\n",
        "    return f(u, sigma_IS)\n",
        "\n",
        "\n",
        "def RQMC_fourier_NIG_call_on_min_pricer(S0, K, r, T, alpha, beta, delta, DELTA, N, R, m, sigma_IS):\n",
        "  \"\"\"Compute the QMC estimate for the rainbow option using exponential IS RQMC under NIG distribution.\n",
        "  Args:\n",
        "  - S0 (array): Initial stock prices.\n",
        "  - K (float): Strike price.\n",
        "  - r (float): Risk-free interest rate.\n",
        "  - T (float): Time to maturity.\n",
        "  - alpha (float): Alpha parameter of the NIG distribution.\n",
        "  - beta (array): Array of beta values.\n",
        "  - delta (float): Delta parameter of the NIG distribution.\n",
        "  - DELTA (array): Covariance matrix.\n",
        "  - N (int): Number of points per Sobol sequence.\n",
        "  - R (array): Array of damping parameters.\n",
        "  - m (int): Number of Sobol sequences.\n",
        "  - sigma_IS (float): Scale parameter of the IS distribution.\n",
        "  Returns:\n",
        "  - qmc_estimate (float): QMC estimate.\n",
        "  - qmc_stat_error (float): QMC statistical error.\n",
        "  \"\"\"\n",
        "  d = len(S0)  # Number of stocks\n",
        "  X0 = np.log(np.divide(S0, K))  # Element-wise division\n",
        "  discount = ((2 * np.pi) ** (-d)) * np.exp(-r * T) * np.exp(-R @ X0)  # Modified discount factor\n",
        "  V_list = np.zeros(m)  # Contains m price estimates each corresponding to a shifted sobol sequence\n",
        "  for i in range(m):\n",
        "    xi_sobol_scrambled = qmcpy.DigitalNetB2(d, graycode=True, randomize='DS', seed=i).gen_samples(N)\n",
        "    xi_sobol_shifted_mapped =  np.asarray([exponential_inverse_cdf(row, param) for row, param in zip(zip(*xi_sobol_scrambled), sigma_IS)]).T\n",
        "    V = 0  # Initialisation of Option price contract value for ith rQMC iteration\n",
        "    for n in range(N):  # For each Sobol point\n",
        "      u = xi_sobol_shifted_mapped[n]  # Inverse CDF of uniformly distributed sample to have sample from standard normal\n",
        "      y = u + np.multiply(1j, R)  # Change of variable, shift by damping parameter to integrate over axis // to real line\n",
        "      phi = NIG_characteristic_function(y, T, r, alpha, beta, delta, DELTA)  # Evaluation of characteristic function at all Sobol points\n",
        "      p = fourier_payoff_call_on_min(y)  # Evaluation of Fourier Transformed Payoff function at all Sobol points\n",
        "      par_vect_t_student_pdf = map(lambda x, args: exponential_pdf(x, args), u, sigma_IS)\n",
        "      IS_pdf_prod = np.prod(np.asarray(list(par_vect_t_student_pdf)))\n",
        "      V += (1 / N) * K * discount * np.exp(1j * u @ X0) * phi * p / IS_pdf_prod\n",
        "    V_list[i] = np.real(V)\n",
        "  qmc_estimate = np.mean(V_list)  # QMC estimate\n",
        "  qmc_stat_error = 1.96 * np.std(V_list) / np.sqrt(m)  # QMC statistical error\n",
        "  return qmc_estimate, qmc_stat_error\n",
        "\n",
        "\n",
        "def RQMC_fourier_NIG_basket_put_pricer(S0, K, r, T, alpha, beta, delta, DELTA, N, R, m, sigma_IS):\n",
        "  \"\"\"Compute the QMC estimate for the basket put option using exponential IS RQMC under NIG distribution.\n",
        "  Args:\n",
        "  - S0 (array): Initial stock prices.\n",
        "  - K (float): Strike price.\n",
        "  - r (float): Risk-free interest rate.\n",
        "  - T (float): Time to maturity.\n",
        "  - alpha (float): Alpha parameter of the NIG distribution.\n",
        "  - beta (array): Array of beta values.\n",
        "  - delta (float): Delta parameter of the NIG distribution.\n",
        "  - DELTA (array): Covariance matrix.\n",
        "  - N (int): Number of points per Sobol sequence.\n",
        "  - R (array): Array of damping parameters.\n",
        "  - m (int): Number of Sobol sequences.\n",
        "  - sigma_IS (float): Scale parameter of the IS distribution.\n",
        "  Returns:\n",
        "  - qmc_estimate (float): QMC estimate.\n",
        "  - qmc_stat_error (float): QMC statistical error.\n",
        "  \"\"\"\n",
        "  d = len(S0)  # Number of stocks\n",
        "  X0 = np.log(np.divide(S0, d * K))  # Element-wise division\n",
        "  discount = ((2 * np.pi) ** (-d)) * np.exp(-r * T) * np.exp(-R @ X0)  # Modified discount factor\n",
        "  V_list = np.zeros(m)  # Contains m price estimates each corresponding to a shifted sobol sequence\n",
        "  for i in range(m):\n",
        "    xi_sobol_scrambled = qmcpy.DigitalNetB2(d, graycode=True, randomize='DS', seed=i).gen_samples(N)\n",
        "    xi_sobol_shifted_mapped =  np.asarray([exponential_inverse_cdf(row, param) for row, param in zip(zip(*xi_sobol_scrambled), sigma_IS)]).T\n",
        "    V = 0  # Initialisation of Option price contract value for ith rQMC iteration\n",
        "    for n in range(N):  # For each Sobol point\n",
        "      u = xi_sobol_shifted_mapped[n]  # Inverse CDF of uniformly distributed sample to have sample from standard normal\n",
        "      y = u + np.multiply(1j, R)  # Change of variable, shift by damping parameter to integrate over axis // to real line\n",
        "      phi = NIG_characteristic_function(y, T, r, alpha, beta, delta, DELTA)  # Evaluation of characteristic function at all Sobol points\n",
        "      p = fourier_payoff_basket_put(y)  # Evaluation of Fourier Transformed Payoff function at all Sobol points\n",
        "      par_vect_t_student_pdf = map(lambda x, args: exponential_pdf(x, args), u, sigma_IS)\n",
        "      IS_pdf_prod = np.prod(np.asarray(list(par_vect_t_student_pdf)))\n",
        "      V += (1 / N) * K * discount * np.exp(1j * u @ X0) * phi * p / IS_pdf_prod\n",
        "    V_list[i] = np.real(V)\n",
        "  qmc_estimate = np.mean(V_list)  # QMC estimate\n",
        "  qmc_stat_error = 1.96 * np.std(V_list) / np.sqrt(m)  # QMC statistical error\n",
        "  return qmc_estimate, qmc_stat_error\n",
        "\n",
        "\n",
        "def multivariate_laplace_pdf(x, SIGMA_IS, SIGMA_IS_inv):\n",
        "  \"\"\"Compute the PDF of the multivariate Laplace distribution.\n",
        "\n",
        "  Args:\n",
        "  - x (array): Value to evaluate the PDF at.\n",
        "  - SIGMA_IS (array): Covariance matrix of the Laplace distribution.\n",
        "  - SIGMA_IS_inv (array): Inverse of the covariance matrix.\n",
        "\n",
        "  Returns:\n",
        "  - f_ML (float): PDF value.\n",
        "  \"\"\"\n",
        "  d = len(x)\n",
        "  v = (2 - d) / 2\n",
        "  f_ML = 2 * (2 * np.pi) ** (-d / 2) * (la.det(SIGMA_IS)) ** (-0.5) * (x @ SIGMA_IS_inv @ x / 2) ** (v / 2) * scipy.special.kv(v, np.sqrt(2 * x @ SIGMA_IS_inv @ x))\n",
        "  return f_ML\n",
        "\n",
        "def LagRQMC_fourier_NIG_call_on_min_pricer(S0, K, r, T, alpha, beta, delta, DELTA, N, R, M_lag, SIGMA_IS):\n",
        "  \"\"\"Compute the QMC estimate using Laguerre quadrature for the rainbow option under NIG distribution.\n",
        "\n",
        "  Args:\n",
        "  - S0 (array): Initial stock prices.\n",
        "  - K (float): Strike price.\n",
        "  - r (float): Risk-free interest rate.\n",
        "  - T (float): Time to maturity.\n",
        "  - alpha (float): Alpha parameter of the NIG distribution.\n",
        "  - beta (array): Array of beta values.\n",
        "  - delta (float): Delta parameter of the NIG distribution.\n",
        "  - DELTA (array): Covariance matrix.\n",
        "  - N (int): Number of points per Sobol sequence.\n",
        "  - R (array): Array of damping parameters.\n",
        "  - M_lag (int): Number of Laguerre quadrature nodes.\n",
        "  - SIGMA_IS (array): Covariance matrix of the Laplace distribution.\n",
        "  Returns:\n",
        "  - V (float): RQMC price estimate.\n",
        "  \"\"\"\n",
        "  d = len(S0)  # Number of stocks\n",
        "  X0 = np.log(np.divide(S0, K))  # Element-wise division\n",
        "  discount = ((2 * np.pi) ** (-d)) * np.exp(-r * T) * np.exp(-R @ X0)  # Modified discount factor\n",
        "  L_IS = la.cholesky(SIGMA_IS)\n",
        "  SIGMA_IS_inv = la.inv(SIGMA_IS)\n",
        "  outer_integral_values = np.zeros(M_lag)  # Store values for the outer integral w.r.t to the Rayleigh distribution\n",
        "  [lag_abcissas, lag_weights] = np.polynomial.laguerre.laggauss(M_lag)  # Laguerre quadrature nodes and weights\n",
        "  xi_sobol_scrambled = qmcpy.DigitalNetB2(d, graycode=True, randomize='DS', seed=1).gen_samples(N)\n",
        "  xi_sobol_mapped = norm.ppf(q=xi_sobol_scrambled, loc=0, scale=1)  # Samples from N(0, I_d)\n",
        "  for k in range(M_lag):  # Nested integration loop\n",
        "    inner_integral = 0  # Initialisation of Option price contract value for ith rQMC iteration\n",
        "    for n in range(N):  # Number of QMC points\n",
        "      u = L_IS @ xi_sobol_mapped[n] * lag_abcissas[k]  # Sample from N_d(0, SIGMA_IS)\n",
        "      y = u + np.multiply(1j, R)  # Change of variable, shift by damping parameter\n",
        "      phi = NIG_characteristic_function(y, T, r, alpha, beta, delta, DELTA)  # Evaluate characteristic function\n",
        "      p = fourier_payoff_call_on_min(y)  # Evaluate Fourier Transformed Payoff function\n",
        "      IS_pdf_prod = multivariate_laplace_pdf(u, SIGMA_IS, SIGMA_IS_inv)\n",
        "      inner_integral_increment = (1 / N) * K * discount * np.real(\n",
        "          np.exp(1j * u @ X0) * phi * p) / IS_pdf_prod\n",
        "      if inner_integral_increment - inner_integral_increment != 0: # checking for nan-values due to roundoff error.\n",
        "          inner_integral_increment = 0\n",
        "      inner_integral += inner_integral_increment\n",
        "    outer_integral_values[k] = inner_integral * lag_weights[k] * (\n",
        "                2 * lag_abcissas[k] * np.exp(-lag_abcissas[k] ** 2)) / np.exp(-lag_abcissas[k])\n",
        "  V = np.sum(outer_integral_values)\n",
        "  return V\n",
        "\n",
        "def LagRQMC_fourier_NIG_basket_put_pricer(S0, K, r, T, alpha, beta, delta, DELTA, N, R, M_lag, SIGMA_IS):\n",
        "  \"\"\"Compute the QMC estimate using Laguerre quadrature for the rainbow option under NIG distribution.\n",
        "\n",
        "  Args:\n",
        "  - S0 (array): Initial stock prices.\n",
        "  - K (float): Strike price.\n",
        "  - r (float): Risk-free interest rate.\n",
        "  - T (float): Time to maturity.\n",
        "  - alpha (float): Alpha parameter of the NIG distribution.\n",
        "  - beta (array): Array of beta values.\n",
        "  - delta (float): Delta parameter of the NIG distribution.\n",
        "  - DELTA (array): Covariance matrix.\n",
        "  - N (int): Number of points per Sobol sequence.\n",
        "  - R (array): Array of damping parameters.\n",
        "  - M_lag (int): Number of Laguerre quadrature nodes.\n",
        "  - SIGMA_IS (array): Covariance matrix of the Laplace distribution.\n",
        "  Returns:\n",
        "  - V (float): RQMC price estimate.\n",
        "  \"\"\"\n",
        "  d = len(S0)  # Number of stocks\n",
        "  X0 = np.log(np.divide(S0, d * K))  # Element-wise division\n",
        "  discount = ((2 * np.pi) ** (-d)) * np.exp(-r * T) * np.exp(-R @ X0)  # Modified discount factor\n",
        "  L_IS = la.cholesky(SIGMA_IS)\n",
        "  SIGMA_IS_inv = la.inv(SIGMA_IS)\n",
        "  outer_integral_values = np.zeros(M_lag)  # Store values for the outer integral w.r.t to the Rayleigh distribution\n",
        "  [lag_abcissas, lag_weights] = np.polynomial.laguerre.laggauss(M_lag)  # Laguerre quadrature nodes and weights\n",
        "  xi_sobol_scrambled = qmcpy.DigitalNetB2(d, graycode=True, randomize='DS', seed=1).gen_samples(N)\n",
        "  xi_sobol_mapped = norm.ppf(q=xi_sobol_scrambled, loc=0, scale=1)  # Samples from N(0, I_d)\n",
        "  for k in range(M_lag):  # Nested integration loop\n",
        "    inner_integral = 0  # Initialisation of Option price contract value for ith rQMC iteration\n",
        "    for n in range(N):  # Number of QMC points\n",
        "      u = L_IS @ xi_sobol_mapped[n] * lag_abcissas[k]  # Sample from N_d(0, SIGMA_IS)\n",
        "      y = u + np.multiply(1j, R)  # Change of variable, shift by damping parameter\n",
        "      phi = NIG_characteristic_function(y, T, r, alpha, beta, delta, DELTA)  # Evaluate characteristic function\n",
        "      p = fourier_payoff_basket_put(y)  # Evaluate Fourier Transformed Payoff function\n",
        "      IS_pdf_prod = multivariate_laplace_pdf(u, SIGMA_IS, SIGMA_IS_inv)\n",
        "      inner_integral_increment = (1 / N) * K * discount * np.real(\n",
        "          np.exp(1j * u @ X0) * phi * p) / IS_pdf_prod\n",
        "      if inner_integral_increment - inner_integral_increment != 0:\n",
        "          inner_integral_increment = 0\n",
        "      inner_integral += inner_integral_increment\n",
        "    outer_integral_values[k] = inner_integral * lag_weights[k] * (\n",
        "                2 * lag_abcissas[k] * np.exp(-lag_abcissas[k] ** 2)) / np.exp(-lag_abcissas[k])\n",
        "  V = np.sum(outer_integral_values)\n",
        "  return V\n",
        "\n",
        "\n",
        "def LagRQMC_PCA_fourier_NIG_call_on_min_pricer(S0, K, r, T, alpha, beta, delta, DELTA, N, R, M_lag, SIGMA_IS):\n",
        "  \"\"\"Compute the QMC estimate using Laguerre quadrature for the rainbow option under NIG distribution.\n",
        "\n",
        "  Args:\n",
        "  - S0 (array): Initial stock prices.\n",
        "  - K (float): Strike price.\n",
        "  - r (float): Risk-free interest rate.\n",
        "  - T (float): Time to maturity.\n",
        "  - alpha (float): Alpha parameter of the NIG distribution.\n",
        "  - beta (array): Array of beta values.\n",
        "  - delta (float): Delta parameter of the NIG distribution.\n",
        "  - DELTA (array): Covariance matrix.\n",
        "  - N (int): Number of points per Sobol sequence.\n",
        "  - R (array): Array of damping parameters.\n",
        "  - M_lag (int): Number of Laguerre quadrature nodes.\n",
        "  - SIGMA_IS (array): Covariance matrix of the Laplace distribution.\n",
        "  Returns:\n",
        "  - V (float): RQMC price estimate.\n",
        "  \"\"\"\n",
        "  d = len(S0)  # Number of stocks\n",
        "  X0 = np.log(np.divide(S0, K))  # Element-wise division\n",
        "  discount = ((2 * np.pi) ** (-d)) * np.exp(-r * T) * np.exp(-R @ X0)  # Modified discount factor\n",
        "  eigvals, P = la.eig(SIGMA_IS)\n",
        "  indices = np.argsort(eigvals)[::-1] # sorting the eigenvalues in descending order from largest to smallest.\n",
        "  eigvals_sorted = eigvals[indices]\n",
        "  P_sorted = P[:, indices]\n",
        "  L_IS = P_sorted @ np.diag(np.sqrt(eigvals_sorted))\n",
        "  SIGMA_IS_inv = la.inv(SIGMA_IS)\n",
        "  outer_integral_values = np.zeros(M_lag)  # Store values for the outer integral w.r.t to the Rayleigh distribution\n",
        "  [lag_abcissas, lag_weights] = np.polynomial.laguerre.laggauss(M_lag)  # Laguerre quadrature nodes and weights\n",
        "  xi_sobol_scrambled = qmcpy.DigitalNetB2(d, graycode=True, randomize='DS', seed=1).gen_samples(N)\n",
        "  xi_sobol_mapped = norm.ppf(q=xi_sobol_scrambled, loc=0, scale=1)  # Samples from N(0, I_d)\n",
        "  for k in range(M_lag):  # Nested integration loop\n",
        "    inner_integral = 0  # Initialisation of Option price contract value for ith rQMC iteration\n",
        "    for n in range(N):  # Number of QMC points\n",
        "      u = L_IS @ xi_sobol_mapped[n] * lag_abcissas[k]  # Sample from N_d(0, SIGMA_IS)\n",
        "      y = u + np.multiply(1j, R)  # Change of variable, shift by damping parameter\n",
        "      phi = NIG_characteristic_function(y, T, r, alpha, beta, delta, DELTA)  # Evaluate characteristic function\n",
        "      p = fourier_payoff_call_on_min(y)  # Evaluate Fourier Transformed Payoff function\n",
        "      IS_pdf_prod = multivariate_laplace_pdf(u, SIGMA_IS, SIGMA_IS_inv)\n",
        "      inner_integral_increment = (1 / N) * K * discount * np.real(\n",
        "          np.exp(1j * u @ X0) * phi * p) / IS_pdf_prod\n",
        "      if inner_integral_increment - inner_integral_increment != 0:\n",
        "          inner_integral_increment = 0\n",
        "      inner_integral += inner_integral_increment\n",
        "    outer_integral_values[k] = inner_integral * lag_weights[k] * (\n",
        "                2 * lag_abcissas[k] * np.exp(-lag_abcissas[k] ** 2)) / np.exp(-lag_abcissas[k])\n",
        "  V = np.sum(outer_integral_values)\n",
        "  return V\n",
        "\n",
        "def LagRQMC_PCA_fourier_NIG_basket_put_pricer(S0, K, r, T, alpha, beta, delta, DELTA, N, R, M_lag, SIGMA_IS):\n",
        "  \"\"\"Compute the QMC estimate using Laguerre quadrature for the rainbow option under NIG distribution.\n",
        "\n",
        "  Args:\n",
        "  - S0 (array): Initial stock prices.\n",
        "  - K (float): Strike price.\n",
        "  - r (float): Risk-free interest rate.\n",
        "  - T (float): Time to maturity.\n",
        "  - alpha (float): Alpha parameter of the NIG distribution.\n",
        "  - beta (array): Array of beta values.\n",
        "  - delta (float): Delta parameter of the NIG distribution.\n",
        "  - DELTA (array): Covariance matrix.\n",
        "  - N (int): Number of points per Sobol sequence.\n",
        "  - R (array): Array of damping parameters.\n",
        "  - M_lag (int): Number of Laguerre quadrature nodes.\n",
        "  - SIGMA_IS (array): Covariance matrix of the Laplace distribution.\n",
        "  Returns:\n",
        "  - V (float): RQMC price estimate.\n",
        "  \"\"\"\n",
        "  d = len(S0)  # Number of stocks\n",
        "  X0 = np.log(np.divide(S0, d*K))  # Element-wise division\n",
        "  discount = ((2 * np.pi) ** (-d)) * np.exp(-r * T) * np.exp(-R @ X0)  # Modified discount factor\n",
        "  eigvals, P = la.eig(SIGMA_IS)\n",
        "  indices = np.argsort(eigvals)[::-1] # sorting the eigenvalues in descending order from largest to smallest.\n",
        "  eigvals_sorted = eigvals[indices]\n",
        "  P_sorted = P[:, indices]\n",
        "  L_IS = P_sorted @ np.diag(np.sqrt(eigvals_sorted))\n",
        "  SIGMA_IS_inv = la.inv(SIGMA_IS)\n",
        "  outer_integral_values = np.zeros(M_lag)  # Store values for the outer integral w.r.t to the Rayleigh distribution\n",
        "  [lag_abcissas, lag_weights] = np.polynomial.laguerre.laggauss(M_lag)  # Laguerre quadrature nodes and weights\n",
        "  xi_sobol_scrambled = qmcpy.DigitalNetB2(d, graycode=True, randomize='DS', seed=1).gen_samples(N)\n",
        "  xi_sobol_mapped = norm.ppf(q=xi_sobol_scrambled, loc=0, scale=1)  # Samples from N(0, I_d)\n",
        "  for k in range(M_lag):  # Nested integration loop\n",
        "    inner_integral = 0  # Initialisation of Option price contract value for ith rQMC iteration\n",
        "    for n in range(N):  # Number of QMC points\n",
        "      u = L_IS @ xi_sobol_mapped[n] * lag_abcissas[k]  # Sample from N_d(0, SIGMA_IS)\n",
        "      y = u + np.multiply(1j, R)  # Change of variable, shift by damping parameter\n",
        "      phi = NIG_characteristic_function(y, T, r, alpha, beta, delta, DELTA)  # Evaluate characteristic function\n",
        "      p = fourier_payoff_basket_put(y)  # Evaluate Fourier Transformed Payoff function\n",
        "      IS_pdf_prod = multivariate_laplace_pdf(u, SIGMA_IS, SIGMA_IS_inv)\n",
        "      inner_integral_increment = (1 / N) * K * discount * np.real(\n",
        "          np.exp(1j * u @ X0) * phi * p) / IS_pdf_prod\n",
        "      if inner_integral_increment - inner_integral_increment != 0:\n",
        "          inner_integral_increment = 0\n",
        "      inner_integral += inner_integral_increment\n",
        "    outer_integral_values[k] = inner_integral * lag_weights[k] * (\n",
        "                2 * lag_abcissas[k] * np.exp(-lag_abcissas[k] ** 2)) / np.exp(-lag_abcissas[k])\n",
        "  V = np.sum(outer_integral_values)\n",
        "  return V"
      ]
    },
    {
      "cell_type": "markdown",
      "metadata": {
        "id": "TJ51Aigr6-QJ"
      },
      "source": [
        "# Call on min options"
      ]
    },
    {
      "cell_type": "markdown",
      "metadata": {
        "id": "DBlf4WI77CjK"
      },
      "source": [
        "## Computing the damping parameters using the rule proposed in [link to the paper](https://arxiv.org/pdf/2203.08196.pdf)"
      ]
    },
    {
      "cell_type": "code",
      "execution_count": 44,
      "metadata": {
        "colab": {
          "base_uri": "https://localhost:8080/"
        },
        "id": "MzjWfizB7FDl",
        "outputId": "296231bd-1933-4e3a-e3c9-0eee53824c6c"
      },
      "outputs": [
        {
          "name": "stdout",
          "output_type": "stream",
          "text": [
            "Optimal damping parameters: [-6.15227047 -6.15227047 -6.15227047 -6.15227047 -6.15227048]\n"
          ]
        }
      ],
      "source": [
        "# Payoff parameters\n",
        "dimension = 5\n",
        "S0 = 100 * np.ones(dimension)\n",
        "K = 100\n",
        "r = 0\n",
        "T = 1\n",
        "#NIG Model Parameters\n",
        "alpha= 12\n",
        "beta = -3 * np.ones(dimension)\n",
        "delta= 0.2\n",
        "DELTA = np.identity(dimension)\n",
        "\n",
        "############### Setting for the optimal damping parameters #############\n",
        "# Constraints related to the strip of regularity of the payoff transform\n",
        "def NIG_constraint(R):\n",
        "  return alpha**2 - (beta- R) @ DELTA @ (beta - R)\n",
        "\n",
        "def rainbow_constraint_1(R):\n",
        "  return -1*R\n",
        "\n",
        "def rainbow_constraint_2(R):\n",
        "  return -1 - np.sum(R)\n",
        "\n",
        "cons = ( {'type': 'ineq', 'fun': NIG_constraint},\n",
        "        {'type': 'ineq', 'fun': rainbow_constraint_1},\n",
        "        {'type': 'ineq', 'fun': rainbow_constraint_2},)\n",
        "\n",
        "# Characteristic function of GBM is an entire function hence there are no related constraints to it.\n",
        "R_init = -2*np.ones(dimension) # initial parameters R needs to belong to the strip of analyticity of the integrand\n",
        "optimal_R = optimize.minimize(fun = integrand_to_optimize_NIG_call_on_min, constraints = cons, x0 = R_init , method = \"Trust-Constr\" )\n",
        "#print(optimal_R) # uncomment to see wether the optimizer converged succesfully.\n",
        "R = optimal_R.x\n",
        "print(\"Optimal damping parameters:\", R)"
      ]
    },
    {
      "cell_type": "markdown",
      "metadata": {
        "id": "yWs6xNgg7H0y"
      },
      "source": [
        "## Pricing using RQMC in the Fourier space"
      ]
    },
    {
      "cell_type": "markdown",
      "metadata": {
        "id": "nOZVzgek9nP2"
      },
      "source": [
        "### Univariate domain transformation (RQMC)"
      ]
    },
    {
      "cell_type": "code",
      "execution_count": 55,
      "metadata": {
        "colab": {
          "base_uri": "https://localhost:8080/"
        },
        "id": "f5VcIgZG7u2b",
        "outputId": "49af77e9-a4a8-4ab3-8f56-8b47b51eae84"
      },
      "outputs": [
        {
          "name": "stdout",
          "output_type": "stream",
          "text": [
            "sigma_IS = [7.07106781 7.07106781 7.07106781 7.07106781 7.07106781]\n",
            "RQMC estimate = 0.08508 , Relative Statistical Error = 0.01074\n"
          ]
        }
      ],
      "source": [
        "############### Model and payoff parameters ###############\n",
        "# Payoff parameters\n",
        "dimension = 5\n",
        "S0 = 100 * np.ones(dimension)\n",
        "K = 100\n",
        "r = 0\n",
        "T = 1\n",
        "#NIG Model Parameters\n",
        "alpha= 12\n",
        "beta = -3 * np.ones(dimension)\n",
        "delta= 0.2\n",
        "DELTA = np.identity(dimension)\n",
        "\n",
        "############### QMC parameters ###############\n",
        "N = 2**6 # number of QMC Sobol points\n",
        "m = 30 # Number of digital shifts of RQMC\n",
        "sigma_IS = np.sqrt(2 / (delta**2 * T**2)) * np.ones(dimension)\n",
        "print(\"sigma_IS =\", sigma_IS)\n",
        "R_init = -2*np.ones(dimension) # initial parameters R needs to belong to the strip of analyticity of the integrand\n",
        "optimal_R = optimize.minimize(fun = integrand_to_optimize_NIG_call_on_min, constraints = cons, x0 = R_init , method = \"Nelder-Mead\" )\n",
        "#print(optimal_R) # uncomment to see wether the optimizer converged succesfully.\n",
        "R = optimal_R.x\n",
        "RQMC_estimate, RQMC_stat_error  = RQMC_fourier_NIG_call_on_min_pricer(S0, K, r, T, alpha, beta, delta, DELTA, N, R, m, sigma_IS)\n",
        "print(\"RQMC estimate =\", round(RQMC_estimate,5), \", Relative Statistical Error =\", round(RQMC_stat_error / RQMC_estimate,5)  )"
      ]
    },
    {
      "cell_type": "markdown",
      "metadata": {
        "id": "lY4UgJ3f7Kxe"
      },
      "source": [
        "### Multivariate domain transformation (Laguerre-RQMC)"
      ]
    },
    {
      "cell_type": "code",
      "execution_count": 63,
      "metadata": {
        "colab": {
          "base_uri": "https://localhost:8080/"
        },
        "id": "dnYKBh8rAQvC",
        "outputId": "e8c0936c-6b63-4b6d-b26b-8f19ed48e8ae"
      },
      "outputs": [
        {
          "name": "stdout",
          "output_type": "stream",
          "text": [
            "SIGMA_IS = [[50.  0.  0.  0.  0.]\n",
            " [ 0. 50.  0.  0.  0.]\n",
            " [ 0.  0. 50.  0.  0.]\n",
            " [ 0.  0.  0. 50.  0.]\n",
            " [ 0.  0.  0.  0. 50.]]\n",
            "RQMC estimate = 0.08835\n"
          ]
        }
      ],
      "source": [
        "############### Model and payoff parameters ###############\n",
        "# Payoff parameters\n",
        "dimension = 5\n",
        "S0 = 100 * np.ones(dimension)\n",
        "K = 100\n",
        "r = 0\n",
        "T = 1\n",
        "#NIG Model Parameters\n",
        "alpha= 12\n",
        "beta = -3 * np.ones(dimension)\n",
        "delta= 0.2\n",
        "DELTA = np.identity(dimension)\n",
        "\n",
        "############### QMC parameters ###############\n",
        "N = 2**6 # number of QMC Sobol points\n",
        "M_lag = 2**5 # Number of digital shifts of RQMC\n",
        "SIGMA_IS = (2 / (delta**2 * T**2)) * la.inv(DELTA)\n",
        "print(\"SIGMA_IS =\", SIGMA_IS)\n",
        "R_init = -2*np.ones(dimension) # initial parameters R needs to belong to the strip of analyticity of the integrand\n",
        "optimal_R = optimize.minimize(fun = integrand_to_optimize_NIG_call_on_min, constraints = cons, x0 = R_init , method = \"Nelder-Mead\" )\n",
        "#print(optimal_R) # uncomment to see wether the optimizer converged succesfully.\n",
        "R = optimal_R.x\n",
        "RQMC_estimate = LagRQMC_PCA_fourier_VG_call_on_min_pricer(S0, K, r, T, alpha, beta, delta, DELTA, N, R, M_lag, SIGMA_IS)\n",
        "print(\"RQMC estimate =\", round(RQMC_estimate,5)  )"
      ]
    },
    {
      "cell_type": "markdown",
      "metadata": {
        "id": "6leXnCQS7L0Q"
      },
      "source": [
        "# Basket put options"
      ]
    },
    {
      "cell_type": "markdown",
      "metadata": {
        "id": "1D_mMxYrDIQP"
      },
      "source": [
        "## Computing the damping parameters using the rule proposed in [link to the paper](https://arxiv.org/pdf/2203.08196.pdf)"
      ]
    },
    {
      "cell_type": "code",
      "execution_count": 64,
      "metadata": {
        "colab": {
          "base_uri": "https://localhost:8080/"
        },
        "id": "na5DGARa7MvP",
        "outputId": "ea02c7f4-e5c7-433e-d75f-905fac71239f"
      },
      "outputs": [
        {
          "name": "stdout",
          "output_type": "stream",
          "text": [
            "Optimal damping parameters: [2.16973156 2.16973156 2.16973227 2.16973276 2.16973226]\n"
          ]
        }
      ],
      "source": [
        "# Payoff parameters\n",
        "dimension = 5\n",
        "S0 = 100 * np.ones(dimension)\n",
        "K = 100\n",
        "r = 0\n",
        "T = 1\n",
        "#NIG Model Parameters\n",
        "alpha= 12\n",
        "beta = -3 * np.ones(dimension)\n",
        "delta= 0.2\n",
        "DELTA = np.identity(dimension)\n",
        "\n",
        "############### Setting for the optimal damping parameters #############\n",
        "# Constraints related to the strip of regularity of the payoff transform\n",
        "def NIG_constraint(R):\n",
        "  return alpha**2 - (beta- R) @ DELTA @ (beta - R)\n",
        "\n",
        "def basket_put_constraint(R):\n",
        "    return R\n",
        "cons = ( {'type': 'ineq', 'fun': NIG_constraint},\n",
        "        {'type': 'ineq', 'fun': basket_put_constraint},)\n",
        "\n",
        "# Characteristic function of GBM is an entire function hence there are no related constraints to it.\n",
        "R_init = 2*np.ones(dimension) # initial parameters R needs to belong to the strip of analyticity of the integrand\n",
        "optimal_R = optimize.minimize(fun = integrand_to_optimize_NIG_basket_put, constraints = cons, x0 = R_init , method = \"Trust-Constr\" )\n",
        "#print(optimal_R) # uncomment to see wether the optimizer converged succesfully.\n",
        "R = optimal_R.x\n",
        "print(\"Optimal damping parameters:\", R)"
      ]
    },
    {
      "cell_type": "markdown",
      "metadata": {
        "id": "r7vcoPDtDJ7S"
      },
      "source": [
        "### Univariate domain transformation (RQMC)"
      ]
    },
    {
      "cell_type": "code",
      "execution_count": 74,
      "metadata": {
        "colab": {
          "base_uri": "https://localhost:8080/"
        },
        "id": "CLh4CVCyDL0n",
        "outputId": "b6638344-a1cc-434d-c085-845f68d552a5"
      },
      "outputs": [
        {
          "name": "stdout",
          "output_type": "stream",
          "text": [
            "sigma_IS = [7.07106781 7.07106781]\n",
            "RQMC estimate = 3.80287345 , Relative Statistical Error = 0.00466\n"
          ]
        }
      ],
      "source": [
        "############### Model and payoff parameters ###############\n",
        "# Payoff parameters\n",
        "dimension = 2\n",
        "S0 = 100 * np.ones(dimension)\n",
        "K = 100\n",
        "r = 0\n",
        "T = 1\n",
        "#NIG Model Parameters\n",
        "alpha= 12\n",
        "beta = -3 * np.ones(dimension)\n",
        "delta= 0.2\n",
        "DELTA = np.identity(dimension)\n",
        "\n",
        "############### QMC parameters ###############\n",
        "N = 2**6 # number of QMC Sobol points\n",
        "m = 30 # Number of digital shifts of RQMC\n",
        "sigma_IS = np.sqrt(2 / (delta**2 * T**2)) * np.ones(dimension)\n",
        "print(\"sigma_IS =\", sigma_IS)\n",
        "R_init = 2*np.ones(dimension) # initial parameters R needs to belong to the strip of analyticity of the integrand\n",
        "optimal_R = optimize.minimize(fun = integrand_to_optimize_NIG_basket_put, constraints = cons, x0 = R_init , method = \"Trust-Constr\" )\n",
        "#print(optimal_R) # uncomment to see wether the optimizer converged succesfully.\n",
        "R = optimal_R.x\n",
        "RQMC_estimate, RQMC_stat_error  = RQMC_fourier_NIG_basket_put_pricer(S0, K, r, T, alpha, beta, delta, DELTA, N, R, m, sigma_IS)\n",
        "print(\"RQMC estimate =\", round(RQMC_estimate,8), \", Relative Statistical Error =\", round(RQMC_stat_error / RQMC_estimate,5)  )"
      ]
    },
    {
      "cell_type": "markdown",
      "metadata": {
        "id": "jmQ_11YjDZMM"
      },
      "source": [
        "### Multivariate domain transformation (Laguerre-RQMC)"
      ]
    },
    {
      "cell_type": "code",
      "execution_count": 75,
      "metadata": {
        "colab": {
          "base_uri": "https://localhost:8080/"
        },
        "id": "88ciam7dDb4E",
        "outputId": "15226212-e8c6-4ed7-c14f-340425163863"
      },
      "outputs": [
        {
          "name": "stdout",
          "output_type": "stream",
          "text": [
            "SIGMA_IS = [[50.  0.]\n",
            " [ 0. 50.]]\n",
            "RQMC estimate = 3.85003\n"
          ]
        }
      ],
      "source": [
        "############### Model and payoff parameters ###############\n",
        "# Payoff parameters\n",
        "dimension = 2\n",
        "S0 = 100 * np.ones(dimension)\n",
        "K = 100\n",
        "r = 0\n",
        "T = 1\n",
        "#NIG Model Parameters\n",
        "alpha= 12\n",
        "beta = -3 * np.ones(dimension)\n",
        "delta= 0.2\n",
        "DELTA = np.identity(dimension)\n",
        "\n",
        "############### QMC parameters ###############\n",
        "N = 2**6 # number of QMC Sobol points\n",
        "M_lag = 2**5 # Number of digital shifts of RQMC\n",
        "SIGMA_IS = (2 / (delta**2 * T**2)) * la.inv(DELTA)\n",
        "print(\"SIGMA_IS =\", SIGMA_IS)\n",
        "R_init = 2*np.ones(dimension) # initial parameters R needs to belong to the strip of analyticity of the integrand\n",
        "optimal_R = optimize.minimize(fun = integrand_to_optimize_NIG_basket_put, constraints = cons, x0 = R_init , method = \"Trust-Constr\" )\n",
        "#print(optimal_R) # uncomment to see wether the optimizer converged succesfully.\n",
        "R = optimal_R.x\n",
        "RQMC_estimate = LagRQMC_PCA_fourier_NIGG_basket_put_pricer(S0, K, r, T, alpha, beta, delta, DELTA, N, R, M_lag, SIGMA_IS)\n",
        "print(\"RQMC estimate =\", round(RQMC_estimate,5)  )"
      ]
    }
  ],
  "metadata": {
    "colab": {
      "provenance": []
    },
    "kernelspec": {
      "display_name": "Python 3",
      "name": "python3"
    },
    "language_info": {
      "codemirror_mode": {
        "name": "ipython",
        "version": 3
      },
      "file_extension": ".py",
      "mimetype": "text/x-python",
      "name": "python",
      "nbconvert_exporter": "python",
      "pygments_lexer": "ipython3",
      "version": "3.11.5"
    }
  },
  "nbformat": 4,
  "nbformat_minor": 0
}
