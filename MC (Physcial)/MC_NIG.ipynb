{
  "nbformat": 4,
  "nbformat_minor": 0,
  "metadata": {
    "colab": {
      "provenance": []
    },
    "kernelspec": {
      "name": "python3",
      "display_name": "Python 3"
    },
    "language_info": {
      "name": "python"
    }
  },
  "cells": [
    {
      "cell_type": "code",
      "source": [
        "import numpy as np\n",
        "from scipy.stats import norm"
      ],
      "metadata": {
        "id": "ojbNLCPKHYQt"
      },
      "execution_count": 5,
      "outputs": []
    },
    {
      "cell_type": "code",
      "execution_count": 8,
      "metadata": {
        "id": "jVWttvBbChSN"
      },
      "outputs": [],
      "source": [
        "def IG_generator(delta, gamma, M, N):\n",
        "  \"\"\"\n",
        "  Generate MxN samples from the Inverse Gaussian (IG) distribution IG(delta,sqrt(alpha**2 - beta**2)).\n",
        "\n",
        "  Parameters:\n",
        "  - delta: parameter of the IG distribution\n",
        "  - gamma: parameter of the IG distribution\n",
        "  - M: number of rows (samples)\n",
        "  - N: number of columns (samples)\n",
        "\n",
        "  Returns:\n",
        "  - IG: MxN array of samples from the IG distribution\n",
        "  \"\"\"\n",
        "  # Generate chi-squared samples with degree of freedom = 1.\n",
        "  V = np.random.chisquare(1, (M, N))\n",
        "\n",
        "  # Intermediate computations for generating IG samples\n",
        "  x1 = (delta / gamma) * np.ones((M, N)) + (1 / (2 * gamma ** 2)) * (V + np.sqrt(4 * gamma * delta * V + V ** 2))\n",
        "  x2 = (delta / gamma) * np.ones((M, N)) + (1 / (2 * gamma ** 2)) * (V - np.sqrt(4 * gamma * delta * V + V ** 2))\n",
        "\n",
        "  # Generate uniform samples\n",
        "  Y = np.random.uniform(0, 1, (M, N))\n",
        "\n",
        "  # Compute probabilities\n",
        "  p1 = (delta * np.ones((M, N))) / (delta * np.ones((M, N)) + gamma * x1)\n",
        "  p2 = np.ones((M, N)) - p1\n",
        "\n",
        "  # Generate binary indicator matrix\n",
        "  C = (Y < p1)\n",
        "\n",
        "  # Generate IG samples\n",
        "  IG = C * x1 + (np.ones((M, N)) - C) * x2\n",
        "  return IG\n",
        "\n",
        "def MC_call_on_min_NIG_pricer(S0, K, r, T, alpha, beta, delta, DELTA, B, N, M, alpha_conf, seed):\n",
        "  \"\"\"\n",
        "  Compute the price of a call on min option under normal inverse Gaussian (NIG) for a system of d stocks.\n",
        "\n",
        "  Parameters:\n",
        "  - S0: vector of initial stock prices\n",
        "  - K: strike price\n",
        "  - r: risk-free interest rate\n",
        "  - T: maturity time\n",
        "  - alpha: parameter of the NIG distribution\n",
        "  - beta: parameter of the NIG distribution\n",
        "  - delta: parameter of the NIG distribution\n",
        "  - DELTA: covariance matrix\n",
        "  - B: number of batches\n",
        "  - N: number of time steps of forward Euler discretization\n",
        "  - M: number of MC sample paths\n",
        "  - alpha_conf: confidence level\n",
        "  - seed: random seed\n",
        "\n",
        "  Returns:\n",
        "  - price_estimate: estimated price of the option using Monte Carlo\n",
        "  - MC_stat_error: statistical error of the Monte Carlo estimation\n",
        "  \"\"\"\n",
        "  np.random.seed(seed)\n",
        "  dimension = len(S0)  # number of stocks\n",
        "  price_estimates_per_batch = np.zeros(B)  # MC price estimates per batch\n",
        "  price_stds_per_batch = np.zeros(B)  # MC standard deviation per batch\n",
        "  N = 1  # Exact simulation scheme\n",
        "  dt = T / N  # size of time sub-interval between two consecutive increments\n",
        "  L = np.linalg.cholesky(DELTA)\n",
        "  gamma = np.sqrt(alpha ** 2 - np.dot(beta, np.dot(DELTA, beta)))  # constant used in intermediate computations to ease the notation\n",
        "  mu = - delta * (np.sqrt(alpha ** 2 - beta ** 2) - np.sqrt(alpha ** 2 - (beta + 1) ** 2))  # martingale correction term for d stocks.\n",
        "\n",
        "  for b in range(B):\n",
        "    X = np.zeros((M, N + 1, dimension))  # Contains all sample paths of each time step for each stock: M_paths x N_steps x d\n",
        "    Z = np.random.multivariate_normal(mean=np.zeros(dimension), cov=np.identity(dimension), size=(M, N))  # samples from independent standard normal distribution\n",
        "    IG = IG_generator(delta, gamma, M, N)  # generation of the common inverse Gaussian clock for all stocks at each sample path and time step.\n",
        "\n",
        "    for n in range(N):\n",
        "      for m in range(M):\n",
        "        X[m, n + 1, :] = X[m, n, :] + (r + mu) * dt + IG[m][n] * DELTA @ beta + np.sqrt(IG[m][n]) * L @ Z[m][n]  # Increment of the NIG process\n",
        "\n",
        "    XT = X[:, -1, :]  # asset log-price at the final time for each sample path\n",
        "    ST = S0 * np.exp(XT)  # Stock prices at maturity\n",
        "    # Compute payoffs for each path\n",
        "    payoff_evals = np.exp(-r * T) * np.maximum(np.min(ST, axis=1) - K, 0)\n",
        "    price_estimates_per_batch[b] = np.mean(payoff_evals)  # MC price estimate per batch\n",
        "    price_stds_per_batch[b] = np.std(payoff_evals)  # MC standard deviation per batch\n",
        "\n",
        "  price_estimate = np.mean(price_estimates_per_batch)  # Final MC estimate\n",
        "  C_alpha = norm.ppf(1 - alpha_conf / 2)\n",
        "  MC_stat_error = C_alpha * np.mean(price_stds_per_batch) / np.sqrt(M * B)  # Final MC statistical error\n",
        "  return price_estimate, MC_stat_error\n",
        "\n",
        "def MC_basket_put_NIG_pricer(S0, K, r, T, alpha, beta, delta, DELTA, B, N, M, alpha_conf, seed):\n",
        "  \"\"\"\n",
        "  Compute the price of a basket put option under normal inverse Gaussian (NIG) for a system of d stocks.\n",
        "\n",
        "  Parameters:\n",
        "  - S0: vector of initial stock prices\n",
        "  - K: strike price\n",
        "  - r: risk-free interest rate\n",
        "  - T: maturity time\n",
        "  - alpha: parameter of the NIG distribution\n",
        "  - beta: parameter of the NIG distribution\n",
        "  - delta: parameter of the NIG distribution\n",
        "  - DELTA: covariance matrix\n",
        "  - B: number of batches\n",
        "  - N: number of time steps of forward Euler discretization\n",
        "  - M: number of MC sample paths\n",
        "  - alpha_conf: confidence level\n",
        "  - seed: random seed\n",
        "\n",
        "  Returns:\n",
        "  - price_estimate: estimated price of the option using Monte Carlo\n",
        "  - MC_stat_error: statistical error of the Monte Carlo estimation\n",
        "  \"\"\"\n",
        "  np.random.seed(seed)\n",
        "  dimension = len(S0)  # number of stocks\n",
        "  price_estimates_per_batch = np.zeros(B)  # MC price estimates per batch\n",
        "  price_stds_per_batch = np.zeros(B)  # MC standard deviation per batch\n",
        "  N = 1  # Exact simulation scheme\n",
        "  dt = T / N  # size of time sub-interval between two consecutive increments\n",
        "  L = np.linalg.cholesky(DELTA)\n",
        "  gamma = np.sqrt(alpha ** 2 - np.dot(beta, np.dot(DELTA, beta)))  # constant used in intermediate computations to ease the notation\n",
        "  mu = - delta * (np.sqrt(alpha ** 2 - beta ** 2) - np.sqrt(alpha ** 2 - (beta + 1) ** 2))  # martingale correction term for d stocks.\n",
        "\n",
        "  for b in range(B):\n",
        "    X = np.zeros((M, N + 1, dimension))  # Contains all sample paths of each time step for each stock: M_paths x N_steps x d\n",
        "    Z = np.random.multivariate_normal(mean=np.zeros(dimension), cov=np.identity(dimension), size=(M, N))  # samples from independent standard normal distribution\n",
        "    IG = IG_generator(delta, gamma, M, N)  # generation of the common inverse Gaussian clock for all stocks at each sample path and time step.\n",
        "\n",
        "    for n in range(N):\n",
        "      for m in range(M):\n",
        "        X[m, n + 1, :] = X[m, n, :] + (r + mu) * dt + IG[m][n] * DELTA @ beta + np.sqrt(IG[m][n]) * L @ Z[m][n]  # Increment of the NIG process\n",
        "\n",
        "    XT = X[:, -1, :]  # asset log-price at the final time for each sample path\n",
        "    ST = S0 * np.exp(XT)  # Stock prices at maturity\n",
        "    # Compute payoffs for each path\n",
        "    payoff_evals = np.exp(-r * T) * np.maximum(K - np.mean(ST, axis=1), 0)\n",
        "    price_estimates_per_batch[b] = np.mean(payoff_evals)  # MC price estimate per batch\n",
        "    price_stds_per_batch[b] = np.std(payoff_evals)  # MC standard deviation per batch\n",
        "\n",
        "  price_estimate = np.mean(price_estimates_per_batch)  # Final MC estimate\n",
        "  C_alpha = norm.ppf(1 - alpha_conf / 2)\n",
        "  MC_stat_error = C_alpha * np.mean(price_stds_per_batch) / np.sqrt(M * B)  # Final MC statistical error\n",
        "  return price_estimate, MC_stat_error"
      ]
    },
    {
      "cell_type": "markdown",
      "source": [
        "# Pricing call on min options"
      ],
      "metadata": {
        "id": "DofEWnKsEu_0"
      }
    },
    {
      "cell_type": "code",
      "source": [
        "############### Model and payoff parameters ###############\n",
        "#Payoff Parameters\n",
        "dimension = 4\n",
        "S0 = 100 * np.ones(dimension)\n",
        "K = 100\n",
        "r = 0\n",
        "T = 1\n",
        "#NIG Model Parameters\n",
        "alpha = 30\n",
        "beta = -3 * np.ones(dimension)\n",
        "delta = 0.5\n",
        "DELTA = np.identity(dimension)\n",
        "############### MC parameters ###############\n",
        "B = 1 # number of batches\n",
        "N = 1 # exact simulation scheme\n",
        "M = 10**5 # number of MC sample paths\n",
        "alpha_conf = 0.05 # confidence level for MC statistical error estimation\n",
        "seed = 100 # random seed for reproducibility of results.\n",
        "MC_price_estimate, MC_stat_error = MC_call_on_min_NIG_pricer(S0, K, r, T, alpha, beta, delta, DELTA, B, N, M, alpha_conf, seed)\n",
        "print(\"MC price estimate =\", round(MC_price_estimate, 5),\"\\nMC relative statistical error = \", round(MC_stat_error / MC_price_estimate,4) )"
      ],
      "metadata": {
        "colab": {
          "base_uri": "https://localhost:8080/"
        },
        "id": "c0AEAGaZE7Rr",
        "outputId": "e72f6186-c7af-48c6-ff02-0c3cc9fbe88d"
      },
      "execution_count": 4,
      "outputs": [
        {
          "output_type": "stream",
          "name": "stdout",
          "text": [
            "MC price estimate = 0.17764 \n",
            "MC relative statistical error =  0.0353\n"
          ]
        }
      ]
    },
    {
      "cell_type": "markdown",
      "source": [
        "# Pricing basket put options"
      ],
      "metadata": {
        "id": "RYlPy_JtHorI"
      }
    },
    {
      "cell_type": "code",
      "source": [
        "############### Model and payoff parameters ###############\n",
        "#Payoff Parameters\n",
        "dimension = 4\n",
        "S0 = 100 * np.ones(dimension)\n",
        "K = 100\n",
        "r = 0\n",
        "T = 1\n",
        "#NIG Model Parameters\n",
        "alpha = 30\n",
        "beta = -3 * np.ones(dimension)\n",
        "delta = 0.5\n",
        "DELTA = np.identity(dimension)\n",
        "############### MC parameters ###############\n",
        "B = 1 # number of batches\n",
        "N = 1 # exact simulation scheme\n",
        "M = 10**5 # number of MC sample paths\n",
        "alpha_conf = 0.05 # confidence level for MC statistical error estimation\n",
        "seed = 100 # random seed for reproducibility of results.\n",
        "MC_price_estimate, MC_stat_error = MC_basket_put_NIG_pricer(S0, K, r, T, alpha, beta, delta, DELTA, B, N, M, alpha_conf, seed)\n",
        "print(\"MC price estimate =\", round(MC_price_estimate, 5),\"\\nMC relative statistical error = \", round(MC_stat_error / MC_price_estimate,4) )"
      ],
      "metadata": {
        "colab": {
          "base_uri": "https://localhost:8080/"
        },
        "id": "IqmYt4i2Hp1G",
        "outputId": "fbcea53c-776e-4404-bcf4-0299fce28315"
      },
      "execution_count": 10,
      "outputs": [
        {
          "output_type": "stream",
          "name": "stdout",
          "text": [
            "MC price estimate = 2.65608 \n",
            "MC relative statistical error =  0.009\n"
          ]
        }
      ]
    }
  ]
}