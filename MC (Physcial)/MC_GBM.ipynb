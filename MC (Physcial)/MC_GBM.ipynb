{
  "cells": [
    {
      "cell_type": "code",
      "execution_count": 9,
      "metadata": {
        "id": "TZZ_ubeAx8Lt"
      },
      "outputs": [],
      "source": [
        "import numpy as np\n",
        "from scipy.stats import norm\n",
        "from numpy.random import multivariate_normal"
      ]
    },
    {
      "cell_type": "code",
      "execution_count": 49,
      "metadata": {
        "id": "0FTwI32O575_"
      },
      "outputs": [],
      "source": [
        "import numpy as np\n",
        "from scipy.stats import norm\n",
        "\n",
        "def covariance_matrix(sigma, rho):\n",
        "  \"\"\"\n",
        "  Compute the covariance matrix given volatilities (sigma) and correlation matrix (rho).\n",
        "  Parameters:\n",
        "  - sigma: array of volatilities of each stock\n",
        "  - rho: correlation matrix of Brownian motions\n",
        "  Output:\n",
        "  - SIGMA: covariance matrix\n",
        "  \"\"\"\n",
        "  SIGMA = np.dot(np.diag(sigma), np.dot(rho, np.diag(sigma)))\n",
        "  return SIGMA\n",
        "\n",
        "def MC_call_on_min_GBM_pricer(S0, K, r, T, sigma, rho, B, N, M, alpha, seed):\n",
        "  \"\"\"\n",
        "  Compute the price of a basket call option under GBM for a system of d stocks.\n",
        "  Parameters:\n",
        "  - S0: vector of initial stock prices\n",
        "  - K: strike price\n",
        "  - r: risk-free interest rate\n",
        "  - T: maturity time\n",
        "  - sigma: vector of volatilities\n",
        "  - rho: correlation matrix of Brownian motions\n",
        "  - B: number of batches\n",
        "  - N: number of time steps of forward Euler discretization\n",
        "  - M: number of MC sample paths\n",
        "  - alpha: confidence level\n",
        "  - seed: random seed\n",
        "  Returns:\n",
        "  - price_estimate: estimated price of the option using Monte Carlo\n",
        "  - MC_stat_error: statistical error of the Monte Carlo estimation\n",
        "  \"\"\"\n",
        "  np.random.seed(seed)\n",
        "  dimension = len(S0)  # number of stocks\n",
        "  SIGMA = covariance_matrix(sigma, rho)  # Construct the covariance matrix\n",
        "  L = np.linalg.cholesky(rho)  # Cholesky decomposition of the correlation matrix\n",
        "  price_estimates_per_batch = np.zeros(B)  # MC price estimates per batch\n",
        "  price_stds_per_batch = np.zeros(B)  # MC standard deviation per batch\n",
        "  N = 1  # Exact simulation scheme\n",
        "  dt = T / N  # size of time sub-interval between two consecutive increments\n",
        "  for b in range(B):\n",
        "    W = np.random.multivariate_normal(mean=np.zeros(dimension), cov=np.identity(dimension), size=(M, N)) # generation of independent samples from multivariate normal distribution.\n",
        "    X = np.zeros((M, N + 1, dimension))  # vector of log-price asset processes at each time step and path.\n",
        "\n",
        "    for n in range(N):\n",
        "      for m in range(M):\n",
        "        W_correlated = L @ W[m, n, :] # correlating Brownian motions\n",
        "        X[m, n + 1, :] = X[m, n, :] + (r - 0.5 * sigma ** 2) * dt + np.sqrt(dt) * sigma * W_correlated\n",
        "\n",
        "    XT = X[:, -1, :]  # asset log-price at the final time for each sample path\n",
        "    ST = S0 * np.exp(XT)  # Stock prices at maturity\n",
        "\n",
        "    payoff_evals = np.exp(-r * T) * np.maximum(np.min(ST, axis=1) - K, 0)  # Compute payoffs for each path\n",
        "    price_estimates_per_batch[b] = np.mean(payoff_evals)  # MC price estimate per batch\n",
        "    price_stds_per_batch[b] = np.std(payoff_evals)  # MC standard deviation per batch\n",
        "\n",
        "  price_estimate = np.mean(price_estimates_per_batch)  # Final MC estimate\n",
        "  C_alpha = norm.ppf(1 - alpha / 2)\n",
        "  MC_stat_error = C_alpha * np.mean(price_stds_per_batch) / np.sqrt(M * B)  # Final MC statistical error\n",
        "  return price_estimate, MC_stat_error\n",
        "\n",
        "def MC_basket_put_GBM_pricer(S0, K, r, T, sigma, rho, B, N, M, alpha, seed):\n",
        "  \"\"\"\n",
        "  Compute the price of a basket put option under GBM for a system of d stocks.\n",
        "\n",
        "  Parameters:\n",
        "  - S0: vector of initial stock prices\n",
        "  - K: strike price\n",
        "  - r: risk-free interest rate\n",
        "  - T: maturity time\n",
        "  - sigma: vector of volatilities\n",
        "  - rho: correlation matrix of Brownian motions\n",
        "  - B: number of batches\n",
        "  - N: number of time steps\n",
        "  - M: number of MC sample paths\n",
        "  - alpha: confidence level\n",
        "  - seed: random seed\n",
        "\n",
        "  Returns:\n",
        "  - price_estimate: estimated price of the option\n",
        "  - MC_stat_error: statistical error of the Monte Carlo estimation\n",
        "  \"\"\"\n",
        "  np.random.seed(seed)\n",
        "  dimension = len(S0)  # number of stocks\n",
        "  SIGMA = covariance_matrix(sigma, rho)  # Construct the covariance matrix\n",
        "  L = np.linalg.cholesky(rho)  # Cholesky decomposition of the correlation matrix\n",
        "  price_estimates_per_batch = np.zeros(B)  # MC price estimates per batch\n",
        "  price_stds_per_batch = np.zeros(B)  # MC standard deviation per batch\n",
        "  N = 1  # Exact simulation scheme\n",
        "  dt = T / N  # size of time sub-interval between two consecutive increments\n",
        "\n",
        "  for b in range(B):\n",
        "    W = np.random.multivariate_normal(mean=np.zeros(dimension), cov=np.identity(dimension), size=(M, N)) # generation of independent samples from multivariate normal distribution.\n",
        "    X = np.zeros((M, N + 1, dimension))  # vector of log-price asset processes at each time step and path.\n",
        "\n",
        "    for n in range(N):\n",
        "      for m in range(M):\n",
        "        W_correlated = L @ W[m, n, :]\n",
        "        X[m, n + 1, :] = X[m, n, :] + (r - 0.5 * sigma ** 2) * dt + np.sqrt(dt) * sigma * W_correlated\n",
        "\n",
        "    XT = X[:, -1, :]  # asset log-price at the final time for each sample path\n",
        "    ST = S0 * np.exp(XT)  # Stock prices at maturity\n",
        "\n",
        "    payoff_evals = np.exp(-r * T) * np.maximum(K - np.mean(ST, axis=1), 0)  # Compute payoffs for each path\n",
        "    price_estimates_per_batch[b] = np.mean(payoff_evals)  # MC price estimate per batch\n",
        "    price_stds_per_batch[b] = np.std(payoff_evals)  # MC standard deviation per batch\n",
        "\n",
        "  price_estimate = np.mean(price_estimates_per_batch)  # Final MC estimate\n",
        "  C_alpha = norm.ppf(1 - alpha / 2)\n",
        "  MC_stat_error = C_alpha * np.mean(price_stds_per_batch) / np.sqrt(M * B)  # Final MC statistical error\n",
        "  return price_estimate, MC_stat_error"
      ]
    },
    {
      "cell_type": "markdown",
      "metadata": {
        "id": "yQlpajfw2NZK"
      },
      "source": [
        "# Pricing call on min options"
      ]
    },
    {
      "cell_type": "code",
      "execution_count": 46,
      "metadata": {
        "colab": {
          "base_uri": "https://localhost:8080/"
        },
        "id": "fwfiCeFz2Q6n",
        "outputId": "3cc600e4-4823-4781-b4e0-7ed63982e2b2"
      },
      "outputs": [
        {
          "name": "stdout",
          "output_type": "stream",
          "text": [
            "MC price estimate = 0.32016 \n",
            "MC relative statistical error =  0.048\n"
          ]
        }
      ],
      "source": [
        "############### Model and payoff parameters ###############\n",
        "#Payoff Parameters\n",
        "dimension = 4\n",
        "S0= 100 * np.ones(dimension)\n",
        "K = 100\n",
        "r = 0\n",
        "T = 1\n",
        "#GBM Model Parameters\n",
        "sigma = 0.4 * np.ones(dimension)\n",
        "rho = np.identity(dimension)\n",
        "SIGMA = covariance_matrix(sigma,rho)\n",
        "############### MC parameters ###############\n",
        "B = 1 # number of batches\n",
        "N = 1 # exact simulation scheme\n",
        "M = 10**5 # number of MC sample paths\n",
        "alpha = 0.05 # confidence level for MC statistical error estimation\n",
        "seed = 100 # random seed for reproducibility of results.\n",
        "MC_price_estimate, MC_stat_error = MC_call_on_min_GBM_pricer(S0,K,r,T,sigma,rho,B,N,M,alpha,seed)\n",
        "print(\"MC price estimate =\", round(MC_price_estimate, 5),\"\\nMC relative statistical error = \", round(MC_stat_error / MC_price_estimate,4) )"
      ]
    },
    {
      "cell_type": "markdown",
      "metadata": {
        "id": "1eyZI9ka3lkL"
      },
      "source": [
        "# Pricing basket put options"
      ]
    },
    {
      "cell_type": "code",
      "execution_count": 47,
      "metadata": {
        "colab": {
          "base_uri": "https://localhost:8080/"
        },
        "id": "ss6qk-wo31po",
        "outputId": "d27ca687-3e18-45bc-e219-3b66b567a021"
      },
      "outputs": [
        {
          "name": "stdout",
          "output_type": "stream",
          "text": [
            "MC price estimate = 8.18463 \n",
            "MC relative statistical error =  0.008\n"
          ]
        }
      ],
      "source": [
        "############### Model and payoff parameters ###############\n",
        "#Payoff Parameters\n",
        "dimension = 4\n",
        "S0= 100 * np.ones(dimension)\n",
        "K = 100\n",
        "r = 0\n",
        "T = 1\n",
        "#GBM Model Parameters\n",
        "sigma = 0.4 * np.ones(dimension)\n",
        "rho = np.identity(dimension)\n",
        "SIGMA = covariance_matrix(sigma,rho)\n",
        "############### MC parameters ###############\n",
        "B = 1 # number of batches\n",
        "N = 1 # exact simulation scheme\n",
        "M = 10**5 # number of MC sample paths\n",
        "alpha = 0.05 # confidence level for MC statistical error estimation\n",
        "seed = 100 # random seed for reproducibility of results.\n",
        "MC_price_estimate, MC_stat_error = MC_basket_put_GBM_pricer(S0,K,r,T,sigma,rho,B,N,M,alpha,seed)\n",
        "print(\"MC price estimate =\", round(MC_price_estimate, 5),\"\\nMC relative statistical error = \", round(MC_stat_error / MC_price_estimate,4) )"
      ]
    }
  ],
  "metadata": {
    "colab": {
      "provenance": []
    },
    "kernelspec": {
      "display_name": "Python 3",
      "name": "python3"
    },
    "language_info": {
      "name": "python"
    }
  },
  "nbformat": 4,
  "nbformat_minor": 0
}
