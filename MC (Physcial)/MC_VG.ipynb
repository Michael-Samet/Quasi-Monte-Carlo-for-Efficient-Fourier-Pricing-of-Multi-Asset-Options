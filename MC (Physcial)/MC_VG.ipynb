{
  "cells": [
    {
      "cell_type": "code",
      "execution_count": null,
      "metadata": {
        "id": "qm1DLqqGCuVW"
      },
      "outputs": [],
      "source": [
        "import numpy as np\n",
        "from scipy.stats import norm\n",
        "from scipy import stats as ss"
      ]
    },
    {
      "cell_type": "code",
      "execution_count": 23,
      "metadata": {
        "id": "EYMsLgmc7Hqd"
      },
      "outputs": [],
      "source": [
        "def covariance_matrix(sigma, rho):\n",
        "  \"\"\"\n",
        "  Compute the covariance matrix given volatilities (sigma) and correlation matrix (rho).\n",
        "\n",
        "  Parameters:\n",
        "  - sigma: array of volatilities of each stock\n",
        "  - rho: correlation matrix of Brownian motions\n",
        "\n",
        "  Output:\n",
        "  - SIGMA: covariance matrix\n",
        "  \"\"\"\n",
        "  SIGMA = np.dot(np.diag(sigma), np.dot(rho, np.diag(sigma)))\n",
        "  return SIGMA\n",
        "\n",
        "def MC_call_on_min_VG_pricer(S0, K, r, T, sigma, rho, theta, nu, B, N, M, alpha_conf, seed):\n",
        "  \"\"\"\n",
        "  Compute the price of a call on min option under variance gamma for a system of d stocks.\n",
        "\n",
        "  Parameters:\n",
        "  - S0: vector of initial stock prices\n",
        "  - K: strike price\n",
        "  - r: risk-free interest rate\n",
        "  - T: maturity time\n",
        "  - sigma: vector of volatilities\n",
        "  - rho: correlation matrix of Brownian motions\n",
        "  - B: number of batches\n",
        "  - N: number of time steps of forward Euler discretization\n",
        "  - M: number of MC sample paths\n",
        "  - alpha_conf: confidence level\n",
        "  - seed: random seed\n",
        "\n",
        "  Returns:\n",
        "  - price_estimate: estimated price of the option using Monte Carlo\n",
        "  - MC_stat_error: statistical error of the Monte Carlo estimation\n",
        "  \"\"\"\n",
        "  np.random.seed(seed)\n",
        "  dimension = len(S0)  # number of stocks\n",
        "  SIGMA = covariance_matrix(sigma, rho)  # Construct the covariance matrix\n",
        "  L = np.linalg.cholesky(rho)  # Cholesky decomposition of the correlation matrix\n",
        "  price_estimates_per_batch = np.zeros(B)  # MC price estimates per batch\n",
        "  price_stds_per_batch = np.zeros(B)  # MC standard deviation per batch\n",
        "  N = 1  # Exact simulation scheme\n",
        "  dt = T / N  # size of time sub-interval between two consecutive increments\n",
        "  alpha = dt/nu #shape parameter of the Gamma distribution\n",
        "  beta = 1/nu #rate parameter = inverse scale parameter of the Gamma distribution\n",
        "  mu =(1/nu)*np.log( 1 - np.multiply(nu,theta) - np.multiply(0.5*nu,np.diag(SIGMA)) ) # martingale correction term for d stocks.\n",
        "\n",
        "  for b in range(B):\n",
        "    X = np.zeros((M, N + 1, dimension )) # Contains all sample paths of each time step for each stock: M_paths x N_steps x d\n",
        "    Z = np.random.multivariate_normal(mean  = np.zeros(dimension), cov = np.identity(dimension), size = (M,N)) # samples from independent standard normal distribution\n",
        "    G = ss.gamma.rvs(a = alpha , scale = 1/beta , size = (M,N) ) # generation of the common Gamma clock for all stocks at each sample path and time step.\n",
        "\n",
        "    for n in range(N):\n",
        "      for m in range(M):\n",
        "        W_correlated = L @ Z[m][n] # correlating Brownian motions\n",
        "        X[m,n+1,:] = X[m,n,:] + (r + mu) * dt + theta * G[m][n] + sigma * np.sqrt(G[m][n]) * W_correlated #increment of the VG process\n",
        "\n",
        "    XT = X[:, -1, :]  # asset log-price at the final time for each sample path\n",
        "    ST = S0 * np.exp(XT)  # Stock prices at maturity\n",
        "\n",
        "    payoff_evals = np.exp(-r * T) * np.maximum(np.min(ST, axis=1) - K, 0)  # Compute payoffs for each path\n",
        "    price_estimates_per_batch[b] = np.mean(payoff_evals)  # MC price estimate per batch\n",
        "    price_stds_per_batch[b] = np.std(payoff_evals)  # MC standard deviation per batch\n",
        "\n",
        "  price_estimate = np.mean(price_estimates_per_batch)  # Final MC estimate\n",
        "  C_alpha = norm.ppf(1 - alpha_conf / 2)\n",
        "  MC_stat_error = C_alpha * np.mean(price_stds_per_batch) / np.sqrt(M * B)  # Final MC statistical error\n",
        "  return price_estimate, MC_stat_error\n",
        "\n",
        "def MC_basket_put_VG_pricer(S0, K, r, T, sigma, rho, theta, nu,  B, N, M, alpha_conf, seed):\n",
        "  \"\"\"\n",
        "  Compute the price of a basket put option under variance gamma for a system of d stocks.\n",
        "\n",
        "  Parameters:\n",
        "  - S0: vector of initial stock prices\n",
        "  - K: strike price\n",
        "  - r: risk-free interest rate\n",
        "  - T: maturity time\n",
        "  - sigma: vector of volatilities\n",
        "  - rho: correlation matrix of Brownian motions\n",
        "  - B: number of batches\n",
        "  - N: number of time steps\n",
        "  - M: number of MC sample paths\n",
        "  - alpha_conf: confidence level\n",
        "  - seed: random seed\n",
        "\n",
        "  Returns:\n",
        "  - price_estimate: estimated price of the option\n",
        "  - MC_stat_error: statistical error of the Monte Carlo estimation\n",
        "  \"\"\"\n",
        "  np.random.seed(seed)\n",
        "  dimension = len(S0)  # number of stocks\n",
        "  SIGMA = covariance_matrix(sigma, rho)  # Construct the covariance matrix\n",
        "  L = np.linalg.cholesky(rho)  # Cholesky decomposition of the correlation matrix\n",
        "  price_estimates_per_batch = np.zeros(B)  # MC price estimates per batch\n",
        "  price_stds_per_batch = np.zeros(B)  # MC standard deviation per batch\n",
        "  N = 1  # Exact simulation scheme\n",
        "  dt = T / N  # size of time sub-interval between two consecutive increments\n",
        "  alpha = dt/nu #shape parameter of the Gamma distribution\n",
        "  beta = 1/nu #rate parameter = inverse scale parameter of the Gamma distribution\n",
        "  mu =(1/nu)*np.log( 1 - np.multiply(nu,theta) - np.multiply(0.5*nu,np.diag(SIGMA)) ) # martingale correction term for d stocks.\n",
        "\n",
        "  for b in range(B):\n",
        "    X = np.zeros((M, N + 1, dimension )) # Contains all sample paths of each time step for each stock: M_paths x N_steps x d\n",
        "    Z = np.random.multivariate_normal(mean  = np.zeros(dimension), cov = np.identity(dimension), size = (M,N)) # samples from independent standard normal distribution\n",
        "    G = ss.gamma.rvs(a = alpha , scale = 1/beta , size = (M,N) ) # generation of the common Gamma clock for all stocks at each sample path and time step.\n",
        "\n",
        "    for n in range(N):\n",
        "      for m in range(M):\n",
        "        W_correlated = L @ Z[m][n] # correlating Brownian motions\n",
        "        X[m,n+1,:] = X[m,n,:] + (r + mu) * dt + theta * G[m][n] + sigma * np.sqrt(G[m][n]) * W_correlated #increment of the VG process\n",
        "\n",
        "    XT = X[:, -1, :]  # asset log-price at the final time for each sample path\n",
        "    ST = S0 * np.exp(XT)  # Stock prices at maturity\n",
        "\n",
        "    payoff_evals = np.exp(-r * T) * np.maximum(K - np.mean(ST, axis = 1), 0)  # Compute payoffs for each path\n",
        "    price_estimates_per_batch[b] = np.mean(payoff_evals)  # MC price estimate per batch\n",
        "    price_stds_per_batch[b] = np.std(payoff_evals)  # MC standard deviation per batch\n",
        "\n",
        "  price_estimate = np.mean(price_estimates_per_batch)  # Final MC estimate\n",
        "  C_alpha = norm.ppf(1 - alpha_conf / 2)\n",
        "  MC_stat_error = C_alpha * np.mean(price_stds_per_batch) / np.sqrt(M * B)  # Final MC statistical error\n",
        "  return price_estimate, MC_stat_error"
      ]
    },
    {
      "cell_type": "markdown",
      "metadata": {
        "id": "ne8km8G_-eQE"
      },
      "source": [
        "# Pricing call on min options"
      ]
    },
    {
      "cell_type": "code",
      "execution_count": 26,
      "metadata": {
        "colab": {
          "base_uri": "https://localhost:8080/"
        },
        "id": "GP6UPa3p-f-a",
        "outputId": "d0e5a4d5-9553-4e08-de1e-bd40f2c680b7"
      },
      "outputs": [
        {
          "name": "stdout",
          "output_type": "stream",
          "text": [
            "MC price estimate = 0.55123 \n",
            "MC relative statistical error =  0.0343\n"
          ]
        }
      ],
      "source": [
        "############### Model and payoff parameters ###############\n",
        "#Payoff Parameters\n",
        "dimension = 4\n",
        "S0= 100 * np.ones(dimension)\n",
        "K = 100\n",
        "r = 0\n",
        "T = 1\n",
        "#VG Model Parameters\n",
        "sigma = 0.4*np.ones(dimension)\n",
        "theta = -0.3*np.ones(dimension)\n",
        "nu = 0.2\n",
        "rho = np.identity(dimension)\n",
        "SIGMA = covariance_matrix(sigma,rho)\n",
        "############### MC parameters ###############\n",
        "B = 1 # number of batches\n",
        "N = 1 # exact simulation scheme\n",
        "M = 10**5 # number of MC sample paths\n",
        "alpha_conf = 0.05 # confidence level for MC statistical error estimation\n",
        "seed = 100 # random seed for reproducibility of results.\n",
        "MC_price_estimate, MC_stat_error = MC_call_on_min_VG_pricer(S0, K, r, T, sigma, rho, theta, nu, B, N, M, alpha_conf, seed)\n",
        "print(\"MC price estimate =\", round(MC_price_estimate, 5),\"\\nMC relative statistical error = \", round(MC_stat_error / MC_price_estimate,4) )"
      ]
    },
    {
      "cell_type": "markdown",
      "metadata": {
        "id": "q2sCYdR4_F0J"
      },
      "source": [
        "# Pricing basket put options"
      ]
    },
    {
      "cell_type": "code",
      "execution_count": 27,
      "metadata": {
        "colab": {
          "base_uri": "https://localhost:8080/"
        },
        "id": "Z66thTzu_HBH",
        "outputId": "b24b8c1c-13e8-4d72-ed20-1f6de0866262"
      },
      "outputs": [
        {
          "name": "stdout",
          "output_type": "stream",
          "text": [
            "MC price estimate = 8.7898 \n",
            "MC relative statistical error =  0.0089\n"
          ]
        }
      ],
      "source": [
        "############### Model and payoff parameters ###############\n",
        "#Payoff Parameters\n",
        "dimension = 4\n",
        "S0= 100 * np.ones(dimension)\n",
        "K = 100\n",
        "r = 0\n",
        "T = 1\n",
        "#VG Model Parameters\n",
        "sigma = 0.4*np.ones(dimension)\n",
        "theta = -0.3*np.ones(dimension)\n",
        "nu = 0.2\n",
        "rho = np.identity(dimension)\n",
        "SIGMA = covariance_matrix(sigma,rho)\n",
        "############### MC parameters ###############\n",
        "B = 1 # number of batches\n",
        "N = 1 # exact simulation scheme\n",
        "M = 10**5 # number of MC sample paths\n",
        "alpha_conf = 0.05 # confidence level for MC statistical error estimation\n",
        "seed = 100 # random seed for reproducibility of results.\n",
        "MC_price_estimate, MC_stat_error = MC_basket_put_VG_pricer(S0, K, r, T, sigma, rho, theta, nu,  B, N, M, alpha_conf, seed)\n",
        "print(\"MC price estimate =\", round(MC_price_estimate, 5),\"\\nMC relative statistical error = \", round(MC_stat_error / MC_price_estimate,4) )"
      ]
    }
  ],
  "metadata": {
    "colab": {
      "provenance": []
    },
    "kernelspec": {
      "display_name": "Python 3",
      "name": "python3"
    },
    "language_info": {
      "name": "python"
    }
  },
  "nbformat": 4,
  "nbformat_minor": 0
}
