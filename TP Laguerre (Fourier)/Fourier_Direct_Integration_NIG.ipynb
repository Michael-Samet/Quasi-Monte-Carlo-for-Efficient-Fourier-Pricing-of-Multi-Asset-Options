{
  "nbformat": 4,
  "nbformat_minor": 0,
  "metadata": {
    "colab": {
      "provenance": []
    },
    "kernelspec": {
      "name": "python3",
      "display_name": "Python 3"
    },
    "language_info": {
      "name": "python"
    }
  },
  "cells": [
    {
      "cell_type": "code",
      "execution_count": 3,
      "metadata": {
        "id": "u81HLCjsh36z"
      },
      "outputs": [],
      "source": [
        "# Linear algebra\n",
        "import scipy.stats as ss\n",
        "import scipy.special\n",
        "from scipy import optimize\n",
        "from mpmath import gamma\n",
        "import numpy as np\n",
        "import scipy\n",
        "from scipy.stats import norm\n",
        "from numpy import linalg as la\n",
        "from scipy import sparse\n",
        "from scipy.sparse.linalg import spsolve\n",
        "import pandas as pd\n",
        "from scipy.stats import multivariate_normal\n",
        "#Plotting\n",
        "import matplotlib.pyplot as plt\n",
        "import seaborn as sns\n",
        "sns.set()\n",
        "sns.set_style(\"whitegrid\")\n",
        "### plotting\n",
        "from matplotlib import cm\n",
        "from matplotlib.ticker import LinearLocator\n",
        "from mpl_toolkits.mplot3d import Axes3D\n",
        "import cvxpy as cp\n",
        "import time\n",
        "### Other\n",
        "import itertools\n",
        "from timeit import default_timer as timer\n",
        "from itertools import product\n",
        "from ipywidgets import interact, widgets\n",
        "import warnings\n",
        "warnings.filterwarnings(\"ignore\")"
      ]
    },
    {
      "cell_type": "code",
      "source": [
        "def LagQUAD_fourier_NIG_call_on_min_pricer(S0,K,r,T,alpha,beta,delta,DELTA,N,R):\n",
        "  \"\"\"Compute rainbow options under the NIG model using Gauss-Laguerre quadrature\n",
        "  Args:\n",
        "  - S0 (array): Initial stock prices.\n",
        "  - K (float): Strike price.\n",
        "  - r (float): Short rate.\n",
        "  - T (float): Terminal time.\n",
        "  - sigma (array): Array of standard deviations of each stock.\n",
        "  - theta (array): Array of skewness parameters of each stock.\n",
        "  - nu (float): controls the kurtosis of the distribution of log-returns\n",
        "  - SIGMA (array): Covariance matrix.\n",
        "  - N (int): Number of points per dimension for Laguerre quadrature.\n",
        "  - R (array): Array of damping parameters.\n",
        "  Returns:\n",
        "  - V (float): Option price estimate\n",
        "  \"\"\"\n",
        "  d = len(S0)  # Number of stocks\n",
        "  [u, w] = np.polynomial.laguerre.laggauss(N)  # Laguerre quadrature nodes and weights\n",
        "  u_1d = [u for i in range(d)]  # Array of 1-D abcissas for all directions\n",
        "  w_1d = [w for i in range(d)]  # Array of 1-D weights for all directions\n",
        "  u_ft = list(product(*u_1d))  # Full Tensor Isotropic Grid of abcissas\n",
        "  w_ft = list(product(*w_1d))  # Full Tensor Isotropic Grid of weights\n",
        "  X0 = np.log(np.divide(S0, K))  # Logarithm of the ratio of initial stock prices to strike prices\n",
        "  discount = K * ((2*np.pi)**(-d)) * np.exp(-r*T) * np.exp(-np.dot(R, X0))  # Modified discount factor\n",
        "  V = complex(0)  # Initialization of option price contract value\n",
        "  for i in range(len(u_ft)):  # For all grid points\n",
        "    u_list = laguerre_combinations(u_ft[i])  # Get combinations of Laguerre terms\n",
        "    y_list = u_list + 1j * R\n",
        "    phi_list = np.zeros(len(u_list), dtype=complex)  # List of characteristic function evaluations\n",
        "    p_list = np.zeros(len(u_list), dtype=complex)  # List of payoff function evaluations\n",
        "    g_list = np.zeros(len(u_list), dtype=complex)  # List of integrands resulting from change of variables\n",
        "    for k in range(len(u_list)):  # For all possible combinations within 1 grid point\n",
        "      phi_list[k] = NIG_characteristic_function(y_list[k], T, r, alpha, beta, delta, DELTA)\n",
        "      p_list[k] = fourier_payoff_call_on_min(y_list[k])\n",
        "      g_list[k] = np.exp(np.multiply(1j, np.dot(u_list[k], X0))) * phi_list[k] * p_list[k]\n",
        "    g = np.sum(g_list)\n",
        "    V = V + discount * np.exp(np.sum(u_ft[i])) * np.prod(w_ft[i]) * g\n",
        "  return np.real(V)  # Real Part of the integral\n",
        "\n",
        "def LagQUAD_fourier_NIG_basket_put_pricer (S0,K,r,T,alpha,beta,delta,DELTA,N,R):\n",
        "  \"\"\"Compute rainbow options under the NIG model using Gauss-Laguerre quadrature\n",
        "  Args:\n",
        "  - S0 (array): Initial stock prices.\n",
        "  - K (float): Strike price.\n",
        "  - r (float): Short rate.\n",
        "  - T (float): Terminal time.\n",
        "  - sigma (array): Array of standard deviations of each stock.\n",
        "  - theta (array): Array of skewness parameters of each stock.\n",
        "  - nu (float): controls the kurtosis of the distribution of log-returns\n",
        "  - SIGMA (array): Covariance matrix.\n",
        "  - N (int): Number of points per dimension for Laguerre quadrature.\n",
        "  - R (array): Array of damping parameters.\n",
        "  Returns:\n",
        "  - V (float): Option price estimate\n",
        "  \"\"\"\n",
        "  d = len(S0)  # Number of stocks\n",
        "  [u, w] = np.polynomial.laguerre.laggauss(N)  # Laguerre quadrature nodes and weights\n",
        "  u_1d = [u for i in range(d)]  # Array of 1-D abcissas for all directions\n",
        "  w_1d = [w for i in range(d)]  # Array of 1-D weights for all directions\n",
        "  u_ft = list(product(*u_1d))  # Full Tensor Isotropic Grid of abcissas\n",
        "  w_ft = list(product(*w_1d))  # Full Tensor Isotropic Grid of weights\n",
        "  X0 = np.log(np.divide(S0, d*K))  # Logarithm of the ratio of initial stock prices to strike prices\n",
        "  discount = K * ((2*np.pi)**(-d)) * np.exp(-r*T) * np.exp(-np.dot(R, X0))  # Modified discount factor\n",
        "  V = complex(0)  # Initialization of option price contract value\n",
        "  for i in range(len(u_ft)):  # For all grid points\n",
        "    u_list = laguerre_combinations(u_ft[i])  # Get combinations of Laguerre terms\n",
        "    y_list = u_list + 1j * R\n",
        "    phi_list = np.zeros(len(u_list), dtype=complex)  # array of characteristic function evaluations\n",
        "    p_list = np.zeros(len(u_list), dtype=complex)  # array of payoff function evaluations\n",
        "    g_list = np.zeros(len(u_list), dtype=complex)  # array of integrands resulting from the change of variables\n",
        "    for k in range(len(u_list)):  # For all possible combinations within 1 grid point\n",
        "      phi_list[k] = NIG_characteristic_function(y_list[k], T, r, alpha, beta, delta, DELTA)\n",
        "      p_list[k] = fourier_payoff_basket_put(y_list[k])\n",
        "      g_list[k] = np.exp(np.multiply(1j, np.dot(u_list[k], X0))) * phi_list[k] * p_list[k]\n",
        "    g = np.sum(g_list)\n",
        "    V = V + discount * np.exp(np.sum(u_ft[i])) * np.prod(w_ft[i]) * g\n",
        "  return np.real(V)  # Real Part of the integral\n",
        "\n",
        "def HermQUAD_fourier_NIG_call_on_min_pricer(S0,K,r,T,alpha,beta,delta,DELTA,N,R):\n",
        "  \"\"\"Compute rainbow options under the VG model using Gauss-Laguerre quadrature\n",
        "  Args:\n",
        "  - S0 (array): Initial stock prices.\n",
        "  - K (float): Strike price.\n",
        "  - r (float): Short rate.\n",
        "  - T (float): Terminal time.\n",
        "  - sigma (array): Array of standard deviations of each stock.\n",
        "  - theta (array): Array of skewness parameters of each stock.\n",
        "  - nu (float): controls the kurtosis of the distribution of log-returns\n",
        "  - SIGMA (array): Covariance matrix.\n",
        "  - N (int): Number of points per dimension for Laguerre quadrature.\n",
        "  - R (array): Array of damping parameters.\n",
        "  Returns:\n",
        "  - V (float): Option price estimate\n",
        "  \"\"\"\n",
        "  d = len(S0)  # Number of stocks\n",
        "  [u, w] = np.polynomial.hermite.hermgauss(N)  # Hermite quadrature nodes and weights\n",
        "  u_1d = [u for i in range(d)]  # Array of 1-D abcissas for all directions\n",
        "  w_1d = [w for i in range(d)]  # Array of 1-D weights for all directions\n",
        "  u_ft = np.asarray(list(product(*u_1d)))  # Full Tensor Isotropic Grid of abcissas\n",
        "  w_ft = np.asarray(list(product(*w_1d)))  # Full Tensor Isotropic Grid of weights\n",
        "  X0 = np.log(np.divide(S0, K))  # Logarithm of the ratio of initial stock prices to strike prices\n",
        "  discount_factor = K * ((2*np.pi)**(-d)) * np.exp(-r*T) * np.exp(-R @ X0)  # Modified discount factor\n",
        "  V = complex(0)  # Initialization of option price contract value\n",
        "  for i in range(u_ft.shape[0]):  # For all grid points\n",
        "    y = u_ft[i] + 1j * R\n",
        "    phi = NIG_characteristic_function(y, T, r, alpha, beta, delta, DELTA)\n",
        "    payoff = fourier_payoff_call_on_min(y)\n",
        "    V += np.exp(np.sum(u_ft[i]**2)) * np.prod(w_ft[i]) * np.exp(1j * u_ft[i] @ X0) * phi * payoff\n",
        "  return np.real(discount_factor * V)  # Real Part of the integral\n",
        "\n",
        "def HermQUAD_fourier_NIG_basket_put_pricer(S0,K,r,T,alpha,beta,delta,DELTA,N,R):\n",
        "  \"\"\"Compute rainbow options under the NIG model using Gauss-Laguerre quadrature\n",
        "  Args:\n",
        "  - S0 (array): Initial stock prices.\n",
        "  - K (float): Strike price.\n",
        "  - r (float): Short rate.\n",
        "  - T (float): Terminal time.\n",
        "  - sigma (array): Array of standard deviations of each stock.\n",
        "  - theta (array): Array of skewness parameters of each stock.\n",
        "  - nu (float): controls the kurtosis of the distribution of log-returns\n",
        "  - SIGMA (array): Covariance matrix.\n",
        "  - N (int): Number of points per dimension for Laguerre quadrature.\n",
        "  - R (array): Array of damping parameters.\n",
        "  Returns:\n",
        "  - V (float): Option price estimate\n",
        "  \"\"\"\n",
        "  d = len(S0)  # Number of stocks\n",
        "  [u, w] = np.polynomial.hermite.hermgauss(N)  # Hermite quadrature nodes and weights\n",
        "  u_1d = [u for i in range(d)]  # Array of 1-D abcissas for all directions\n",
        "  w_1d = [w for i in range(d)]  # Array of 1-D weights for all directions\n",
        "  u_ft = np.asarray(list(product(*u_1d)))  # Full Tensor Isotropic Grid of abcissas\n",
        "  w_ft = np.asarray(list(product(*w_1d)))  # Full Tensor Isotropic Grid of weights\n",
        "  X0 = np.log(np.divide(S0, d*K))  # Logarithm of the ratio of initial stock prices to strike prices\n",
        "  discount_factor = K * ((2*np.pi)**(-d)) * np.exp(-r*T) * np.exp(-R @ X0)  # Modified discount factor\n",
        "  V = complex(0)  # Initialization of option price contract value\n",
        "  for i in range(u_ft.shape[0]):  # For all grid points\n",
        "    y = u_ft[i] + 1j * R\n",
        "    phi = NIG_characteristic_function(y, T, r, alpha, beta, delta, DELTA)\n",
        "    payoff = fourier_payoff_basket_put(y)\n",
        "    V += np.exp(np.sum(u_ft[i]**2)) * np.prod(w_ft[i]) * np.exp(1j * u_ft[i] @ X0) * phi * payoff\n",
        "  return np.real(discount_factor * V)  # Real Part of the integral\n",
        "\n",
        "def covariance_matrix(sigma, rho):\n",
        "    \"\"\"Compute the covariance matrix.\n",
        "    Args:\n",
        "    - sigma (array): Array of volatilities of each stock.\n",
        "    - rho (array): Correlation matrix.\n",
        "    Returns:\n",
        "    - SIGMA (array): Covariance matrix.\n",
        "    \"\"\"\n",
        "    sigma = np.diag(sigma)  # Diagonal matrix of volatilities\n",
        "    SIGMA = np.dot(sigma, np.dot(rho, sigma))  # Covariance matrix calculation\n",
        "    return SIGMA\n",
        "\n",
        "def NIG_characteristic_function(u, T, r, alpha, beta, delta, DELTA):\n",
        "  \"\"\"Compute the characteristic function of the NIG distribution.\n",
        "  Args:\n",
        "  - u (array): Vector in R^d.\n",
        "  - T (float): Terminal time.\n",
        "  - r (float): Short rate.\n",
        "  - alpha (float): Alpha parameter of the NIG distribution.\n",
        "  - beta (array): Array of beta values.\n",
        "  - delta (float): Delta parameter of the NIG distribution.\n",
        "  - DELTA (array): Covariance matrix.\n",
        "  Returns:\n",
        "  - phi (complex): Characteristic function value.\n",
        "  \"\"\"\n",
        "  mu = -delta * (np.sqrt(alpha**2 - np.square(beta)) - np.sqrt(alpha**2 - np.square(beta + 1)))\n",
        "  phi = np.exp(np.multiply(1j * T, (r + mu) @ u) + delta * T * (np.sqrt(alpha**2 - beta @ DELTA @ beta) - np.sqrt(alpha**2 - (beta + np.multiply(1j, u)) @ DELTA @ (beta + np.multiply(1j, u)))))\n",
        "  return phi\n",
        "\n",
        "\n",
        "def fourier_payoff_call_on_min(u):\n",
        "    \"\"\"Compute the Fourier of the payoff of scaled (K = 1) call on min option.\n",
        "    Args:\n",
        "    - u (array): Array of Fourier frequencies.\n",
        "    Returns:\n",
        "    - payoff (float): Call on min option payoff Fourier transofrm value.\n",
        "    \"\"\"\n",
        "    denominator = (np.multiply(1j, np.sum(u)) - 1) * np.prod(np.multiply(1j, u))\n",
        "    return 1 / denominator\n",
        "\n",
        "def fourier_payoff_basket_put(u):\n",
        "  \"\"\"Compute the Fourier of the payoff of scaled (K = 1) basket put option.\n",
        "  Args:\n",
        "  - u (array): Array of Fourier frequencies.\n",
        "  Returns:\n",
        "  - payoff (float): Call on min option payoff Fourier transofrm value.\n",
        "  \"\"\"\n",
        "  numerator = np.prod(scipy.special.gamma(np.multiply(-1j,u)))\n",
        "  denominator = scipy.special.gamma(-1j*(np.sum(u))+2)\n",
        "  return (numerator/denominator)\n",
        "\n",
        "\n",
        "def integrand_to_optimize_NIG_call_on_min(R):\n",
        "    \"\"\"Calculate the integrand for QMC estimation of the rainbow option under NIG model.\n",
        "    Args:\n",
        "    - R (array): Array of damping parameters.\n",
        "    Returns:\n",
        "    - integrand (float): Integrand value.\n",
        "    \"\"\"\n",
        "    d = len(S0)  # Dimensionality\n",
        "    X0 = np.log(np.divide(S0, K))  # Element-wise division\n",
        "    y = np.multiply(1j, R)\n",
        "    phi = NIG_characteristic_function(y, T, r, alpha, beta, delta, DELTA)  # Characteristic function\n",
        "    p = fourier_payoff_call_on_min(y)  # Fourier Transformed Payoff function\n",
        "    discount = ((2 * np.pi) ** (-d)) * np.exp(-r * T) * np.exp(-np.dot(R, X0))  # Modified discount factor\n",
        "    integrand = K * discount * phi * p\n",
        "    return integrand\n",
        "\n",
        "def integrand_to_optimize_NIG_basket_put(R):\n",
        "    \"\"\"Calculate the integrand for QMC estimation of the basket put option under NIG model.\n",
        "    Args:\n",
        "    - R (array): Array of damping parameters.\n",
        "    Returns:\n",
        "    - integrand (float): Integrand value.\n",
        "    \"\"\"\n",
        "    d = len(S0)  # Dimensionality\n",
        "    X0 = np.log(np.divide(S0, d*K))  # Element-wise division\n",
        "    y = np.multiply(1j, R)\n",
        "    phi = NIG_characteristic_function(y, T, r, alpha, beta, delta, DELTA)  # Characteristic function\n",
        "    p = fourier_payoff_basket_put(y)  # Fourier Transformed Payoff function\n",
        "    discount = ((2 * np.pi) ** (-d)) * np.exp(-r * T) * np.exp(-np.dot(R, X0))  # Modified discount factor\n",
        "    integrand = K * discount * phi * p\n",
        "    return integrand\n",
        "\n",
        "def laguerre_combinations(u):\n",
        "  \"\"\"Generate combinations of Laguerre terms due to change of variable from (-infinity,+infinity) to (0,+infinity)\n",
        "\n",
        "  Args:\n",
        "  - u (array): Laguerre terms.\n",
        "\n",
        "  Returns:\n",
        "  - Z (array): Combinations of Laguerre terms.\n",
        "  \"\"\"\n",
        "  d = len(u)  # Dimensionality\n",
        "  aux = np.array(u) * (-1)  # Negate each element of u\n",
        "  aux = tuple(aux)  # Convert to tuple\n",
        "  L = [(u[i], aux[i]) for i in range(len(u))]  # Create pairs of (u[i], -u[i])\n",
        "  Z = list(itertools.product(*L))  # Generate all possible combinations of the pairs\n",
        "  return np.array(Z)"
      ],
      "metadata": {
        "id": "6eNtzlMsibjg"
      },
      "execution_count": 5,
      "outputs": []
    },
    {
      "cell_type": "markdown",
      "source": [
        "# Call on min options"
      ],
      "metadata": {
        "id": "Zx7Qn5IBjUod"
      }
    },
    {
      "cell_type": "markdown",
      "source": [
        "## Computing the damping parameters using the rule proposed in [link to the paper](https://arxiv.org/pdf/2203.08196.pdf)"
      ],
      "metadata": {
        "id": "e9v9byOwjWL4"
      }
    },
    {
      "cell_type": "code",
      "source": [
        "# Payoff parameters\n",
        "dimension = 5\n",
        "S0 = 100 * np.ones(dimension)\n",
        "K = 100\n",
        "r = 0\n",
        "T = 1\n",
        "#NIG Model Parameters\n",
        "alpha= 12\n",
        "beta = -3 * np.ones(dimension)\n",
        "delta= 0.2\n",
        "DELTA = np.identity(dimension)\n",
        "\n",
        "############### Setting for the optimal damping parameters #############\n",
        "# Constraints related to the strip of regularity of the payoff transform\n",
        "def NIG_constraint(R):\n",
        "  return alpha**2 - (beta- R) @ DELTA @ (beta - R)\n",
        "\n",
        "def rainbow_constraint_1(R):\n",
        "  return -1*R\n",
        "\n",
        "def rainbow_constraint_2(R):\n",
        "  return -1 - np.sum(R)\n",
        "\n",
        "cons = ( {'type': 'ineq', 'fun': NIG_constraint},\n",
        "        {'type': 'ineq', 'fun': rainbow_constraint_1},\n",
        "        {'type': 'ineq', 'fun': rainbow_constraint_2},)\n",
        "\n",
        "R_init = -2*np.ones(dimension) # initial parameters R needs to belong to the strip of analyticity of the integrand\n",
        "optimal_R = optimize.minimize(fun = integrand_to_optimize_NIG_call_on_min, constraints = cons, x0 = R_init , method = \"Trust-Constr\" )\n",
        "#print(optimal_R) # uncomment to see wether the optimizer converged succesfully.\n",
        "R = optimal_R.x\n",
        "print(\"Optimal damping parameters:\", R)"
      ],
      "metadata": {
        "colab": {
          "base_uri": "https://localhost:8080/"
        },
        "id": "q4cGFzQXjYTZ",
        "outputId": "0aaf8027-9089-4812-b468-e96d68527fb9"
      },
      "execution_count": 6,
      "outputs": [
        {
          "output_type": "stream",
          "name": "stdout",
          "text": [
            "Optimal damping parameters: [-6.15725122 -6.15725122 -6.15725121 -6.15725121 -6.15725122]\n"
          ]
        }
      ]
    },
    {
      "cell_type": "markdown",
      "source": [
        "## Pricing using Tensor Product Gauss-Laguerre quadrature in the Fourier space"
      ],
      "metadata": {
        "id": "jYGm41fZjh-G"
      }
    },
    {
      "cell_type": "code",
      "source": [
        "############### Model and payoff parameters ###############\n",
        "# Payoff parameters\n",
        "dimension = 5\n",
        "S0 = 100 * np.ones(dimension)\n",
        "K = 100\n",
        "r = 0\n",
        "T = 1\n",
        "#NIG Model Parameters\n",
        "alpha= 12\n",
        "beta = -3 * np.ones(dimension)\n",
        "delta= 0.2\n",
        "DELTA = np.identity(dimension)\n",
        "\n",
        "############### Laguerre Quadrature parameters ###############\n",
        "N = 2**3 # number of Gauss-Laguerre quadrature nodes per dimension\n",
        "R_init = -2*np.ones(dimension) # initial parameters R needs to belong to the strip of analyticity of the integrand\n",
        "optimal_R = optimize.minimize(fun = integrand_to_optimize_NIG_call_on_min, constraints = cons, x0 = R_init , method = \"Nelder-Mead\" )\n",
        "#print(optimal_R) # uncomment to see wether the optimizer converged succesfully.\n",
        "R = optimal_R.x\n",
        "LagQUAD_estimate = LagQUAD_fourier_NIG_call_on_min_pricer(S0,K,r,T,alpha,beta,delta,DELTA,N,R)\n",
        "print(\"LagQUAD estimate =\", round(LagQUAD_estimate,5)  )"
      ],
      "metadata": {
        "colab": {
          "base_uri": "https://localhost:8080/"
        },
        "id": "jJMbXck1jY4O",
        "outputId": "db3de3ed-a471-4d10-df4b-916f17110e5a"
      },
      "execution_count": 8,
      "outputs": [
        {
          "output_type": "stream",
          "name": "stdout",
          "text": [
            "LagQUAD estimate = 0.08377\n"
          ]
        }
      ]
    },
    {
      "cell_type": "markdown",
      "source": [
        "# Basket put options"
      ],
      "metadata": {
        "id": "xbSkej74klDK"
      }
    },
    {
      "cell_type": "markdown",
      "source": [
        "## Computing the damping parameters using the rule proposed in [link to the paper](https://arxiv.org/pdf/2203.08196.pdf)"
      ],
      "metadata": {
        "id": "HaS6WJJtkrma"
      }
    },
    {
      "cell_type": "code",
      "source": [
        "# Payoff parameters\n",
        "dimension = 3\n",
        "S0 = 100 * np.ones(dimension)\n",
        "K = 100\n",
        "r = 0\n",
        "T = 1\n",
        "#NIG Model Parameters\n",
        "alpha= 12\n",
        "beta = -3 * np.ones(dimension)\n",
        "delta= 0.2\n",
        "DELTA = np.identity(dimension)\n",
        "\n",
        "############### Setting for the optimal damping parameters #############\n",
        "# Constraints related to the strip of regularity of the payoff transform\n",
        "def NIG_constraint(R):\n",
        "  return alpha**2 - (beta- R) @ DELTA @ (beta - R)\n",
        "\n",
        "def basket_put_constraint(R):\n",
        "    return R\n",
        "cons = ( {'type': 'ineq', 'fun': NIG_constraint},\n",
        "        {'type': 'ineq', 'fun': basket_put_constraint},)\n",
        "\n",
        "R_init = 2*np.ones(dimension) # initial parameters R needs to belong to the strip of analyticity of the integrand\n",
        "optimal_R = optimize.minimize(fun = integrand_to_optimize_NIG_basket_put, constraints = cons, x0 = R_init , method = \"Trust-Constr\" )\n",
        "#print(optimal_R) # uncomment to see wether the optimizer converged succesfully.\n",
        "R = optimal_R.x\n",
        "print(\"Optimal damping parameters:\", R)"
      ],
      "metadata": {
        "colab": {
          "base_uri": "https://localhost:8080/"
        },
        "id": "UP6wfoRykme7",
        "outputId": "e6af9b46-0904-433e-e174-c6e1dd5ed8da"
      },
      "execution_count": 9,
      "outputs": [
        {
          "output_type": "stream",
          "name": "stdout",
          "text": [
            "Optimal damping parameters: [3.52609666 3.52609798 3.52609763]\n"
          ]
        }
      ]
    },
    {
      "cell_type": "code",
      "source": [
        "############### Model and payoff parameters ###############\n",
        "# Payoff parameters\n",
        "dimension = 3\n",
        "S0 = 100 * np.ones(dimension)\n",
        "K = 100\n",
        "r = 0\n",
        "T = 1\n",
        "#NIG Model Parameters\n",
        "alpha= 12\n",
        "beta = -3 * np.ones(dimension)\n",
        "delta= 0.2\n",
        "DELTA = np.identity(dimension)\n",
        "\n",
        "############### Laguerre Quadrature parameters ###############\n",
        "N = 2**3 # number of Gauss-Laguerre quadrature nodes per dimension\n",
        "R_init = 2*np.ones(dimension) # initial parameters R needs to belong to the strip of analyticity of the integrand\n",
        "optimal_R = optimize.minimize(fun = integrand_to_optimize_NIG_basket_put, constraints = cons, x0 = R_init , method = \"Trust-Constr\" )\n",
        "#print(optimal_R) # uncomment to see wether the optimizer converged succesfully.\n",
        "R = optimal_R.x\n",
        "LagQUAD_estimate = LagQUAD_fourier_NIG_basket_put_pricer(S0,K,r,T,alpha,beta,delta,DELTA,N,R)\n",
        "print(\"LagQUAD estimate =\", round(LagQUAD_estimate,5)  )"
      ],
      "metadata": {
        "colab": {
          "base_uri": "https://localhost:8080/"
        },
        "id": "6gvy8PcbktN1",
        "outputId": "54e3a2c4-e790-45fd-d609-f78b40f1ec9c"
      },
      "execution_count": 11,
      "outputs": [
        {
          "output_type": "stream",
          "name": "stdout",
          "text": [
            "LagQUAD estimate = 3.32423\n"
          ]
        }
      ]
    },
    {
      "cell_type": "markdown",
      "source": [
        "# 1D multi-strike vectorized implementations (Caching)"
      ],
      "metadata": {
        "id": "fJiMj_eqlBwm"
      }
    },
    {
      "cell_type": "code",
      "source": [
        "def multistrike_LagQUAD_fourier_NIG_vanilla_call_pricer(S0,K,r,T,alpha,beta,delta,DELTA,N,R):\n",
        "  # vectorized implementation of the pricer for Vanilla calls.\n",
        "  K = np.array(K).reshape([len(K),1]) # list of strikes\n",
        "  d = 1\n",
        "  [u,w] = np.polynomial.laguerre.laggauss(N) #Laguerre quadrature nodes and weights.\n",
        "  u_1d=[u for i in range(d)] #array of 1-D abcissas for all directions\n",
        "  w_1d=[w for i in range(d)] #array of 1-D weights for all directions\n",
        "  u = np.asarray(list(product(*u_1d))) # Full Tensor Isotropic Grid of abcissas\n",
        "  w = np.asarray(list(product(*w_1d))) #Full Tensor Isotropic Grid of weights\n",
        "  X0 = np.log(np.divide(S0,K)) #element-wise division X_0 is logarithm of stock price at initial time\n",
        "  phi_list = np.zeros(N, dtype = complex) #List of characteristic function evaluations\n",
        "  p_list = np.zeros(N, dtype = complex) #List of payoff function evaluations\n",
        "  w_prod_list = np.zeros(N, dtype = float)\n",
        "  reciprocal_weight_function = np.zeros(N, dtype = float)\n",
        "  phi_values = np.array(list(map(lambda u: NIG_characteristic_function(u + 1j*R, T, r, alpha, beta, delta, DELTA), u) ) )\n",
        "  p_values = np.array(list(map(fourier_payoff_call_on_min, u+1j*R)))\n",
        "  w_prod_values = np.prod(w,axis = 1)\n",
        "  reciprocal_weight_function = np.exp(np.sum(u,axis = 1 ))\n",
        "  temp = p_values * phi_values * w_prod_values * reciprocal_weight_function\n",
        "  mat = np.exp(1j * np.outer(X0,u))\n",
        "  K_factor = (2*np.pi)**(-d) * np.exp(-r*T) * K * np.exp(-R*X0)\n",
        "  V = 2 * K_factor.reshape(K.shape[0],)  * np.real( mat @ temp ) # The factor 2 comes from evenness of the integrand\n",
        "  return V"
      ],
      "metadata": {
        "id": "TVv7InFclGX3"
      },
      "execution_count": 12,
      "outputs": []
    },
    {
      "cell_type": "code",
      "source": [
        "# Payoff parameters\n",
        "K_grid = list(np.linspace(80,120,40)) # strike prices grid\n",
        "dimension = 1\n",
        "S0 = 100 * np.ones(dimension)\n",
        "r = 0\n",
        "T = 1\n",
        "#NIG Model Parameters\n",
        "alpha= 12\n",
        "beta = -3 * np.ones(dimension)\n",
        "delta= 0.2\n",
        "DELTA = np.identity(dimension)\n",
        "\n",
        "############### Setting for the optimal damping parameters #############\n",
        "# Constraints related to the strip of regularity of the payoff transform\n",
        "def NIG_constraint(R):\n",
        "  return alpha**2 - (beta- R) @ DELTA @ (beta - R)\n",
        "\n",
        "def rainbow_constraint_1(R):\n",
        "  return -1*R\n",
        "\n",
        "def rainbow_constraint_2(R):\n",
        "  return -1 - np.sum(R)\n",
        "\n",
        "cons = ( {'type': 'ineq', 'fun': NIG_constraint},\n",
        "        {'type': 'ineq', 'fun': rainbow_constraint_1},\n",
        "        {'type': 'ineq', 'fun': rainbow_constraint_2},)\n",
        "\n",
        "R_init = -2*np.ones(dimension) # initial parameters R needs to belong to the strip of analyticity of the integrand\n",
        "K = np.median(K_grid)\n",
        "optimal_R = optimize.minimize(fun = integrand_to_optimize_NIG_call_on_min, constraints = cons, x0 = R_init , method = \"Trust-Constr\" )\n",
        "#print(optimal_R) # uncomment to see wether the optimizer converged succesfully.\n",
        "R = optimal_R.x\n",
        "print(\"Optimal damping parameters:\", R)\n",
        "\n",
        "############### Laguerre Quadrature parameters ###############\n",
        "N = 2**3 # number of Gauss-Laguerre quadrature points per dimension.\n",
        "LagQUAD_estimates =  multistrike_LagQUAD_fourier_NIG_vanilla_call_pricer(S0,K_grid,r,T,alpha,beta,delta,DELTA,N,R)\n",
        "print(\"LagQUAD estimates =\", LagQUAD_estimates )"
      ],
      "metadata": {
        "colab": {
          "base_uri": "https://localhost:8080/"
        },
        "id": "G3MxCyyflVcO",
        "outputId": "b61ae84c-134a-4870-c521-8c4ab5b11e6d"
      },
      "execution_count": 22,
      "outputs": [
        {
          "output_type": "stream",
          "name": "stdout",
          "text": [
            "Optimal damping parameters: [-10.45882459]\n",
            "LagQUAD estimates = [20.42050621 19.44759116 18.49031262 17.54954791 16.6255617  15.71835665\n",
            " 14.8279665  13.95467003 13.09911988 12.26239188 11.44596738 10.65166496\n",
            "  9.88153857  9.1377584   8.42248811  7.73776955  7.08542271  6.46696571\n",
            "  5.88355738  5.33596237  4.82453764  4.34923771  3.90963548  3.50495532\n",
            "  3.13411482  2.795772    2.48837514  2.21021266  1.95946118  1.73423022\n",
            "  1.53260241  1.35266869  1.19255809  1.05046207  0.92465358  0.81350131\n",
            "  0.71547942  0.62917338  0.55328252  0.48661965]\n"
          ]
        }
      ]
    },
    {
      "cell_type": "markdown",
      "source": [
        "# Multidimensional multistrike vectorized implementation (caching)"
      ],
      "metadata": {
        "id": "PgWNB5HMlo9G"
      }
    },
    {
      "cell_type": "code",
      "source": [
        "def phase_factor(u,X0):\n",
        "  return np.exp(1j * u @ X0.T )\n",
        "\n",
        "def multistrike_LagQUAD_fourier_NIG_call_on_min_pricer(S0,K,r,T,alpha,beta,delta,DELTA,N,R):\n",
        "  d=len(S0) #number of underlying stocks / dimensionality of the problem\n",
        "  K = np.array(K).reshape([len(K),1]) # list of strikes to be valued simulatenously\n",
        "  k = K.shape[0] # number of strikes to be valued\n",
        "  [u,w] = np.polynomial.laguerre.laggauss(N) #returns Laguerre quadrature nodes and weights.\n",
        "  u_1d=[u for i in range(d)] # Nxd array of 1D abcissas\n",
        "  w_1d=[w for i in range(d)] # Nxd array of 1D weights\n",
        "  u = np.asarray(list(product(*u_1d))) # N^d x d: array of N^d d-dimensional points\n",
        "  w = np.asarray(list(product(*w_1d))) # N^d x d: array of N^d d-dimensional weights\n",
        "  u_laguerre_scaling = np.repeat(a = u, repeats = 2**d ,axis = 0) # Repeats each element of the array 2**d times before moving to next element\n",
        "  w = np.repeat(a = w, repeats = 2**d ,axis = 0) # Repeats each element of the array 2**d times before moving to next element\n",
        "  u = np.vstack(np.array(list(map(laguerre_combinations, u)))) # creates all possible combinations of multiplying by -1.\n",
        "  X0 = np.log(np.divide(S0,K)) #element-wise division X_0 is logarithm of stock price at initial time - Division by d is intrinsic to basket option for equally weighted average\n",
        "  phi_values =  np.array(list(map(lambda u: NIG_characteristic_function(u + 1j*R, T, r, alpha, beta, delta, DELTA), u) ), dtype = complex ) # characteristic function evaluations\n",
        "  p_values = np.array(list(map(fourier_payoff_call_on_min, u+1j*R)), dtype = complex) # payoff transform evaluations\n",
        "  w_prod_values = np.prod(w,axis = 1) # contains product of weights for each multi-index\n",
        "  reciprocal_weight_function = np.exp(np.sum(u_laguerre_scaling,axis = 1 ))  # contains the inverse of the weight function applied to use Gauss-Laguerre.\n",
        "  temp =  p_values * phi_values * w_prod_values * reciprocal_weight_function\n",
        "  mat = np.array(list(map(lambda u: phase_factor(u,X0), u)))\n",
        "  K_factor = (2*np.pi)**(-d) * np.exp(-r*T) * K *  np.exp(-1*np.einsum(\"ij,ij->i\", np.tile(R,(k,1)), X0)).reshape(k,1) # Einstein sumation allows for dot product row-by-row between two matrices. Tiling repeats the vector k times, axis = 1 is to make sure we copy rows.\n",
        "  V = K_factor * np.real(np.einsum(\"ij,ij->i\", mat.T, np.tile(temp,(k,1)))).reshape(k,1)\n",
        "  return V"
      ],
      "metadata": {
        "id": "c6zsPDM9lrOo"
      },
      "execution_count": 15,
      "outputs": []
    },
    {
      "cell_type": "code",
      "source": [
        "# Payoff parameters\n",
        "K_grid = list(np.linspace(80,120,40)) # strike prices grid\n",
        "dimension = 3\n",
        "S0 = 100 * np.ones(dimension)\n",
        "r = 0\n",
        "T = 1\n",
        "#NIG Model Parameters\n",
        "alpha= 12\n",
        "beta = -3 * np.ones(dimension)\n",
        "delta= 0.2\n",
        "DELTA = np.identity(dimension)\n",
        "\n",
        "############### Setting for the optimal damping parameters #############\n",
        "# Constraint related to the strip of regularity of the extended characteristic function\n",
        "def NIG_constraint(R):\n",
        "  return alpha**2 - (beta- R) @ DELTA @ (beta - R)\n",
        "\n",
        "# Constraints related to the strip of regularity of the payoff transform\n",
        "def rainbow_constraint_1(R):\n",
        "  return -1*R\n",
        "\n",
        "def rainbow_constraint_2(R):\n",
        "  return -1 - np.sum(R)\n",
        "\n",
        "cons = ( {'type': 'ineq', 'fun': NIG_constraint},\n",
        "        {'type': 'ineq', 'fun': rainbow_constraint_1},\n",
        "        {'type': 'ineq', 'fun': rainbow_constraint_2},)\n",
        "\n",
        "R_init = -2*np.ones(dimension) # initial parameters R needs to belong to the strip of analyticity of the integrand\n",
        "K = np.median(K_grid)\n",
        "optimal_R = optimize.minimize(fun = integrand_to_optimize_NIG_call_on_min, constraints = cons, x0 = R_init , method = \"Trust-Constr\" )\n",
        "#print(optimal_R) # uncomment to see wether the optimizer converged succesfully.\n",
        "R = optimal_R.x\n",
        "print(\"Optimal damping parameters:\", R)\n",
        "\n",
        "############### Laguerre Quadrature parameters ###############\n",
        "N = 2**3 # number of Gauss-Laguerre quadrature points per dimension.\n",
        "LagQUAD_estimates =  multistrike_LagQUAD_fourier_NIG_call_on_min_pricer(S0,K_grid,r,T,alpha,beta,delta,DELTA,N,R)\n",
        "print(\"LagQUAD estimates =\", LagQUAD_estimates )"
      ],
      "metadata": {
        "colab": {
          "base_uri": "https://localhost:8080/"
        },
        "id": "LaCBV2b8l2Rk",
        "outputId": "045fa2d8-c625-43a2-91d9-7d10d2a54921"
      },
      "execution_count": 23,
      "outputs": [
        {
          "output_type": "stream",
          "name": "stdout",
          "text": [
            "Optimal damping parameters: [-8.0741749  -8.07417437 -8.07471346]\n",
            "LagQUAD estimates = [[1.04401497e+01]\n",
            " [9.59350277e+00]\n",
            " [8.78030583e+00]\n",
            " [8.00079116e+00]\n",
            " [7.25480160e+00]\n",
            " [6.54216246e+00]\n",
            " [5.86293854e+00]\n",
            " [5.21760041e+00]\n",
            " [4.60710706e+00]\n",
            " [4.03289971e+00]\n",
            " [3.49679956e+00]\n",
            " [3.00081241e+00]\n",
            " [2.54686128e+00]\n",
            " [2.13648634e+00]\n",
            " [1.77056202e+00]\n",
            " [1.44908027e+00]\n",
            " [1.17103565e+00]\n",
            " [9.34427298e-01]\n",
            " [7.36370566e-01]\n",
            " [5.73292768e-01]\n",
            " [4.41177272e-01]\n",
            " [3.35818285e-01]\n",
            " [2.53054155e-01]\n",
            " [1.88956823e-01]\n",
            " [1.39966270e-01]\n",
            " [1.02968858e-01]\n",
            " [7.53259185e-02]\n",
            " [5.48632712e-02]\n",
            " [3.98337744e-02]\n",
            " [2.88643241e-02]\n",
            " [2.08966941e-02]\n",
            " [1.51290736e-02]\n",
            " [1.09626744e-02]\n",
            " [7.95567422e-03]\n",
            " [5.78520653e-03]\n",
            " [4.21707664e-03]\n",
            " [3.08231347e-03]\n",
            " [2.25942781e-03]\n",
            " [1.66123330e-03]\n",
            " [1.22519545e-03]]\n"
          ]
        }
      ]
    }
  ]
}