{
  "cells": [
    {
      "cell_type": "code",
      "execution_count": 1,
      "metadata": {
        "id": "huaI1RVLMYF4"
      },
      "outputs": [],
      "source": [
        "# Linear algebra\n",
        "import scipy.stats as ss\n",
        "import scipy.special\n",
        "from scipy import optimize\n",
        "from mpmath import gamma\n",
        "import numpy as np\n",
        "import scipy\n",
        "from scipy.stats import norm\n",
        "from numpy import linalg as la\n",
        "from scipy import sparse\n",
        "from scipy.sparse.linalg import spsolve\n",
        "import pandas as pd\n",
        "from scipy.stats import multivariate_normal\n",
        "#Plotting\n",
        "import matplotlib.pyplot as plt\n",
        "import seaborn as sns\n",
        "sns.set()\n",
        "sns.set_style(\"whitegrid\")\n",
        "### plotting\n",
        "from matplotlib import cm\n",
        "from matplotlib.ticker import LinearLocator\n",
        "from mpl_toolkits.mplot3d import Axes3D\n",
        "import cvxpy as cp\n",
        "import time\n",
        "### Other\n",
        "import itertools\n",
        "from timeit import default_timer as timer\n",
        "from itertools import product\n",
        "from ipywidgets import interact, widgets\n",
        "import warnings\n",
        "warnings.filterwarnings(\"ignore\")"
      ]
    },
    {
      "cell_type": "code",
      "execution_count": 13,
      "metadata": {
        "id": "3sZznK2ONM9b"
      },
      "outputs": [],
      "source": [
        "def LagQUAD_fourier_GBM_call_on_min_pricer(S0, K, r, T, sigma, SIGMA, N, R):\n",
        "  \"\"\"Compute rainbow options under the GBM model using Gauss-Laguerre quadrature\n",
        "  Args:\n",
        "  - S0 (array): Initial stock prices.\n",
        "  - K (float): Strike price.\n",
        "  - r (float): Short rate.\n",
        "  - T (float): Terminal time.\n",
        "  - sigma (array): Array of standard deviations of each stock.\n",
        "  - SIGMA (array): Covariance matrix.\n",
        "  - N (int): Number of points per dimension for Laguerre quadrature.\n",
        "  - R (array): Array of damping parameters.\n",
        "  Returns:\n",
        "  - V (float): Option price estimate\n",
        "  \"\"\"\n",
        "  d = len(S0)  # Number of stocks\n",
        "  [u, w] = np.polynomial.laguerre.laggauss(N)  # Laguerre quadrature nodes and weights\n",
        "  u_1d = [u for i in range(d)]  # Array of 1-D abcissas for all directions\n",
        "  w_1d = [w for i in range(d)]  # Array of 1-D weights for all directions\n",
        "  u_ft = list(product(*u_1d))  # Full Tensor Isotropic Grid of abcissas\n",
        "  w_ft = list(product(*w_1d))  # Full Tensor Isotropic Grid of weights\n",
        "  X0 = np.log(np.divide(S0, K))  # Logarithm of the ratio of initial stock prices to strike prices\n",
        "  discount = K * ((2*np.pi)**(-d)) * np.exp(-r*T) * np.exp(-np.dot(R, X0))  # Modified discount factor\n",
        "  V = complex(0)  # Initialization of option price contract value\n",
        "  for i in range(len(u_ft)):  # For all grid points\n",
        "    u_list = laguerre_combinations(u_ft[i])  # Get combinations of Laguerre terms\n",
        "    y_list = u_list + 1j * R\n",
        "    phi_list = np.zeros(len(u_list), dtype=complex)  # List of characteristic function evaluations\n",
        "    p_list = np.zeros(len(u_list), dtype=complex)  # List of payoff function evaluations\n",
        "    g_list = np.zeros(len(u_list), dtype=complex)  # List of integrands resulting from change of variables\n",
        "    for k in range(len(u_list)):  # For all possible combinations within 1 grid point\n",
        "      phi_list[k] = GBM_characteristic_function(y_list[k], sigma, SIGMA, T, r)\n",
        "      p_list[k] = fourier_payoff_call_on_min(y_list[k])\n",
        "      g_list[k] = np.exp(np.multiply(1j, np.dot(u_list[k], X0))) * phi_list[k] * p_list[k]\n",
        "    g = np.sum(g_list)\n",
        "    V = V + discount * np.exp(np.sum(u_ft[i])) * np.prod(w_ft[i]) * g\n",
        "  return np.real(V)  # Real Part of the integral\n",
        "\n",
        "def LagQUAD_fourier_GBM_basket_put_pricer(S0, K, r, T, sigma, SIGMA, N, R):\n",
        "  \"\"\"Compute baskeyt put option under the GBM model using Gauss-Laguerre quadrature\n",
        "  Args:\n",
        "  - S0 (array): Initial stock prices.\n",
        "  - K (float): Strike price.\n",
        "  - r (float): Short rate.\n",
        "  - T (float): Terminal time.\n",
        "  - sigma (array): Array of standard deviations of each stock.\n",
        "  - SIGMA (array): Covariance matrix.\n",
        "  - N (int): Number of points per dimension for Laguerre quadrature.\n",
        "  - R (array): Array of damping parameters.\n",
        "  Returns:\n",
        "  - V (float): Option price estimate\n",
        "  \"\"\"\n",
        "  d = len(S0)  # Number of stocks\n",
        "  [u, w] = np.polynomial.laguerre.laggauss(N)  # Laguerre quadrature nodes and weights\n",
        "  u_1d = [u for i in range(d)]  # Array of 1-D abcissas for all directions\n",
        "  w_1d = [w for i in range(d)]  # Array of 1-D weights for all directions\n",
        "  u_ft = list(product(*u_1d))  # Full Tensor Isotropic Grid of abcissas\n",
        "  w_ft = list(product(*w_1d))  # Full Tensor Isotropic Grid of weights\n",
        "  X0 = np.log(np.divide(S0, d*K))  # Logarithm of the ratio of initial stock prices to strike prices\n",
        "  discount = K * ((2*np.pi)**(-d)) * np.exp(-r*T) * np.exp(-np.dot(R, X0))  # Modified discount factor\n",
        "  V = complex(0)  # Initialization of option price contract value\n",
        "  for i in range(len(u_ft)):  # For all grid points\n",
        "    u_list = laguerre_combinations(u_ft[i])  # Get combinations of Laguerre terms\n",
        "    y_list = u_list + 1j * R\n",
        "    phi_list = np.zeros(len(u_list), dtype=complex)  # array of characteristic function evaluations\n",
        "    p_list = np.zeros(len(u_list), dtype=complex)  # array of payoff function evaluations\n",
        "    g_list = np.zeros(len(u_list), dtype=complex)  # array of integrands resulting from the change of variables\n",
        "    for k in range(len(u_list)):  # For all possible combinations within 1 grid point\n",
        "      phi_list[k] = GBM_characteristic_function(y_list[k], sigma, SIGMA, T, r)\n",
        "      p_list[k] = fourier_payoff_basket_put(y_list[k])\n",
        "      g_list[k] = np.exp(np.multiply(1j, np.dot(u_list[k], X0))) * phi_list[k] * p_list[k]\n",
        "    g = np.sum(g_list)\n",
        "    V = V + discount * np.exp(np.sum(u_ft[i])) * np.prod(w_ft[i]) * g\n",
        "  return np.real(V)  # Reial Part of the integral\n",
        "\n",
        "def HermQUAD_fourier_GBM_call_on_min_pricer(S0, K, r, T, sigma, SIGMA, N, R):\n",
        "  \"\"\"Compute call on min options under the GBM model using Gauss-Hermite quadrature\n",
        "  Args:\n",
        "  - S0 (array): Initial stock prices.\n",
        "  - K (float): Strike price.\n",
        "  - r (float): Short rate.\n",
        "  - T (float): Terminal time.\n",
        "  - sigma (array): Array of standard deviations of each stock.\n",
        "  - SIGMA (array): Covariance matrix.\n",
        "  - N (int): Number of points per dimension for Hermite quadrature.\n",
        "  - R (array): Array of damping parameters.\n",
        "\n",
        "  Returns:\n",
        "  - V (float): Real part of the integral.\n",
        "  \"\"\"\n",
        "  d = len(S0)  # Number of stocks\n",
        "  [u, w] = np.polynomial.hermite.hermgauss(N)  # Hermite quadrature nodes and weights\n",
        "  u_1d = [u for i in range(d)]  # Array of 1-D abcissas for all directions\n",
        "  w_1d = [w for i in range(d)]  # Array of 1-D weights for all directions\n",
        "  u_ft = np.asarray(list(product(*u_1d)))  # Full Tensor Isotropic Grid of abcissas\n",
        "  w_ft = np.asarray(list(product(*w_1d)))  # Full Tensor Isotropic Grid of weights\n",
        "  X0 = np.log(np.divide(S0, K))  # Logarithm of the ratio of initial stock prices to strike prices\n",
        "  discount_factor = K * ((2*np.pi)**(-d)) * np.exp(-r*T) * np.exp(-R @ X0)  # Modified discount factor\n",
        "  V = complex(0)  # Initialization of option price contract value\n",
        "  for i in range(u_ft.shape[0]):  # For all grid points\n",
        "    y = u_ft[i] + 1j * R\n",
        "    phi = GBM_characteristic_function(y, sigma, SIGMA, T, r)\n",
        "    payoff = fourier_payoff_call_on_min(y)\n",
        "    V += np.exp(np.sum(u_ft[i]**2)) * np.prod(w_ft[i]) * np.exp(1j * u_ft[i] @ X0) * phi * payoff\n",
        "  return np.real(discount_factor * V)  # Real Part of the integral\n",
        "\n",
        "def HermQUAD_fourier_GBM_basket_put_pricer(S0, K, r, T, sigma, SIGMA, N, R):\n",
        "  \"\"\"Compute call on min options under the GBM model using Gauss-Hermite quadrature\n",
        "  Args:\n",
        "  - S0 (array): Initial stock prices.\n",
        "  - K (float): Strike price.\n",
        "  - r (float): Short rate.\n",
        "  - T (float): Terminal time.\n",
        "  - sigma (array): Array of standard deviations of each stock.\n",
        "  - SIGMA (array): Covariance matrix.\n",
        "  - N (int): Number of points per dimension for Hermite quadrature.\n",
        "  - R (array): Array of damping parameters.\n",
        "\n",
        "  Returns:\n",
        "  - V (float): Real part of the integral.\n",
        "  \"\"\"\n",
        "  d = len(S0)  # Number of stocks\n",
        "  [u, w] = np.polynomial.hermite.hermgauss(N)  # Hermite quadrature nodes and weights\n",
        "  u_1d = [u for i in range(d)]  # Array of 1-D abcissas for all directions\n",
        "  w_1d = [w for i in range(d)]  # Array of 1-D weights for all directions\n",
        "  u_ft = np.asarray(list(product(*u_1d)))  # Full Tensor Isotropic Grid of abcissas\n",
        "  w_ft = np.asarray(list(product(*w_1d)))  # Full Tensor Isotropic Grid of weights\n",
        "  X0 = np.log(np.divide(S0, d*K))  # Logarithm of the ratio of initial stock prices to strike prices\n",
        "  discount_factor = K * ((2*np.pi)**(-d)) * np.exp(-r*T) * np.exp(-R @ X0)  # Modified discount factor\n",
        "  V = complex(0)  # Initialization of option price contract value\n",
        "  for i in range(u_ft.shape[0]):  # For all grid points\n",
        "    y = u_ft[i] + 1j * R\n",
        "    phi = GBM_characteristic_function(y, sigma, SIGMA, T, r)\n",
        "    payoff = fourier_payoff_basket_put(y)\n",
        "    V += np.exp(np.sum(u_ft[i]**2)) * np.prod(w_ft[i]) * np.exp(1j * u_ft[i] @ X0) * phi * payoff\n",
        "  return np.real(discount_factor * V)  # Real Part of the integral\n",
        "\n",
        "def GBM_characteristic_function(u, sigma, SIGMA, T, r):\n",
        "  \"\"\"Calculate the extended characteristic function of Multivariate GBM.\n",
        "  Args:\n",
        "  - u (array): Array of Fourier frequencies.\n",
        "  - sigma (array): Array of volatilities of each stock.\n",
        "  - SIGMA (array): Covariance matrix.\n",
        "  - T (float): Time to maturity.\n",
        "  - r (float): Risk-free interest rate.\n",
        "  Returns:\n",
        "  - phi (complex): Extended characteristic function value.\n",
        "  \"\"\"\n",
        "  d = len(sigma)  # number of stocks\n",
        "  phi = np.exp(np.dot(np.multiply(1j * T, u), r * np.ones(d) - 0.5 * np.diag(SIGMA)) - 0.5 * T * np.dot(u, np.dot(SIGMA, u)))\n",
        "  return phi\n",
        "\n",
        "def covariance_matrix(sigma, rho):\n",
        "  \"\"\"Compute the covariance matrix.\n",
        "  Args:\n",
        "  - sigma (array): Array of volatilities of each stock.\n",
        "  - rho (array): Correlation matrix.\n",
        "  Returns:\n",
        "  - SIGMA (array): Covariance matrix.\n",
        "  \"\"\"\n",
        "  SIGMA = np.dot(np.diag(sigma), np.dot(rho, np.diag(sigma)))\n",
        "  return SIGMA\n",
        "\n",
        "def fourier_payoff_call_on_min(u):\n",
        "  \"\"\"Compute the Fourier of the payoff of scaled (K = 1) call on min option.\n",
        "  Args:\n",
        "  - u (array): Array of Fourier frequencies.\n",
        "  Returns:\n",
        "  - payoff (float): Call on min option payoff Fourier transofrm value.\n",
        "  \"\"\"\n",
        "  denominator = (np.multiply(1j, np.sum(u)) - 1) * np.prod(np.multiply(1j, u))\n",
        "  return 1 / denominator\n",
        "\n",
        "def fourier_payoff_basket_put(u):\n",
        "  \"\"\"Compute the Fourier of the payoff of scaled (K = 1) basket put option.\n",
        "  Args:\n",
        "  - u (array): Array of Fourier frequencies.\n",
        "  Returns:\n",
        "  - payoff (float): Call on min option payoff Fourier transofrm value.\n",
        "  \"\"\"\n",
        "  numerator = np.prod(scipy.special.gamma(np.multiply(-1j,u)))\n",
        "  denominator = scipy.special.gamma(-1j*(np.sum(u))+2)\n",
        "  return (numerator/denominator)\n",
        "\n",
        "def laguerre_combinations(u):\n",
        "  \"\"\"Generate combinations of Laguerre terms due to change of variable from (-infinity,+infinity) to (0,+infinity)\n",
        "\n",
        "  Args:\n",
        "  - u (array): Laguerre terms.\n",
        "\n",
        "  Returns:\n",
        "  - Z (array): Combinations of Laguerre terms.\n",
        "  \"\"\"\n",
        "  d = len(u)  # Dimensionality\n",
        "  aux = np.array(u) * (-1)  # Negate each element of u\n",
        "  aux = tuple(aux)  # Convert to tuple\n",
        "  L = [(u[i], aux[i]) for i in range(len(u))]  # Create pairs of (u[i], -u[i])\n",
        "  Z = list(itertools.product(*L))  # Generate all possible combinations of the pairs\n",
        "  return np.array(Z)\n",
        "\n",
        "\n",
        "def integrand_to_optimize_GBM_call_on_min(R):\n",
        "    \"\"\"Calculate the integrand of the GBM to optimize .\n",
        "    Args:\n",
        "    - R (array): Array of damping parameters.\n",
        "    Returns:\n",
        "    - integrand (float): integrand value at the origin (u = 0)\n",
        "    \"\"\"\n",
        "    d = len(S0)  # dimensionality\n",
        "    X0 = np.log(np.divide(S0, K))\n",
        "    y = np.multiply(1j, R)\n",
        "    phi = GBM_characteristic_function(y, sigma, SIGMA, T, r)  # Characteristic function\n",
        "    p = fourier_payoff_call_on_min(y)  # Fourier Transformed Payoff function\n",
        "    discount = K * ((2 * np.pi) ** (-d)) * np.exp(-r * T) * np.exp(-R @ X0)  # modified discount factor\n",
        "    integrand = discount * phi * p\n",
        "    return np.real(integrand)  # Real part of the integrand\n",
        "\n",
        "\n",
        "def integrand_to_optimize_GBM_basket_put(R):\n",
        "    \"\"\"Calculate the integrand of the GBM to optimize .\n",
        "    Args:\n",
        "    - R (array): Array of damping parameters.\n",
        "    Returns:\n",
        "    - integrand (float): integrand value at the origin (u = 0)\n",
        "    \"\"\"\n",
        "    d = len(S0)  # dimensionality\n",
        "    X0 = np.log(np.divide(S0, d*K))\n",
        "    y = np.multiply(1j, R)\n",
        "    phi = GBM_characteristic_function(y, sigma, SIGMA, T, r)  # Characteristic function\n",
        "    p = fourier_payoff_basket_put(y)  # Fourier Transformed Payoff function\n",
        "    discount = K * ((2 * np.pi) ** (-d)) * np.exp(-r * T) * np.exp(-R @ X0)  # modified discount factor\n",
        "    integrand = discount * phi * p\n",
        "    return np.real(integrand)  # Real part of the integrand"
      ]
    },
    {
      "cell_type": "markdown",
      "metadata": {
        "id": "gNhlp_F7PFas"
      },
      "source": [
        "# Call on min"
      ]
    },
    {
      "cell_type": "markdown",
      "metadata": {
        "id": "fSAFTyq6PK0S"
      },
      "source": [
        "## Computing the damping parameters using the rule proposed in [link to the paper](https://arxiv.org/pdf/2203.08196.pdf)"
      ]
    },
    {
      "cell_type": "code",
      "execution_count": 8,
      "metadata": {
        "colab": {
          "base_uri": "https://localhost:8080/"
        },
        "id": "ebcqGnv8PHdq",
        "outputId": "891f7c9f-e99f-4cee-e763-737b716ce309"
      },
      "outputs": [
        {
          "name": "stdout",
          "output_type": "stream",
          "text": [
            "Optimal damping parameters: [-6.07088613 -6.07088612 -6.07088607]\n"
          ]
        }
      ],
      "source": [
        "# Model and payoff parameters\n",
        "K = 100 # strike price\n",
        "r = 0 # risk-free interest rate\n",
        "T = 1 # maturity date\n",
        "dimension = 3 # number of underlying assets\n",
        "S0 = 100 * np.ones(dimension) # vector of spot prices\n",
        "sigma = 0.2 * np.ones(dimension) # vector of volatilities\n",
        "rho = np.identity(dimension) # correlation matrix\n",
        "SIGMA = covariance_matrix(sigma,rho) # covariance matrix\n",
        "\n",
        "############### Setting for the optimal damping parameters #############\n",
        "# Constraints related to the strip of regularity of the payoff transform\n",
        "def rainbow_constraint_1(R):\n",
        "  return -1*R\n",
        "def rainbow_constraint_2(R):\n",
        "  return -1 - np.sum(R)\n",
        "cons = ( {'type': 'ineq', 'fun': rainbow_constraint_1},\n",
        "        {'type': 'ineq', 'fun': rainbow_constraint_2},)\n",
        "# Characteristic function of GBM is an entire function hence there are no related constraints to it.\n",
        "R_init = -2*np.ones(dimension) # initial parameters R needs to belong to the strip of analyticity of the integrand\n",
        "optimal_R = optimize.minimize(fun = integrand_to_optimize_GBM_call_on_min, constraints = cons, x0 = R_init , method = \"trust-constr\" )\n",
        "#print(optimal_R) # uncomment to see wether the optimizer converged succesfully.\n",
        "R = optimal_R.x\n",
        "print(\"Optimal damping parameters:\", R)"
      ]
    },
    {
      "cell_type": "markdown",
      "metadata": {
        "id": "hB_pNd-tP9TP"
      },
      "source": [
        "## Pricing using Tensor Product Gauss-Laguerre quadrature in the Fourier space"
      ]
    },
    {
      "cell_type": "code",
      "execution_count": 11,
      "metadata": {
        "colab": {
          "base_uri": "https://localhost:8080/"
        },
        "id": "jijd9uR4QC2v",
        "outputId": "1f877368-0079-4bbe-c1d0-6beb7a7c8b02"
      },
      "outputs": [
        {
          "name": "stdout",
          "output_type": "stream",
          "text": [
            "LagQUAD estimate = 0.6511\n"
          ]
        }
      ],
      "source": [
        "############### Model and payoff parameters ###############\n",
        "K = 100 # strike price\n",
        "r = 0 # risk-free interest rate\n",
        "T = 1 # maturity date\n",
        "dimension = 3 # number of underlying assets\n",
        "S0 = 100 * np.ones(dimension) # vector of spot prices\n",
        "sigma = 0.2 * np.ones(dimension) # vector of volatilities\n",
        "rho = np.identity(dimension) # correlation matrix\n",
        "SIGMA = covariance_matrix(sigma,rho) # covariance matrix\n",
        "\n",
        "############### QMC parameters ###############\n",
        "N = 2**3 # number of Gauss-Laguerre quadrature points per dimension.\n",
        "R_init = -2*np.ones(dimension) # initial parameters R needs to belong to the strip of analyticity of the integrand\n",
        "optimal_R = optimize.minimize(fun = integrand_to_optimize_GBM_call_on_min, constraints = cons, x0 = R_init , method = \"trust-constr\" )\n",
        "R = optimal_R.x\n",
        "LagQUAD_estimate = LagQUAD_fourier_GBM_call_on_min_pricer(S0, K, r, T, sigma, SIGMA, N, R)\n",
        "print(\"LagQUAD estimate =\", round(LagQUAD_estimate,5) )"
      ]
    },
    {
      "cell_type": "markdown",
      "metadata": {
        "id": "DIOyYp2iQcx2"
      },
      "source": [
        "# Basket Put"
      ]
    },
    {
      "cell_type": "markdown",
      "metadata": {
        "id": "182OWHxdQjrp"
      },
      "source": [
        "## Computing the damping parameters using the rule proposed in [link to the paper](https://arxiv.org/pdf/2203.08196.pdf)"
      ]
    },
    {
      "cell_type": "code",
      "execution_count": 15,
      "metadata": {
        "colab": {
          "base_uri": "https://localhost:8080/"
        },
        "id": "XyBfBEQmQfTC",
        "outputId": "12f6ad52-e49d-411e-9be9-8adfc18ef2f3"
      },
      "outputs": [
        {
          "name": "stdout",
          "output_type": "stream",
          "text": [
            "Optimal damping parameters: [4.57832758 4.57832758 4.57832759]\n"
          ]
        }
      ],
      "source": [
        " # Model and payoff parameters\n",
        "K = 100 # strike price\n",
        "r = 0 # risk-free interest rate\n",
        "T = 1 # maturity date\n",
        "dimension = 3 # number of underlying assets\n",
        "S0 = 100 * np.ones(dimension) # vector of spot prices\n",
        "sigma = 0.2 * np.ones(dimension) # vector of volatilities\n",
        "rho = np.identity(dimension) # correlation matrix\n",
        "SIGMA = covariance_matrix(sigma,rho) # covariance matrix\n",
        "\n",
        "############### Setting for the optimal damping parameters #############\n",
        "# Constraints related to the strip of regularity of the payoff transform\n",
        "def basket_put_constraint(R):\n",
        "    return R\n",
        "cons = ( {'type': 'ineq', 'fun': basket_put_constraint},)\n",
        "# Characteristic function of GBM is an entire function hence there are no related constraints to it.\n",
        "R_init = 1*np.ones(dimension) # initial parameters R needs to belong to the strip of analyticity of the integrand\n",
        "optimal_R = optimize.minimize(fun = integrand_to_optimize_GBM_basket_put, constraints = cons, x0 = R_init , method = \"trust-constr\" )\n",
        "#print(optimal_R) # uncomment to see wether the optimizer converged succesfully.\n",
        "R = optimal_R.x\n",
        "print(\"Optimal damping parameters:\", R)"
      ]
    },
    {
      "cell_type": "code",
      "execution_count": 17,
      "metadata": {
        "colab": {
          "base_uri": "https://localhost:8080/"
        },
        "id": "rVNU9VO_Qm-x",
        "outputId": "8505c8b3-ba60-441c-9dfd-310540ca18f1"
      },
      "outputs": [
        {
          "name": "stdout",
          "output_type": "stream",
          "text": [
            "LagQUAD estimate = 4.63453\n"
          ]
        }
      ],
      "source": [
        "############### Model and payoff parameters ###############\n",
        "K = 100 # strike price\n",
        "r = 0 # risk-free interest rate\n",
        "T = 1 # maturity date\n",
        "dimension = 3 # number of underlying assets\n",
        "S0 = 100 * np.ones(dimension) # vector of spot prices\n",
        "sigma = 0.2 * np.ones(dimension) # vector of volatilities\n",
        "rho = np.identity(dimension) # correlation matrix\n",
        "SIGMA = covariance_matrix(sigma,rho) # covariance matrix\n",
        "\n",
        "############### QMC parameters ###############\n",
        "N = 2**3 # number of Gauss-Laguerre quadrature points per dimension.\n",
        "R_init = 1*np.ones(dimension) # initial parameters R needs to belong to the strip of analyticity of the integrand\n",
        "optimal_R = optimize.minimize(fun = integrand_to_optimize_GBM_basket_put, constraints = cons, x0 = R_init , method = \"trust-constr\" )\n",
        "R = optimal_R.x\n",
        "LagQUAD_estimate = LagQUAD_fourier_GBM_basket_put_pricer(S0, K, r, T, sigma, SIGMA, N, R)\n",
        "print(\"LagQUAD estimate =\", round(LagQUAD_estimate,5) )"
      ]
    },
    {
      "cell_type": "markdown",
      "metadata": {
        "id": "TRGEx5QhSLIU"
      },
      "source": [
        "# 1D multi-strike vectorized implementations (Caching)"
      ]
    },
    {
      "cell_type": "code",
      "execution_count": 30,
      "metadata": {
        "id": "NqV30HduSMNg"
      },
      "outputs": [],
      "source": [
        "def multistrike_LagQUAD_fourier_GBM_vanilla_call_pricer(S0,K,r,T,sigma,SIGMA,N,R):\n",
        "  # vectorized implementation of the pricer for Vanilla calls.\n",
        "  K = np.array(K).reshape([len(K),1]) # list of strikes\n",
        "  d = 1\n",
        "  [u,w] = np.polynomial.laguerre.laggauss(N) #Laguerre quadrature nodes and weights.\n",
        "  u_1d=[u for i in range(d)] #array of 1-D abcissas for all directions\n",
        "  w_1d=[w for i in range(d)] #array of 1-D weights for all directions\n",
        "  u = np.asarray(list(product(*u_1d))) # Full Tensor Isotropic Grid of abcissas\n",
        "  w = np.asarray(list(product(*w_1d))) #Full Tensor Isotropic Grid of weights\n",
        "  X0 = np.log(np.divide(S0,d*K)) #element-wise division X_0 is logarithm of stock price at initial time\n",
        "  phi_list = np.zeros(N, dtype = complex) #List of characteristic function evaluations\n",
        "  p_list = np.zeros(N, dtype = complex) #List of payoff function evaluations\n",
        "  w_prod_list = np.zeros(N, dtype = float)\n",
        "  reciprocal_weight_function = np.zeros(N, dtype = float)\n",
        "  phi_values = np.array(list(map(lambda u: GBM_characteristic_function(u + 1j * R, sigma, SIGMA, T, r), u) ) )\n",
        "  p_values = np.array(list(map(fourier_payoff_call_on_min, u+1j*R)))\n",
        "  w_prod_values = np.prod(w,axis = 1)\n",
        "  reciprocal_weight_function = np.exp(np.sum(u,axis = 1 ))\n",
        "  temp = p_values * phi_values * w_prod_values * reciprocal_weight_function\n",
        "  mat = np.exp(1j * np.outer(X0,u))\n",
        "  K_factor = (2*np.pi)**(-d) * np.exp(-r*T) * K * np.exp(-R*X0)\n",
        "  V = 2 * K_factor.reshape(K.shape[0],)  * np.real( mat @ temp ) # The factor 2 comes from evenness of the integrand\n",
        "  return V"
      ]
    },
    {
      "cell_type": "code",
      "execution_count": 31,
      "metadata": {
        "colab": {
          "base_uri": "https://localhost:8080/"
        },
        "id": "g4ppXDduUTi2",
        "outputId": "de1f1dc2-ea00-4031-d6b1-f80534237a47"
      },
      "outputs": [
        {
          "name": "stdout",
          "output_type": "stream",
          "text": [
            "LagQUAD estimates = [ 1.18592931  1.35274689  1.53602154  1.73651592  1.95494817  2.19198648\n",
            "  2.44824428  2.72427613  3.02057426  3.33756594  3.67561151  4.03500319\n",
            "  4.41596456  4.81865075  5.24314922  5.68948118  6.1576035   6.64741114\n",
            "  7.15873997  7.69136996  8.24502866  8.81939492  9.4141028  10.0287456\n",
            " 10.66287995 11.31602994 11.98769124 12.67733517 13.38441263 14.10835802\n",
            " 14.84859287 15.60452946 16.37557417 17.16113065 17.96060281 18.77339762\n",
            " 19.59892761 20.43661331 21.28588532 22.14618627]\n"
          ]
        }
      ],
      "source": [
        "############### Model and payoff parameters ###############\n",
        "K_grid = list(np.linspace(80,120,40)) # strike prices grid\n",
        "r = 0 # risk-free interest rate\n",
        "T = 1 # maturity date\n",
        "dimension = 1 # number of underlying assets\n",
        "S0 = 100 * np.ones(dimension) # vector of spot prices\n",
        "sigma = 0.2 * np.ones(dimension) # vector of volatilities\n",
        "rho = np.identity(dimension) # correlation matrix\n",
        "SIGMA = covariance_matrix(sigma,rho) # covariance matrix\n",
        "\n",
        "############### QMC parameters ###############\n",
        "N = 2**3 # number of Gauss-Laguerre quadrature points per dimension.\n",
        "R_init = 1*np.ones(dimension) # initial parameters R needs to belong to the strip of analyticity of the integrand\n",
        "K = np.median(K_grid)\n",
        "optimal_R = optimize.minimize(fun = integrand_to_optimize_GBM_basket_put, constraints = cons, x0 = R_init , method = \"trust-constr\" )\n",
        "R = optimal_R.x\n",
        "LagQUAD_estimates = multistrike_LagQUAD_fourier_GBM_vanilla_call_pricer(S0,K_grid,r,T,sigma,SIGMA,N,R)\n",
        "print(\"LagQUAD estimates =\", LagQUAD_estimates )"
      ]
    },
    {
      "cell_type": "markdown",
      "metadata": {
        "id": "d84eWSNXWZZL"
      },
      "source": [
        "# Multidimensional multistrike vectorized implementation (caching)"
      ]
    },
    {
      "cell_type": "code",
      "execution_count": 35,
      "metadata": {
        "id": "mjz-BJcBWeLl"
      },
      "outputs": [],
      "source": [
        "def phase_factor(u,X0):\n",
        "  return np.exp(1j * u @ X0.T )\n",
        "\n",
        "def multistrike_LagQUAD_fourier_GBM_call_on_min_pricer(S0,K,r,T,sigma,SIGMA,N,R):\n",
        "  d=len(S0) #number of underlying stocks / dimensionality of the problem\n",
        "  K = np.array(K).reshape([len(K),1]) # list of strikes to be valued simulatenously\n",
        "  k = K.shape[0] # number of strikes to be valued\n",
        "  [u,w] = np.polynomial.laguerre.laggauss(N) #returns Laguerre quadrature nodes and weights.\n",
        "  u_1d=[u for i in range(d)] # Nxd array of 1D abcissas\n",
        "  w_1d=[w for i in range(d)] # Nxd array of 1D weights\n",
        "  u = np.asarray(list(product(*u_1d))) # N^d x d: array of N^d d-dimensional points\n",
        "  w = np.asarray(list(product(*w_1d))) # N^d x d: array of N^d d-dimensional weights\n",
        "  u_laguerre_scaling = np.repeat(a = u, repeats = 2**d ,axis = 0) # Repeats each element of the array 2**d times before moving to next element\n",
        "  w = np.repeat(a = w, repeats = 2**d ,axis = 0) # Repeats each element of the array 2**d times before moving to next element\n",
        "  u = np.vstack(np.array(list(map(laguerre_combinations, u)))) # creates all possible combinations of multiplying by -1.\n",
        "  X0 = np.log(np.divide(S0,K)) #element-wise division X_0 is logarithm of stock price at initial time - Division by d is intrinsic to basket option for equally weighted average\n",
        "  phi_values = np.array(list(map(lambda u: GBM_characteristic_function(u + 1j * R, sigma, SIGMA, T, r), u)), dtype = complex) # characteristic function evaluations\n",
        "  p_values = np.array(list(map(fourier_payoff_call_on_min, u+1j*R)), dtype = complex) # payoff transform evaluations\n",
        "  w_prod_values = np.prod(w,axis = 1) # contains product of weights for each multi-index\n",
        "  reciprocal_weight_function = np.exp(np.sum(u_laguerre_scaling,axis = 1 ))  # contains the inverse of the weight function applied to use Gauss-Laguerre.\n",
        "  temp =  p_values * phi_values * w_prod_values * reciprocal_weight_function\n",
        "  mat = np.array(list(map(lambda u: phase_factor(u,X0), u)))\n",
        "  K_factor = (2*np.pi)**(-d) * np.exp(-r*T) * K *  np.exp(-1*np.einsum(\"ij,ij->i\", np.tile(R,(k,1)), X0)).reshape(k,1) # Einstein sumation allows for dot product row-by-row between two matrices. Tiling repeats the vector k times, axis = 1 is to make sure we copy rows.\n",
        "  V = K_factor  * np.real(np.einsum(\"ij,ij->i\", mat.T, np.tile(temp,(k,1)))).reshape(k,1)\n",
        "  return V"
      ]
    },
    {
      "cell_type": "code",
      "execution_count": null,
      "metadata": {
        "id": "iUlAHJEwXhvl"
      },
      "outputs": [],
      "source": []
    },
    {
      "cell_type": "code",
      "execution_count": 37,
      "metadata": {
        "colab": {
          "base_uri": "https://localhost:8080/"
        },
        "id": "Gx1gqEazXGwW",
        "outputId": "30b06944-ddec-482c-d25f-e29678daf0d8"
      },
      "outputs": [
        {
          "name": "stdout",
          "output_type": "stream",
          "text": [
            "LagQUAD estimates = [[0.01132429]\n",
            " [0.01574754]\n",
            " [0.02161207]\n",
            " [0.02928836]\n",
            " [0.03921311]\n",
            " [0.05189419]\n",
            " [0.06791443]\n",
            " [0.08793412]\n",
            " [0.11269201]\n",
            " [0.14300453]\n",
            " [0.17976319]\n",
            " [0.22393012]\n",
            " [0.27653171]\n",
            " [0.33865038]\n",
            " [0.41141486]\n",
            " [0.49598885]\n",
            " [0.59355868]\n",
            " [0.70531996]\n",
            " [0.83246379]\n",
            " [0.97616272]\n",
            " [1.13755688]\n",
            " [1.31774054]\n",
            " [1.51774948]\n",
            " [1.73854942]\n",
            " [1.98102561]\n",
            " [2.24597403]\n",
            " [2.53409397]\n",
            " [2.84598244]\n",
            " [3.1821301 ]\n",
            " [3.54291905]\n",
            " [3.928622  ]\n",
            " [4.33940319]\n",
            " [4.77532059]\n",
            " [5.23632938]\n",
            " [5.72228658]\n",
            " [6.23295666]\n",
            " [6.76801779]\n",
            " [7.32706889]\n",
            " [7.90963699]\n",
            " [8.51518494]]\n"
          ]
        }
      ],
      "source": [
        "############### Model and payoff parameters ###############\n",
        "K_grid = list(np.linspace(80,120,40)) # strike prices grid\n",
        "r = 0 # risk-free interest rate\n",
        "T = 1 # maturity date\n",
        "dimension = 3 # number of underlying assets\n",
        "S0 = 100 * np.ones(dimension) # vector of spot prices\n",
        "sigma = 0.2 * np.ones(dimension) # vector of volatilities\n",
        "rho = np.identity(dimension) # correlation matrix\n",
        "SIGMA = covariance_matrix(sigma,rho) # covariance matrix\n",
        "\n",
        "############### QMC parameters ###############\n",
        "N = 2**3 # number of Gauss-Laguerre quadrature points per dimension.\n",
        "R_init = 1*np.ones(dimension) # initial parameters R needs to belong to the strip of analyticity of the integrand\n",
        "K = np.median(K_grid)\n",
        "optimal_R = optimize.minimize(fun = integrand_to_optimize_GBM_basket_put, constraints = cons, x0 = R_init , method = \"trust-constr\" )\n",
        "R = optimal_R.x\n",
        "LagQUAD_estimates = multistrike_LagQUAD_fourier_GBM_call_on_min_pricer(S0,K_grid,r,T,sigma,SIGMA,N,R)\n",
        "print(\"LagQUAD estimates =\", LagQUAD_estimates )"
      ]
    }
  ],
  "metadata": {
    "colab": {
      "provenance": []
    },
    "kernelspec": {
      "display_name": "Python 3",
      "name": "python3"
    },
    "language_info": {
      "name": "python"
    }
  },
  "nbformat": 4,
  "nbformat_minor": 0
}
