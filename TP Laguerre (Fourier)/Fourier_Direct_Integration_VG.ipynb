{
  "nbformat": 4,
  "nbformat_minor": 0,
  "metadata": {
    "colab": {
      "provenance": []
    },
    "kernelspec": {
      "name": "python3",
      "display_name": "Python 3"
    },
    "language_info": {
      "name": "python"
    }
  },
  "cells": [
    {
      "cell_type": "code",
      "execution_count": 4,
      "metadata": {
        "id": "Mob4Pu3cZgRJ"
      },
      "outputs": [],
      "source": [
        "# Linear algebra\n",
        "import scipy.stats as ss\n",
        "import scipy.special\n",
        "from scipy import optimize\n",
        "from mpmath import gamma\n",
        "import numpy as np\n",
        "import scipy\n",
        "from scipy.stats import norm\n",
        "from numpy import linalg as la\n",
        "from scipy import sparse\n",
        "from scipy.sparse.linalg import spsolve\n",
        "import pandas as pd\n",
        "from scipy.stats import multivariate_normal\n",
        "#Plotting\n",
        "import matplotlib.pyplot as plt\n",
        "import seaborn as sns\n",
        "sns.set()\n",
        "sns.set_style(\"whitegrid\")\n",
        "### plotting\n",
        "from matplotlib import cm\n",
        "from matplotlib.ticker import LinearLocator\n",
        "from mpl_toolkits.mplot3d import Axes3D\n",
        "import cvxpy as cp\n",
        "import time\n",
        "### Other\n",
        "import itertools\n",
        "from timeit import default_timer as timer\n",
        "from itertools import product\n",
        "from ipywidgets import interact, widgets\n",
        "import warnings\n",
        "warnings.filterwarnings(\"ignore\")"
      ]
    },
    {
      "cell_type": "code",
      "source": [
        "def LagQUAD_fourier_VG_call_on_min_pricer(S0,K,r,T,sigma,rho,theta,nu,SIGMA,N,R):\n",
        "  \"\"\"Compute rainbow options under the VG model using Gauss-Laguerre quadrature\n",
        "  Args:\n",
        "  - S0 (array): Initial stock prices.\n",
        "  - K (float): Strike price.\n",
        "  - r (float): Short rate.\n",
        "  - T (float): Terminal time.\n",
        "  - sigma (array): Array of standard deviations of each stock.\n",
        "  - theta (array): Array of skewness parameters of each stock.\n",
        "  - nu (float): controls the kurtosis of the distribution of log-returns\n",
        "  - SIGMA (array): Covariance matrix.\n",
        "  - N (int): Number of points per dimension for Laguerre quadrature.\n",
        "  - R (array): Array of damping parameters.\n",
        "  Returns:\n",
        "  - V (float): Option price estimate\n",
        "  \"\"\"\n",
        "  d = len(S0)  # Number of stocks\n",
        "  [u, w] = np.polynomial.laguerre.laggauss(N)  # Laguerre quadrature nodes and weights\n",
        "  u_1d = [u for i in range(d)]  # Array of 1-D abcissas for all directions\n",
        "  w_1d = [w for i in range(d)]  # Array of 1-D weights for all directions\n",
        "  u_ft = list(product(*u_1d))  # Full Tensor Isotropic Grid of abcissas\n",
        "  w_ft = list(product(*w_1d))  # Full Tensor Isotropic Grid of weights\n",
        "  X0 = np.log(np.divide(S0, K))  # Logarithm of the ratio of initial stock prices to strike prices\n",
        "  discount = K * ((2*np.pi)**(-d)) * np.exp(-r*T) * np.exp(-np.dot(R, X0))  # Modified discount factor\n",
        "  V = complex(0)  # Initialization of option price contract value\n",
        "  for i in range(len(u_ft)):  # For all grid points\n",
        "    u_list = laguerre_combinations(u_ft[i])  # Get combinations of Laguerre terms\n",
        "    y_list = u_list + 1j * R\n",
        "    phi_list = np.zeros(len(u_list), dtype=complex)  # List of characteristic function evaluations\n",
        "    p_list = np.zeros(len(u_list), dtype=complex)  # List of payoff function evaluations\n",
        "    g_list = np.zeros(len(u_list), dtype=complex)  # List of integrands resulting from change of variables\n",
        "    for k in range(len(u_list)):  # For all possible combinations within 1 grid point\n",
        "      phi_list[k] = VG_characteristic_function(y_list[k], SIGMA, T, r, theta, nu)\n",
        "      p_list[k] = fourier_payoff_call_on_min(y_list[k])\n",
        "      g_list[k] = np.exp(np.multiply(1j, np.dot(u_list[k], X0))) * phi_list[k] * p_list[k]\n",
        "    g = np.sum(g_list)\n",
        "    V = V + discount * np.exp(np.sum(u_ft[i])) * np.prod(w_ft[i]) * g\n",
        "  return np.real(V)  # Real Part of the integral\n",
        "\n",
        "def LagQUAD_fourier_VG_basket_put_pricer(S0,K,r,T,sigma,rho,theta,nu,SIGMA,N,R):\n",
        "  \"\"\"Compute rainbow options under the VG model using Gauss-Laguerre quadrature\n",
        "  Args:\n",
        "  - S0 (array): Initial stock prices.\n",
        "  - K (float): Strike price.\n",
        "  - r (float): Short rate.\n",
        "  - T (float): Terminal time.\n",
        "  - sigma (array): Array of standard deviations of each stock.\n",
        "  - theta (array): Array of skewness parameters of each stock.\n",
        "  - nu (float): controls the kurtosis of the distribution of log-returns\n",
        "  - SIGMA (array): Covariance matrix.\n",
        "  - N (int): Number of points per dimension for Laguerre quadrature.\n",
        "  - R (array): Array of damping parameters.\n",
        "  Returns:\n",
        "  - V (float): Option price estimate\n",
        "  \"\"\"\n",
        "  d = len(S0)  # Number of stocks\n",
        "  [u, w] = np.polynomial.laguerre.laggauss(N)  # Laguerre quadrature nodes and weights\n",
        "  u_1d = [u for i in range(d)]  # Array of 1-D abcissas for all directions\n",
        "  w_1d = [w for i in range(d)]  # Array of 1-D weights for all directions\n",
        "  u_ft = list(product(*u_1d))  # Full Tensor Isotropic Grid of abcissas\n",
        "  w_ft = list(product(*w_1d))  # Full Tensor Isotropic Grid of weights\n",
        "  X0 = np.log(np.divide(S0, d*K))  # Logarithm of the ratio of initial stock prices to strike prices\n",
        "  discount = K * ((2*np.pi)**(-d)) * np.exp(-r*T) * np.exp(-np.dot(R, X0))  # Modified discount factor\n",
        "  V = complex(0)  # Initialization of option price contract value\n",
        "  for i in range(len(u_ft)):  # For all grid points\n",
        "    u_list = laguerre_combinations(u_ft[i])  # Get combinations of Laguerre terms\n",
        "    y_list = u_list + 1j * R\n",
        "    phi_list = np.zeros(len(u_list), dtype=complex)  # array of characteristic function evaluations\n",
        "    p_list = np.zeros(len(u_list), dtype=complex)  # array of payoff function evaluations\n",
        "    g_list = np.zeros(len(u_list), dtype=complex)  # array of integrands resulting from the change of variables\n",
        "    for k in range(len(u_list)):  # For all possible combinations within 1 grid point\n",
        "      phi_list[k] = VG_characteristic_function(y_list[k], SIGMA, T, r, theta, nu)\n",
        "      p_list[k] = fourier_payoff_basket_put(y_list[k])\n",
        "      g_list[k] = np.exp(np.multiply(1j, np.dot(u_list[k], X0))) * phi_list[k] * p_list[k]\n",
        "    g = np.sum(g_list)\n",
        "    V = V + discount * np.exp(np.sum(u_ft[i])) * np.prod(w_ft[i]) * g\n",
        "  return np.real(V)  # Real Part of the integral\n",
        "\n",
        "def HermQUAD_fourier_VG_call_on_min_pricer(S0,K,r,T,sigma,rho,theta,nu,SIGMA,N,R):\n",
        "  \"\"\"Compute rainbow options under the VG model using Gauss-Laguerre quadrature\n",
        "  Args:\n",
        "  - S0 (array): Initial stock prices.\n",
        "  - K (float): Strike price.\n",
        "  - r (float): Short rate.\n",
        "  - T (float): Terminal time.\n",
        "  - sigma (array): Array of standard deviations of each stock.\n",
        "  - theta (array): Array of skewness parameters of each stock.\n",
        "  - nu (float): controls the kurtosis of the distribution of log-returns\n",
        "  - SIGMA (array): Covariance matrix.\n",
        "  - N (int): Number of points per dimension for Laguerre quadrature.\n",
        "  - R (array): Array of damping parameters.\n",
        "  Returns:\n",
        "  - V (float): Option price estimate\n",
        "  \"\"\"\n",
        "  d = len(S0)  # Number of stocks\n",
        "  [u, w] = np.polynomial.hermite.hermgauss(N)  # Hermite quadrature nodes and weights\n",
        "  u_1d = [u for i in range(d)]  # Array of 1-D abcissas for all directions\n",
        "  w_1d = [w for i in range(d)]  # Array of 1-D weights for all directions\n",
        "  u_ft = np.asarray(list(product(*u_1d)))  # Full Tensor Isotropic Grid of abcissas\n",
        "  w_ft = np.asarray(list(product(*w_1d)))  # Full Tensor Isotropic Grid of weights\n",
        "  X0 = np.log(np.divide(S0, K))  # Logarithm of the ratio of initial stock prices to strike prices\n",
        "  discount_factor = K * ((2*np.pi)**(-d)) * np.exp(-r*T) * np.exp(-R @ X0)  # Modified discount factor\n",
        "  V = complex(0)  # Initialization of option price contract value\n",
        "  for i in range(u_ft.shape[0]):  # For all grid points\n",
        "    y = u_ft[i] + 1j * R\n",
        "    phi = VG_characteristic_function(y, SIGMA, T, r, theta, nu)\n",
        "    payoff = fourier_payoff_call_on_min(y)\n",
        "    V += np.exp(np.sum(u_ft[i]**2)) * np.prod(w_ft[i]) * np.exp(1j * u_ft[i] @ X0) * phi * payoff\n",
        "  return np.real(discount_factor * V)  # Real Part of the integral\n",
        "\n",
        "def HermQUAD_fourier_VG_basket_put_pricer(S0,K,r,T,sigma,rho,theta,nu,SIGMA,N,R):\n",
        "  \"\"\"Compute rainbow options under the VG model using Gauss-Laguerre quadrature\n",
        "  Args:\n",
        "  - S0 (array): Initial stock prices.\n",
        "  - K (float): Strike price.\n",
        "  - r (float): Short rate.\n",
        "  - T (float): Terminal time.\n",
        "  - sigma (array): Array of standard deviations of each stock.\n",
        "  - theta (array): Array of skewness parameters of each stock.\n",
        "  - nu (float): controls the kurtosis of the distribution of log-returns\n",
        "  - SIGMA (array): Covariance matrix.\n",
        "  - N (int): Number of points per dimension for Laguerre quadrature.\n",
        "  - R (array): Array of damping parameters.\n",
        "  Returns:\n",
        "  - V (float): Option price estimate\n",
        "  \"\"\"\n",
        "  d = len(S0)  # Number of stocks\n",
        "  [u, w] = np.polynomial.hermite.hermgauss(N)  # Hermite quadrature nodes and weights\n",
        "  u_1d = [u for i in range(d)]  # Array of 1-D abcissas for all directions\n",
        "  w_1d = [w for i in range(d)]  # Array of 1-D weights for all directions\n",
        "  u_ft = np.asarray(list(product(*u_1d)))  # Full Tensor Isotropic Grid of abcissas\n",
        "  w_ft = np.asarray(list(product(*w_1d)))  # Full Tensor Isotropic Grid of weights\n",
        "  X0 = np.log(np.divide(S0, d*K))  # Logarithm of the ratio of initial stock prices to strike prices\n",
        "  discount_factor = K * ((2*np.pi)**(-d)) * np.exp(-r*T) * np.exp(-R @ X0)  # Modified discount factor\n",
        "  V = complex(0)  # Initialization of option price contract value\n",
        "  for i in range(u_ft.shape[0]):  # For all grid points\n",
        "    y = u_ft[i] + 1j * R\n",
        "    phi = VG_characteristic_function(y, SIGMA, T, r, theta, nu)\n",
        "    payoff = fourier_payoff_basket_put(y)\n",
        "    V += np.exp(np.sum(u_ft[i]**2)) * np.prod(w_ft[i]) * np.exp(1j * u_ft[i] @ X0) * phi * payoff\n",
        "  return np.real(discount_factor * V)  # Real Part of the integral\n",
        "\n",
        "def covariance_matrix(sigma, rho):\n",
        "    \"\"\"Compute the covariance matrix.\n",
        "    Args:\n",
        "    - sigma (array): Array of volatilities of each stock.\n",
        "    - rho (array): Correlation matrix.\n",
        "    Returns:\n",
        "    - SIGMA (array): Covariance matrix.\n",
        "    \"\"\"\n",
        "    sigma = np.diag(sigma)  # Diagonal matrix of volatilities\n",
        "    SIGMA = np.dot(sigma, np.dot(rho, sigma))  # Covariance matrix calculation\n",
        "    return SIGMA\n",
        "\n",
        "def VG_characteristic_function(u, SIGMA, T, r, theta, nu):\n",
        "    \"\"\"Calculate the characteristic function of Variance-Gamma process.\n",
        "    Args:\n",
        "    - u (array): Vector in Rd.\n",
        "    - SIGMA (array): Covariance matrix.\n",
        "    - T (float): Terminal time.\n",
        "    - r (float): Short rate.\n",
        "    - theta (array): Array of theta values.\n",
        "    - nu (float): Nu parameter.\n",
        "    Returns:\n",
        "    - phi (complex): Characteristic function value.\n",
        "    \"\"\"\n",
        "    d = len(theta)  # Number of stocks\n",
        "    w = (1/nu) * np.log(1 - nu * theta - 0.5 * nu * np.diag(SIGMA))  # Martingale correction term\n",
        "    phi = np.exp(np.multiply(1j * T, np.dot(r + w, u))) * (1 - np.multiply(1j * nu, np.dot(theta, u)) +\n",
        "                                                           0.5 * nu * np.dot(u, np.dot(SIGMA, u))) ** (-T/nu)\n",
        "    return phi\n",
        "\n",
        "def fourier_payoff_call_on_min(u):\n",
        "    \"\"\"Compute the Fourier of the payoff of scaled (K = 1) call on min option.\n",
        "    Args:\n",
        "    - u (array): Array of Fourier frequencies.\n",
        "    Returns:\n",
        "    - payoff (float): Call on min option payoff Fourier transofrm value.\n",
        "    \"\"\"\n",
        "    denominator = (np.multiply(1j, np.sum(u)) - 1) * np.prod(np.multiply(1j, u))\n",
        "    return 1 / denominator\n",
        "\n",
        "def fourier_payoff_basket_put(u):\n",
        "  \"\"\"Compute the Fourier of the payoff of scaled (K = 1) basket put option.\n",
        "  Args:\n",
        "  - u (array): Array of Fourier frequencies.\n",
        "  Returns:\n",
        "  - payoff (float): Call on min option payoff Fourier transofrm value.\n",
        "  \"\"\"\n",
        "  numerator = np.prod(scipy.special.gamma(np.multiply(-1j,u)))\n",
        "  denominator = scipy.special.gamma(-1j*(np.sum(u))+2)\n",
        "  return (numerator/denominator)\n",
        "\n",
        "\n",
        "def integrand_to_optimize_VG_call_on_min(R):\n",
        "    \"\"\"Calculate the integrand for QMC estimation of the rainbow option under VG model.\n",
        "    Args:\n",
        "    - R (array): Array of damping parameters.\n",
        "    Returns:\n",
        "    - integrand (float): Integrand value.\n",
        "    \"\"\"\n",
        "    d = len(S0)  # Dimensionality\n",
        "    X0 = np.log(np.divide(S0, K))  # Element-wise division\n",
        "    y = np.multiply(1j, R)\n",
        "    phi = VG_characteristic_function(y, SIGMA, T, r, theta, nu)  # Characteristic function\n",
        "    p = fourier_payoff_call_on_min(y)  # Fourier Transformed Payoff function\n",
        "    discount = ((2 * np.pi) ** (-d)) * np.exp(-r * T) * np.exp(-np.dot(R, X0))  # Modified discount factor\n",
        "    integrand = K * discount * phi * p\n",
        "    return integrand\n",
        "\n",
        "def integrand_to_optimize_VG_basket_put(R):\n",
        "    \"\"\"Calculate the integrand for QMC estimation of the basket put option under VG model.\n",
        "    Args:\n",
        "    - R (array): Array of damping parameters.\n",
        "    Returns:\n",
        "    - integrand (float): Integrand value.\n",
        "    \"\"\"\n",
        "    d = len(S0)  # Dimensionality\n",
        "    X0 = np.log(np.divide(S0, d*K))  # Element-wise division\n",
        "    y = np.multiply(1j, R)\n",
        "    phi = VG_characteristic_function(y, SIGMA, T, r, theta, nu)  # Characteristic function\n",
        "    p = fourier_payoff_basket_put(y)  # Fourier Transformed Payoff function\n",
        "    discount = ((2 * np.pi) ** (-d)) * np.exp(-r * T) * np.exp(-np.dot(R, X0))  # Modified discount factor\n",
        "    integrand = K * discount * phi * p\n",
        "    return integrand\n",
        "\n",
        "def laguerre_combinations(u):\n",
        "  \"\"\"Generate combinations of Laguerre terms due to change of variable from (-infinity,+infinity) to (0,+infinity)\n",
        "\n",
        "  Args:\n",
        "  - u (array): Laguerre terms.\n",
        "\n",
        "  Returns:\n",
        "  - Z (array): Combinations of Laguerre terms.\n",
        "  \"\"\"\n",
        "  d = len(u)  # Dimensionality\n",
        "  aux = np.array(u) * (-1)  # Negate each element of u\n",
        "  aux = tuple(aux)  # Convert to tuple\n",
        "  L = [(u[i], aux[i]) for i in range(len(u))]  # Create pairs of (u[i], -u[i])\n",
        "  Z = list(itertools.product(*L))  # Generate all possible combinations of the pairs\n",
        "  return np.array(Z)"
      ],
      "metadata": {
        "id": "r1ctZe_pZyCQ"
      },
      "execution_count": 10,
      "outputs": []
    },
    {
      "cell_type": "markdown",
      "source": [
        "# Call on min options"
      ],
      "metadata": {
        "id": "J9mkx0Ixbqys"
      }
    },
    {
      "cell_type": "markdown",
      "source": [
        "## Computing the damping parameters using the rule proposed in [link to the paper](https://arxiv.org/pdf/2203.08196.pdf)"
      ],
      "metadata": {
        "id": "2vq3JXaNbz3y"
      }
    },
    {
      "cell_type": "code",
      "source": [
        "# Model and payoff parameters\n",
        "K = 100\n",
        "r = 0\n",
        "T = 1\n",
        "nu = 0.2\n",
        "dimension = 3\n",
        "S0 = 100 * np.ones(dimension)\n",
        "sigma = 0.2*np.ones(dimension)\n",
        "theta = -0.3*np.ones(dimension)\n",
        "rho = np.identity(dimension)\n",
        "SIGMA = covariance_matrix(sigma,rho)\n",
        "\n",
        "############### Setting for the optimal damping parameters #############\n",
        "# Constraints related to the strip of regularity of the payoff transform\n",
        "def call_on_min_constraint_1(R):\n",
        "    return -1 * R\n",
        "\n",
        "def call_on_min_constraint_2(R):\n",
        "    return -1 - np.sum(R)\n",
        "\n",
        "def VG_constraint(R):\n",
        "    return 1 + nu * theta @ R - 0.5 * nu * R @ SIGMA @ R\n",
        "\n",
        "cons = ( {'type': 'ineq', 'fun': VG_constraint},\n",
        "        {'type': 'ineq', 'fun': call_on_min_constraint_1},\n",
        "        {'type': 'ineq', 'fun': call_on_min_constraint_2},)\n",
        "\n",
        "# Characteristic function of GBM is an entire function hence there are no related constraints to it.\n",
        "R_init = -2*np.ones(dimension) # initial parameters R needs to belong to the strip of analyticity of the integrand\n",
        "optimal_R = optimize.minimize(fun = integrand_to_optimize_VG_call_on_min, constraints = cons, x0 = R_init , method = \"Nelder-Mead\" )\n",
        "#print(optimal_R) # uncomment to see wether the optimizer converged succesfully.\n",
        "R = optimal_R.x\n",
        "print(\"Optimal damping parameters:\", R)"
      ],
      "metadata": {
        "colab": {
          "base_uri": "https://localhost:8080/"
        },
        "id": "0ST0jk2ib1SP",
        "outputId": "542bfb17-4c06-425a-85ad-9371b77ef5bb"
      },
      "execution_count": 24,
      "outputs": [
        {
          "output_type": "stream",
          "name": "stdout",
          "text": [
            "Optimal damping parameters: [-5.83641532 -5.83637836 -5.83641692]\n"
          ]
        }
      ]
    },
    {
      "cell_type": "markdown",
      "source": [
        "## Pricing using Tensor Product Gauss-Laguerre quadrature in the Fourier space"
      ],
      "metadata": {
        "id": "vi_kloWZcEve"
      }
    },
    {
      "cell_type": "code",
      "source": [
        "############### Model and payoff parameters ###############\n",
        "K = 100\n",
        "r = 0\n",
        "T = 1\n",
        "nu = 0.2\n",
        "dimension = 3\n",
        "S0 = 100 * np.ones(dimension)\n",
        "sigma = 0.2*np.ones(dimension)\n",
        "theta = -0.3*np.ones(dimension)\n",
        "rho = np.identity(dimension)\n",
        "SIGMA = covariance_matrix(sigma,rho)\n",
        "\n",
        "############### Laguerre Quadrature parameters ###############\n",
        "N = 2**3 # number of Gauss-Laguerre quadrature nodes per dimension\n",
        "R_init = -2*np.ones(dimension) # initial parameters R needs to belong to the strip of analyticity of the integrand\n",
        "optimal_R = optimize.minimize(fun = integrand_to_optimize_VG_call_on_min, constraints = cons, x0 = R_init , method = \"Nelder-Mead\" )\n",
        "#print(optimal_R) # uncomment to see wether the optimizer converged succesfully.\n",
        "R = optimal_R.x\n",
        "LagQUAD_estimate =  LagQUAD_fourier_VG_call_on_min_pricer(S0,K,r,T,sigma,rho,theta,nu,SIGMA,N,R)\n",
        "print(\"LagQUAD estimate =\", round(LagQUAD_estimate,5)  )"
      ],
      "metadata": {
        "colab": {
          "base_uri": "https://localhost:8080/"
        },
        "id": "Xv6qQrkGc-8-",
        "outputId": "896838a0-aa77-45f5-e57b-46ffe5ce1edd"
      },
      "execution_count": 13,
      "outputs": [
        {
          "output_type": "stream",
          "name": "stdout",
          "text": [
            "LagQUAD estimate = 1.77631\n"
          ]
        }
      ]
    },
    {
      "cell_type": "markdown",
      "source": [
        "# Basket Put options"
      ],
      "metadata": {
        "id": "p_ciK25hbuXT"
      }
    },
    {
      "cell_type": "markdown",
      "source": [
        "## Computing the damping parameters using the rule proposed in [link to the paper](https://arxiv.org/pdf/2203.08196.pdf)"
      ],
      "metadata": {
        "id": "msofwf64dOQ4"
      }
    },
    {
      "cell_type": "code",
      "source": [
        "# Model and payoff parameters\n",
        "K = 100\n",
        "r = 0\n",
        "T = 1\n",
        "nu = 0.2\n",
        "dimension = 3\n",
        "S0 = 100 * np.ones(dimension)\n",
        "sigma = 0.2*np.ones(dimension)\n",
        "theta = -0.3*np.ones(dimension)\n",
        "rho = np.identity(dimension)\n",
        "SIGMA = covariance_matrix(sigma,rho)\n",
        "\n",
        "############### Setting for the optimal damping parameters #############\n",
        "# Constraints related to the strip of regularity of the payoff transform\n",
        "def basket_put_constraint(R):\n",
        "    return R\n",
        "\n",
        "def VG_constraint(R):\n",
        "    return 1 + nu * theta @ R - 0.5 * nu * R @ SIGMA @ R\n",
        "\n",
        "cons = ( {'type': 'ineq', 'fun': VG_constraint},\n",
        "      {'type': 'ineq', 'fun': basket_put_constraint},)\n",
        "\n",
        "# Characteristic function of GBM is an entire function hence there are no related constraints to it.\n",
        "R_init = 1*np.ones(dimension) # initial parameters R needs to belong to the strip of analyticity of the integrand\n",
        "optimal_R = optimize.minimize(fun = integrand_to_optimize_VG_basket_put, constraints = cons, x0 = R_init , method = \"Nelder-Mead\" )\n",
        "#print(optimal_R) # uncomment to see wether the optimizer converged succesfully.\n",
        "R = optimal_R.x\n",
        "print(\"Optimal damping parameters:\", R)"
      ],
      "metadata": {
        "colab": {
          "base_uri": "https://localhost:8080/"
        },
        "id": "ipW_tzxxdMGv",
        "outputId": "d2e4563e-27e4-42d7-bdbe-6d889e3b88ee"
      },
      "execution_count": 14,
      "outputs": [
        {
          "output_type": "stream",
          "name": "stdout",
          "text": [
            "Optimal damping parameters: [2.21940094 2.21946564 2.21941962]\n"
          ]
        }
      ]
    },
    {
      "cell_type": "code",
      "source": [
        "############### Model and payoff parameters ###############\n",
        "K = 100\n",
        "r = 0\n",
        "T = 1\n",
        "nu = 0.2\n",
        "dimension = 3\n",
        "S0 = 100 * np.ones(dimension)\n",
        "sigma = 0.2*np.ones(dimension)\n",
        "theta = -0.3*np.ones(dimension)\n",
        "rho = np.identity(dimension)\n",
        "SIGMA = covariance_matrix(sigma,rho)\n",
        "\n",
        "############### Laguerre Quadrature parameters ###############\n",
        "N = 2**3 # number of Gauss-Laguerre quadrature nodes per dimension\n",
        "R_init = 1*np.ones(dimension) # initial parameters R needs to belong to the strip of analyticity of the integrand\n",
        "optimal_R = optimize.minimize(fun = integrand_to_optimize_VG_basket_put, constraints = cons, x0 = R_init , method = \"Nelder-Mead\" )\n",
        "#print(optimal_R) # uncomment to see wether the optimizer converged succesfully.\n",
        "R = optimal_R.x\n",
        "LagQUAD_estimate =  LagQUAD_fourier_VG_basket_put_pricer(S0,K,r,T,sigma,rho,theta,nu,SIGMA,N,R)\n",
        "print(\"LagQUAD estimate =\", round(LagQUAD_estimate,5)  )"
      ],
      "metadata": {
        "colab": {
          "base_uri": "https://localhost:8080/"
        },
        "id": "N4JQP8jsdIVC",
        "outputId": "8697a1df-3bc0-4999-c7dd-0785b6402e33"
      },
      "execution_count": 16,
      "outputs": [
        {
          "output_type": "stream",
          "name": "stdout",
          "text": [
            "LagQUAD estimate = 6.55341\n"
          ]
        }
      ]
    },
    {
      "cell_type": "markdown",
      "source": [
        "# 1D multi-strike vectorized implementations (Caching)"
      ],
      "metadata": {
        "id": "Q1IpTDT_dX-S"
      }
    },
    {
      "cell_type": "code",
      "source": [
        "def multistrike_LagQUAD_fourier_VG_vanilla_call_pricer(S0,K,r,T,sigma,rho,theta,nu,SIGMA,N,R):\n",
        "  # vectorized implementation of the pricer for Vanilla calls.\n",
        "  K = np.array(K).reshape([len(K),1]) # list of strikes\n",
        "  d = 1\n",
        "  [u,w] = np.polynomial.laguerre.laggauss(N) #Laguerre quadrature nodes and weights.\n",
        "  u_1d=[u for i in range(d)] #array of 1-D abcissas for all directions\n",
        "  w_1d=[w for i in range(d)] #array of 1-D weights for all directions\n",
        "  u = np.asarray(list(product(*u_1d))) # Full Tensor Isotropic Grid of abcissas\n",
        "  w = np.asarray(list(product(*w_1d))) #Full Tensor Isotropic Grid of weights\n",
        "  X0 = np.log(np.divide(S0,K)) #element-wise division X_0 is logarithm of stock price at initial time\n",
        "  phi_list = np.zeros(N, dtype = complex) #List of characteristic function evaluations\n",
        "  p_list = np.zeros(N, dtype = complex) #List of payoff function evaluations\n",
        "  w_prod_list = np.zeros(N, dtype = float)\n",
        "  reciprocal_weight_function = np.zeros(N, dtype = float)\n",
        "  phi_values = np.array(list(map(lambda u: VG_characteristic_function(u + 1j*R, SIGMA, T, r, theta, nu), u) ) )\n",
        "  p_values = np.array(list(map(fourier_payoff_call_on_min, u+1j*R)))\n",
        "  w_prod_values = np.prod(w,axis = 1)\n",
        "  reciprocal_weight_function = np.exp(np.sum(u,axis = 1 ))\n",
        "  temp = p_values * phi_values * w_prod_values * reciprocal_weight_function\n",
        "  mat = np.exp(1j * np.outer(X0,u))\n",
        "  K_factor = (2*np.pi)**(-d) * np.exp(-r*T) * K * np.exp(-R*X0)\n",
        "  V = 2 * K_factor.reshape(K.shape[0],)  * np.real( mat @ temp ) # The factor 2 comes from evenness of the integrand\n",
        "  return V"
      ],
      "metadata": {
        "id": "Cban15hAdbnx"
      },
      "execution_count": 21,
      "outputs": []
    },
    {
      "cell_type": "code",
      "source": [
        "############### Model and payoff parameters ###############\n",
        "K_grid = list(np.linspace(80,120,40)) # strike prices grid\n",
        "r = 0\n",
        "T = 1\n",
        "nu = 0.2\n",
        "dimension = 1\n",
        "S0 = 100 * np.ones(dimension)\n",
        "sigma = 0.2*np.ones(dimension)\n",
        "theta = -0.3*np.ones(dimension)\n",
        "rho = np.identity(dimension)\n",
        "SIGMA = covariance_matrix(sigma,rho)\n",
        "\n",
        "############### Setting for the optimal damping parameters #############\n",
        "# Constraints related to the strip of regularity of the payoff transform\n",
        "def rainbow_constraint_1(R):\n",
        "  return -1*R\n",
        "def rainbow_constraint_2(R):\n",
        "  return -1 - np.sum(R)\n",
        "cons = ( {'type': 'ineq', 'fun': rainbow_constraint_1},\n",
        "        {'type': 'ineq', 'fun': rainbow_constraint_2},)\n",
        "R_init = -2*np.ones(dimension) # initial parameters R needs to belong to the strip of analyticity of the integrand\n",
        "K = np.median(K_grid)\n",
        "optimal_R = optimize.minimize(fun = integrand_to_optimize_VG_call_on_min, constraints = cons, x0 = R_init , method = \"trust-constr\" )\n",
        "#print(optimal_R) # uncomment to see wether the optimizer converged succesfully.\n",
        "R = optimal_R.x\n",
        "print(\"Optimal damping parameters:\", R)\n",
        "\n",
        "############### Laguerre Quadrature parameters ###############\n",
        "N = 2**3 # number of Gauss-Laguerre quadrature points per dimension.\n",
        "LagQUAD_estimates = multistrike_LagQUAD_fourier_VG_vanilla_call_pricer(S0,K_grid,r,T,sigma,rho,theta,nu,SIGMA,N,R)\n",
        "print(\"LagQUAD estimates =\", LagQUAD_estimates )"
      ],
      "metadata": {
        "colab": {
          "base_uri": "https://localhost:8080/"
        },
        "id": "0L_6sT8Ednfd",
        "outputId": "a6822d27-4f46-4105-d7f2-06dd59e778ac"
      },
      "execution_count": 38,
      "outputs": [
        {
          "output_type": "stream",
          "name": "stdout",
          "text": [
            "Optimal damping parameters: [-7.70210902]\n",
            "LagQUAD estimates = [22.29791168 21.47390498 20.66417287 19.86886685 19.08812647 18.32211454\n",
            " 17.57103641 16.83514598 16.11474205 15.41015828 14.72174953 14.04987716\n",
            " 13.39489487 12.75713633 12.13690516 11.53446752 10.95004725 10.38382312\n",
            "  9.83592806  9.30644951  8.79543096  8.3028738   7.82873952  7.37295189\n",
            "  6.9353989   6.51593452  6.11438016  5.73052585  5.36413122  5.01492638\n",
            "  4.6826127   4.36686367  4.06732582  3.78361984  3.51534188  3.2620651\n",
            "  3.02334145  2.79870373  2.58766783  2.38973516]\n"
          ]
        }
      ]
    },
    {
      "cell_type": "markdown",
      "source": [
        "# Multidimensional multistrike vectorized implementation (caching)"
      ],
      "metadata": {
        "id": "MkMfU5W9e9uE"
      }
    },
    {
      "cell_type": "code",
      "source": [
        "def phase_factor(u,X0):\n",
        "  return np.exp(1j * u @ X0.T )\n",
        "\n",
        "def multistrike_LagQUAD_fourier_VG_call_on_min_pricer(S0,K,r,T,sigma,rho,theta,nu,SIGMA,N,R):\n",
        "  d=len(S0) #number of underlying stocks / dimensionality of the problem\n",
        "  K = np.array(K).reshape([len(K),1]) # list of strikes to be valued simulatenously\n",
        "  k = K.shape[0] # number of strikes to be valued\n",
        "  [u,w] = np.polynomial.laguerre.laggauss(N) #returns Laguerre quadrature nodes and weights.\n",
        "  u_1d=[u for i in range(d)] # Nxd array of 1D abcissas\n",
        "  w_1d=[w for i in range(d)] # Nxd array of 1D weights\n",
        "  u = np.asarray(list(product(*u_1d))) # N^d x d: array of N^d d-dimensional points\n",
        "  w = np.asarray(list(product(*w_1d))) # N^d x d: array of N^d d-dimensional weights\n",
        "  u_laguerre_scaling = np.repeat(a = u, repeats = 2**d ,axis = 0) # Repeats each element of the array 2**d times before moving to next element\n",
        "  w = np.repeat(a = w, repeats = 2**d ,axis = 0) # Repeats each element of the array 2**d times before moving to next element\n",
        "  u = np.vstack(np.array(list(map(laguerre_combinations, u)))) # creates all possible combinations of multiplying by -1.\n",
        "  X0 = np.log(np.divide(S0,K)) #element-wise division X_0 is logarithm of stock price at initial time - Division by d is intrinsic to basket option for equally weighted average\n",
        "  phi_values = np.array(list(map(lambda u: VG_characteristic_function(u + 1j*R, SIGMA, T, r, theta, nu), u) ) , dtype = complex) # characteristic function evaluations\n",
        "  p_values = np.array(list(map(fourier_payoff_call_on_min, u+1j*R)), dtype = complex) # payoff transform evaluations\n",
        "  w_prod_values = np.prod(w,axis = 1) # contains product of weights for each multi-index\n",
        "  reciprocal_weight_function = np.exp(np.sum(u_laguerre_scaling,axis = 1 ))  # contains the inverse of the weight function applied to use Gauss-Laguerre.\n",
        "  temp =  p_values * phi_values * w_prod_values * reciprocal_weight_function\n",
        "  mat = np.array(list(map(lambda u: phase_factor(u,X0), u)))\n",
        "  K_factor = (2*np.pi)**(-d) * np.exp(-r*T) * K *  np.exp(-1*np.einsum(\"ij,ij->i\", np.tile(R,(k,1)), X0)).reshape(k,1) # Einstein sumation allows for dot product row-by-row between two matrices. Tiling repeats the vector k times, axis = 1 is to make sure we copy rows.\n",
        "  V = K_factor  * np.real(np.einsum(\"ij,ij->i\", mat.T, np.tile(temp,(k,1)))).reshape(k,1)\n",
        "  return V"
      ],
      "metadata": {
        "id": "0sKYHyWhfDkB"
      },
      "execution_count": 36,
      "outputs": []
    },
    {
      "cell_type": "code",
      "source": [
        "############### Model and payoff parameters ###############\n",
        "K_grid = list(np.linspace(80,120,40)) # strike prices grid\n",
        "r = 0\n",
        "T = 1\n",
        "nu = 0.2\n",
        "dimension = 3\n",
        "S0 = 100 * np.ones(dimension)\n",
        "sigma = 0.2*np.ones(dimension)\n",
        "theta = -0.3*np.ones(dimension)\n",
        "rho = np.identity(dimension)\n",
        "SIGMA = covariance_matrix(sigma,rho)\n",
        "############### Setting for the optimal damping parameters #############\n",
        "# Constraints related to the strip of regularity of the payoff transform\n",
        "def rainbow_constraint_1(R):\n",
        "  return -1*R\n",
        "def rainbow_constraint_2(R):\n",
        "  return -1 - np.sum(R)\n",
        "cons = ( {'type': 'ineq', 'fun': rainbow_constraint_1},\n",
        "        {'type': 'ineq', 'fun': rainbow_constraint_2},)\n",
        "R_init = -2*np.ones(dimension) # initial parameters R needs to belong to the strip of analyticity of the integrand\n",
        "K = np.median(K_grid)\n",
        "optimal_R = optimize.minimize(fun = integrand_to_optimize_VG_call_on_min, constraints = cons, x0 = R_init , method = \"Nelder-Mead\" )\n",
        "#print(optimal_R) # uncomment to see wether the optimizer converged succesfully.\n",
        "R = optimal_R.x\n",
        "print(\"Optimal damping parameters:\", R)\n",
        "\n",
        "############### Laguerre Quadrature parameters ###############\n",
        "N = 2**3 # number of Gauss-Laguerre quadrature points per dimension.\n",
        "LagQUAD_estimates = multistrike_LagQUAD_fourier_VG_call_on_min_pricer(S0,K_grid,r,T,sigma,rho,theta,nu,SIGMA,N,R)\n",
        "print(\"LagQUAD estimates =\", LagQUAD_estimates )"
      ],
      "metadata": {
        "colab": {
          "base_uri": "https://localhost:8080/"
        },
        "id": "DN3cFPJ5faWj",
        "outputId": "a4e8aa4a-7819-442d-c444-35f1ccf2b7ae"
      },
      "execution_count": 44,
      "outputs": [
        {
          "output_type": "stream",
          "name": "stdout",
          "text": [
            "Optimal damping parameters: [-5.83641532 -5.83637836 -5.83641692]\n",
            "LagQUAD estimates = [[9.71032593]\n",
            " [9.09980852]\n",
            " [8.51215251]\n",
            " [7.94719344]\n",
            " [7.40477237]\n",
            " [6.88474686]\n",
            " [6.38699713]\n",
            " [5.91142704]\n",
            " [5.4579595 ]\n",
            " [5.02652562]\n",
            " [4.61704851]\n",
            " [4.22942391]\n",
            " [3.86350067]\n",
            " [3.51906395]\n",
            " [3.19582335]\n",
            " [2.89340685]\n",
            " [2.61136035]\n",
            " [2.34915173]\n",
            " [2.10617803]\n",
            " [1.8817745 ]\n",
            " [1.67522442]\n",
            " [1.48576879]\n",
            " [1.31261574]\n",
            " [1.15494916]\n",
            " [1.01193651]\n",
            " [0.88273598]\n",
            " [0.76650274]\n",
            " [0.66239454]\n",
            " [0.56957665]\n",
            " [0.48722615]\n",
            " [0.41453582]\n",
            " [0.35071753]\n",
            " [0.29500545]\n",
            " [0.24665897]\n",
            " [0.20496561]\n",
            " [0.16924374]\n",
            " [0.13884536]\n",
            " [0.11315871]\n",
            " [0.09161059]\n",
            " [0.07366853]]\n"
          ]
        }
      ]
    }
  ]
}